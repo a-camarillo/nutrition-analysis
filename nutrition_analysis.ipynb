{
 "cells": [
  {
   "cell_type": "markdown",
   "metadata": {},
   "source": [
    "<center><h1>My Home Nutrition Analysis</h1><center>\n",
    "<img src='https://www.fda.gov/files/nfl-howtounderstand-labeled.png' height=500 width=500 >"
   ]
  },
  {
   "cell_type": "markdown",
   "metadata": {},
   "source": [
    "## Objective:\n",
    "\n",
    "Over the past few years, I have started paying more attention to my nutrition since nutrition is a large part in maintaining a healthy lifestyle. With this analysis I want to observe how the nutrition of foods within my home varies. In addition to our household foods, I collected some nutritional data for fast food items we commonly enjoy.\n",
    "\n",
    "### About The Data:\n",
    "\n",
    "I collected the data by reading the nutrition fact labels on food items within my house. For nutrition on whole fruits and fast food items I took the nutrition from the company's web site. \n",
    "\n",
    "Each item contains its macronutrients and micronutrients with the measures given from the nutrition label. Some items contain a value of `0.99` which is a placeholder I used if the nutrition label said **'< 1g'**. Some items were given a value of zero in certain micronutrients where the micronutrient was labeled with a percentage as opposed to an actual measurement.\n",
    "\n",
    "Not all of the foods in my house were used for this data, I mainly collected the nutrition facts for foods and drinks we regularly consume since there are some items in our pantry which never get touched.\n",
    "\n",
    "**NOTE:**\n",
    "I use the term **\"Caution Zone\"** to describe foods which I feel should should be consumed cautiously. This is not a definitive categorization since most foods can be consumed in moderation and just because an item did not meet the caution criteria does not mean it is exempt from moderation. The values for the cautious zones I used correspond to being 16-20% of my personal daily intake which I determined from a macronutrient calculator which is linked at the end of this notebook.\n"
   ]
  },
  {
   "cell_type": "markdown",
   "metadata": {},
   "source": [
    "## Analysis\n",
    "\n",
    "I will begin by importing the modules, importing the excel file with the data, and making sure there's no missing data or incorrect data types"
   ]
  },
  {
   "cell_type": "code",
   "execution_count": 90,
   "metadata": {},
   "outputs": [],
   "source": [
    "import pandas as pd\n",
    "import seaborn as sns\n",
    "import matplotlib.pyplot as plt\n",
    "import plotly as py\n",
    "import plotly.express as px\n",
    "from plotly.subplots import make_subplots\n",
    "import plotly.graph_objects as go\n"
   ]
  },
  {
   "cell_type": "code",
   "execution_count": 65,
   "metadata": {},
   "outputs": [],
   "source": [
    "df = pd.read_excel('https://github.com/a-camarillo/nutrition-analysis/blob/master/data/nutrition_facts.xlsx?raw=true')"
   ]
  },
  {
   "cell_type": "code",
   "execution_count": 66,
   "metadata": {},
   "outputs": [
    {
     "data": {
      "text/html": [
       "<div>\n",
       "<style scoped>\n",
       "    .dataframe tbody tr th:only-of-type {\n",
       "        vertical-align: middle;\n",
       "    }\n",
       "\n",
       "    .dataframe tbody tr th {\n",
       "        vertical-align: top;\n",
       "    }\n",
       "\n",
       "    .dataframe thead th {\n",
       "        text-align: right;\n",
       "    }\n",
       "</style>\n",
       "<table border=\"1\" class=\"dataframe\">\n",
       "  <thead>\n",
       "    <tr style=\"text-align: right;\">\n",
       "      <th></th>\n",
       "      <th>Food Item</th>\n",
       "      <th>Category</th>\n",
       "      <th>Serving Size</th>\n",
       "      <th>Serving Measurement(grams)</th>\n",
       "      <th>Calories</th>\n",
       "      <th>Total Fat(grams)</th>\n",
       "      <th>Saturated Fat(grams)</th>\n",
       "      <th>Trans Fat(grams)</th>\n",
       "      <th>Polyunsaturated Fat(grams)</th>\n",
       "      <th>Monounsaturated Fat(grams)</th>\n",
       "      <th>...</th>\n",
       "      <th>Vitamin B6</th>\n",
       "      <th>Folate(micrograms</th>\n",
       "      <th>Folic Acid(micrograms)</th>\n",
       "      <th>Vitamin A(micrograms)</th>\n",
       "      <th>Vitamin C(milligrams)</th>\n",
       "      <th>Vitamin E(milligrams)</th>\n",
       "      <th>Zinc(milligrams)</th>\n",
       "      <th>Vitamin B12(micrograms)</th>\n",
       "      <th>Phosphorus(milligrams)</th>\n",
       "      <th>Magnesium(milligrams)</th>\n",
       "    </tr>\n",
       "  </thead>\n",
       "  <tbody>\n",
       "    <tr>\n",
       "      <th>0</th>\n",
       "      <td>Oroweat Whole Wheat Bread</td>\n",
       "      <td>Bread</td>\n",
       "      <td>1 Slice</td>\n",
       "      <td>38.0</td>\n",
       "      <td>100</td>\n",
       "      <td>1.0</td>\n",
       "      <td>0.0</td>\n",
       "      <td>0.0</td>\n",
       "      <td>0.5</td>\n",
       "      <td>0.0</td>\n",
       "      <td>...</td>\n",
       "      <td>0.0</td>\n",
       "      <td>0</td>\n",
       "      <td>0</td>\n",
       "      <td>0.0</td>\n",
       "      <td>0.0</td>\n",
       "      <td>0.0</td>\n",
       "      <td>0.0</td>\n",
       "      <td>0.0</td>\n",
       "      <td>0</td>\n",
       "      <td>0</td>\n",
       "    </tr>\n",
       "    <tr>\n",
       "      <th>1</th>\n",
       "      <td>Cap'n Crunch Crunch Berries</td>\n",
       "      <td>Cereal</td>\n",
       "      <td>1 Cup</td>\n",
       "      <td>37.0</td>\n",
       "      <td>150</td>\n",
       "      <td>2.0</td>\n",
       "      <td>0.5</td>\n",
       "      <td>0.0</td>\n",
       "      <td>0.0</td>\n",
       "      <td>0.5</td>\n",
       "      <td>...</td>\n",
       "      <td>0.4</td>\n",
       "      <td>200</td>\n",
       "      <td>133</td>\n",
       "      <td>0.0</td>\n",
       "      <td>0.0</td>\n",
       "      <td>0.0</td>\n",
       "      <td>0.0</td>\n",
       "      <td>0.0</td>\n",
       "      <td>0</td>\n",
       "      <td>0</td>\n",
       "    </tr>\n",
       "    <tr>\n",
       "      <th>2</th>\n",
       "      <td>Cap'n Crunch</td>\n",
       "      <td>Cereal</td>\n",
       "      <td>1 Cup</td>\n",
       "      <td>38.0</td>\n",
       "      <td>150</td>\n",
       "      <td>2.0</td>\n",
       "      <td>0.5</td>\n",
       "      <td>0.0</td>\n",
       "      <td>0.0</td>\n",
       "      <td>0.5</td>\n",
       "      <td>...</td>\n",
       "      <td>0.4</td>\n",
       "      <td>200</td>\n",
       "      <td>134</td>\n",
       "      <td>0.0</td>\n",
       "      <td>0.0</td>\n",
       "      <td>0.0</td>\n",
       "      <td>0.0</td>\n",
       "      <td>0.0</td>\n",
       "      <td>0</td>\n",
       "      <td>0</td>\n",
       "    </tr>\n",
       "    <tr>\n",
       "      <th>3</th>\n",
       "      <td>Kellogg's Froot Loops</td>\n",
       "      <td>Cereal</td>\n",
       "      <td>1 1/3 Cup</td>\n",
       "      <td>39.0</td>\n",
       "      <td>150</td>\n",
       "      <td>1.5</td>\n",
       "      <td>0.5</td>\n",
       "      <td>0.0</td>\n",
       "      <td>0.0</td>\n",
       "      <td>0.0</td>\n",
       "      <td>...</td>\n",
       "      <td>0.0</td>\n",
       "      <td>0</td>\n",
       "      <td>45</td>\n",
       "      <td>0.0</td>\n",
       "      <td>0.0</td>\n",
       "      <td>0.0</td>\n",
       "      <td>0.0</td>\n",
       "      <td>0.0</td>\n",
       "      <td>0</td>\n",
       "      <td>0</td>\n",
       "    </tr>\n",
       "    <tr>\n",
       "      <th>4</th>\n",
       "      <td>Post Honey Bunches of Oats</td>\n",
       "      <td>Cereal</td>\n",
       "      <td>1 Cup</td>\n",
       "      <td>42.0</td>\n",
       "      <td>170</td>\n",
       "      <td>3.0</td>\n",
       "      <td>0.0</td>\n",
       "      <td>0.0</td>\n",
       "      <td>0.5</td>\n",
       "      <td>1.5</td>\n",
       "      <td>...</td>\n",
       "      <td>0.0</td>\n",
       "      <td>400</td>\n",
       "      <td>240</td>\n",
       "      <td>0.0</td>\n",
       "      <td>0.0</td>\n",
       "      <td>0.0</td>\n",
       "      <td>0.0</td>\n",
       "      <td>0.0</td>\n",
       "      <td>0</td>\n",
       "      <td>0</td>\n",
       "    </tr>\n",
       "  </tbody>\n",
       "</table>\n",
       "<p>5 rows × 34 columns</p>\n",
       "</div>"
      ],
      "text/plain": [
       "                     Food Item Category Serving Size  \\\n",
       "0    Oroweat Whole Wheat Bread    Bread     1 Slice    \n",
       "1  Cap'n Crunch Crunch Berries   Cereal        1 Cup   \n",
       "2                Cap'n Crunch    Cereal        1 Cup   \n",
       "3        Kellogg's Froot Loops   Cereal    1 1/3 Cup   \n",
       "4   Post Honey Bunches of Oats   Cereal        1 Cup   \n",
       "\n",
       "   Serving Measurement(grams)  Calories  Total Fat(grams)  \\\n",
       "0                        38.0       100               1.0   \n",
       "1                        37.0       150               2.0   \n",
       "2                        38.0       150               2.0   \n",
       "3                        39.0       150               1.5   \n",
       "4                        42.0       170               3.0   \n",
       "\n",
       "   Saturated Fat(grams)  Trans Fat(grams)  Polyunsaturated Fat(grams)  \\\n",
       "0                   0.0               0.0                         0.5   \n",
       "1                   0.5               0.0                         0.0   \n",
       "2                   0.5               0.0                         0.0   \n",
       "3                   0.5               0.0                         0.0   \n",
       "4                   0.0               0.0                         0.5   \n",
       "\n",
       "   Monounsaturated Fat(grams)  ...  Vitamin B6  Folate(micrograms  \\\n",
       "0                         0.0  ...         0.0                  0   \n",
       "1                         0.5  ...         0.4                200   \n",
       "2                         0.5  ...         0.4                200   \n",
       "3                         0.0  ...         0.0                  0   \n",
       "4                         1.5  ...         0.0                400   \n",
       "\n",
       "   Folic Acid(micrograms)  Vitamin A(micrograms)  Vitamin C(milligrams)  \\\n",
       "0                       0                    0.0                    0.0   \n",
       "1                     133                    0.0                    0.0   \n",
       "2                     134                    0.0                    0.0   \n",
       "3                      45                    0.0                    0.0   \n",
       "4                     240                    0.0                    0.0   \n",
       "\n",
       "   Vitamin E(milligrams)  Zinc(milligrams)  Vitamin B12(micrograms)  \\\n",
       "0                    0.0               0.0                      0.0   \n",
       "1                    0.0               0.0                      0.0   \n",
       "2                    0.0               0.0                      0.0   \n",
       "3                    0.0               0.0                      0.0   \n",
       "4                    0.0               0.0                      0.0   \n",
       "\n",
       "   Phosphorus(milligrams)  Magnesium(milligrams)  \n",
       "0                       0                      0  \n",
       "1                       0                      0  \n",
       "2                       0                      0  \n",
       "3                       0                      0  \n",
       "4                       0                      0  \n",
       "\n",
       "[5 rows x 34 columns]"
      ]
     },
     "execution_count": 66,
     "metadata": {},
     "output_type": "execute_result"
    }
   ],
   "source": [
    "df.head()"
   ]
  },
  {
   "cell_type": "code",
   "execution_count": 70,
   "metadata": {},
   "outputs": [
    {
     "data": {
      "text/plain": [
       "Food Item                     0\n",
       "Category                      0\n",
       "Serving Size                  0\n",
       "Serving Measurement(grams)    0\n",
       "Calories                      0\n",
       "Total Fat(grams)              0\n",
       "Saturated Fat(grams)          0\n",
       "Trans Fat(grams)              0\n",
       "Polyunsaturated Fat(grams)    0\n",
       "Monounsaturated Fat(grams)    0\n",
       "Cholesterol(milligrams)       0\n",
       "Sodium(milligrams)            0\n",
       "Total Carbohydrates(grams)    0\n",
       "Fiber(grams)                  0\n",
       "Total Sugars(grams)           0\n",
       "Added Sugars(grams)           0\n",
       "Protein(grams)                0\n",
       "Vitamin D(micrograms)         0\n",
       "Calcium(milligrams)           0\n",
       "Iron(milligrams)              0\n",
       "Potassium(milligrams)         0\n",
       "Thiamin(milligrams)           0\n",
       "Riboflavin(milligrams)        0\n",
       "Niacin(milligrams)            0\n",
       "Vitamin B6                    0\n",
       "Folate(micrograms             0\n",
       "Folic Acid(micrograms)        0\n",
       "Vitamin A(micrograms)         0\n",
       "Vitamin C(milligrams)         0\n",
       "Vitamin E(milligrams)         0\n",
       "Zinc(milligrams)              0\n",
       "Vitamin B12(micrograms)       0\n",
       "Phosphorus(milligrams)        0\n",
       "Magnesium(milligrams)         0\n",
       "dtype: int64"
      ]
     },
     "execution_count": 70,
     "metadata": {},
     "output_type": "execute_result"
    }
   ],
   "source": [
    "df.isna().sum()"
   ]
  },
  {
   "cell_type": "code",
   "execution_count": 71,
   "metadata": {},
   "outputs": [
    {
     "data": {
      "text/plain": [
       "Food Item                      object\n",
       "Category                       object\n",
       "Serving Size                   object\n",
       "Serving Measurement(grams)    float64\n",
       "Calories                        int64\n",
       "Total Fat(grams)              float64\n",
       "Saturated Fat(grams)          float64\n",
       "Trans Fat(grams)              float64\n",
       "Polyunsaturated Fat(grams)    float64\n",
       "Monounsaturated Fat(grams)    float64\n",
       "Cholesterol(milligrams)         int64\n",
       "Sodium(milligrams)              int64\n",
       "Total Carbohydrates(grams)      int64\n",
       "Fiber(grams)                  float64\n",
       "Total Sugars(grams)           float64\n",
       "Added Sugars(grams)           float64\n",
       "Protein(grams)                float64\n",
       "Vitamin D(micrograms)         float64\n",
       "Calcium(milligrams)             int64\n",
       "Iron(milligrams)              float64\n",
       "Potassium(milligrams)           int64\n",
       "Thiamin(milligrams)           float64\n",
       "Riboflavin(milligrams)        float64\n",
       "Niacin(milligrams)            float64\n",
       "Vitamin B6                    float64\n",
       "Folate(micrograms               int64\n",
       "Folic Acid(micrograms)          int64\n",
       "Vitamin A(micrograms)         float64\n",
       "Vitamin C(milligrams)         float64\n",
       "Vitamin E(milligrams)         float64\n",
       "Zinc(milligrams)              float64\n",
       "Vitamin B12(micrograms)       float64\n",
       "Phosphorus(milligrams)          int64\n",
       "Magnesium(milligrams)           int64\n",
       "dtype: object"
      ]
     },
     "execution_count": 71,
     "metadata": {},
     "output_type": "execute_result"
    }
   ],
   "source": [
    "df.dtypes"
   ]
  },
  {
   "cell_type": "markdown",
   "metadata": {},
   "source": [
    "There are no missing values and all of the data types are as expected so now I'm going to do some quick cleaning of the column names to make things a little easier"
   ]
  },
  {
   "cell_type": "code",
   "execution_count": 72,
   "metadata": {},
   "outputs": [],
   "source": [
    "\"hide_cell\"\n",
    "df.columns = map(str.lower, df.columns)\n",
    "df.columns = [column.replace(' ','_') for column in df.columns]\n",
    "df.columns = [column.replace('(grams)','_g') for column in df.columns]\n",
    "df.columns = [column.replace('(milligrams)','_mg') for column in df.columns]\n",
    "df.columns = [column.replace('(micrograms)','_mcg') for column in df.columns]"
   ]
  },
  {
   "cell_type": "code",
   "execution_count": 73,
   "metadata": {},
   "outputs": [
    {
     "data": {
      "text/plain": [
       "Index(['food_item', 'category', 'serving_size', 'serving_measurement_g',\n",
       "       'calories', 'total_fat_g', 'saturated_fat_g', 'trans_fat_g',\n",
       "       'polyunsaturated_fat_g', 'monounsaturated_fat_g', 'cholesterol_mg',\n",
       "       'sodium_mg', 'total_carbohydrates_g', 'fiber_g', 'total_sugars_g',\n",
       "       'added_sugars_g', 'protein_g', 'vitamin_d_mcg', 'calcium_mg', 'iron_mg',\n",
       "       'potassium_mg', 'thiamin_mg', 'riboflavin_mg', 'niacin_mg',\n",
       "       'vitamin_b6', 'folate(micrograms', 'folic_acid_mcg', 'vitamin_a_mcg',\n",
       "       'vitamin_c_mg', 'vitamin_e_mg', 'zinc_mg', 'vitamin_b12_mcg',\n",
       "       'phosphorus_mg', 'magnesium_mg'],\n",
       "      dtype='object')"
      ]
     },
     "execution_count": 73,
     "metadata": {},
     "output_type": "execute_result"
    }
   ],
   "source": [
    "\"hide_cell\"\n",
    "df.columns"
   ]
  },
  {
   "cell_type": "code",
   "execution_count": 74,
   "metadata": {},
   "outputs": [],
   "source": [
    "\"hide_cell\"\n",
    "#One more rename to deal with sneaky folate\n",
    "df.rename(columns={'folate(micrograms':'folate_mcg'},inplace=True)"
   ]
  },
  {
   "cell_type": "code",
   "execution_count": 75,
   "metadata": {},
   "outputs": [
    {
     "data": {
      "text/plain": [
       "Index(['food_item', 'category', 'serving_size', 'serving_measurement_g',\n",
       "       'calories', 'total_fat_g', 'saturated_fat_g', 'trans_fat_g',\n",
       "       'polyunsaturated_fat_g', 'monounsaturated_fat_g', 'cholesterol_mg',\n",
       "       'sodium_mg', 'total_carbohydrates_g', 'fiber_g', 'total_sugars_g',\n",
       "       'added_sugars_g', 'protein_g', 'vitamin_d_mcg', 'calcium_mg', 'iron_mg',\n",
       "       'potassium_mg', 'thiamin_mg', 'riboflavin_mg', 'niacin_mg',\n",
       "       'vitamin_b6', 'folate_mcg', 'folic_acid_mcg', 'vitamin_a_mcg',\n",
       "       'vitamin_c_mg', 'vitamin_e_mg', 'zinc_mg', 'vitamin_b12_mcg',\n",
       "       'phosphorus_mg', 'magnesium_mg'],\n",
       "      dtype='object')"
      ]
     },
     "execution_count": 75,
     "metadata": {},
     "output_type": "execute_result"
    }
   ],
   "source": [
    "df.columns"
   ]
  },
  {
   "cell_type": "markdown",
   "metadata": {},
   "source": [
    "Before I begin visualizing the data, I am going to create a function for normalization allowing for another comparison of each food item."
   ]
  },
  {
   "cell_type": "code",
   "execution_count": 76,
   "metadata": {},
   "outputs": [],
   "source": [
    "def per_100g(Series):\n",
    "    ''' Pass in a macronutrient series and find it's value per 100 grams\n",
    "        for each item '''\n",
    "    \n",
    "    value = (Series/df['serving_measurement_g']) * 100 \n",
    "    return value"
   ]
  },
  {
   "cell_type": "markdown",
   "metadata": {},
   "source": [
    "## Fat\n",
    "\n",
    "First macronutrient I want analyze is total fat, I will begin by adding a column for fat per 100 grams, and looking at some of the top results"
   ]
  },
  {
   "cell_type": "code",
   "execution_count": 11,
   "metadata": {},
   "outputs": [],
   "source": [
    "\"hide_cell\"\n",
    "fat = df[['food_item','serving_size','serving_measurement_g','total_fat_g']]"
   ]
  },
  {
   "cell_type": "code",
   "execution_count": 12,
   "metadata": {},
   "outputs": [
    {
     "data": {
      "text/html": [
       "<div>\n",
       "<style scoped>\n",
       "    .dataframe tbody tr th:only-of-type {\n",
       "        vertical-align: middle;\n",
       "    }\n",
       "\n",
       "    .dataframe tbody tr th {\n",
       "        vertical-align: top;\n",
       "    }\n",
       "\n",
       "    .dataframe thead th {\n",
       "        text-align: right;\n",
       "    }\n",
       "</style>\n",
       "<table border=\"1\" class=\"dataframe\">\n",
       "  <thead>\n",
       "    <tr style=\"text-align: right;\">\n",
       "      <th></th>\n",
       "      <th>food_item</th>\n",
       "      <th>serving_size</th>\n",
       "      <th>serving_measurement_g</th>\n",
       "      <th>total_fat_g</th>\n",
       "    </tr>\n",
       "  </thead>\n",
       "  <tbody>\n",
       "    <tr>\n",
       "      <th>0</th>\n",
       "      <td>Oroweat Whole Wheat Bread</td>\n",
       "      <td>1 Slice</td>\n",
       "      <td>38.0</td>\n",
       "      <td>1.0</td>\n",
       "    </tr>\n",
       "    <tr>\n",
       "      <th>1</th>\n",
       "      <td>Cap'n Crunch Crunch Berries</td>\n",
       "      <td>1 Cup</td>\n",
       "      <td>37.0</td>\n",
       "      <td>2.0</td>\n",
       "    </tr>\n",
       "  </tbody>\n",
       "</table>\n",
       "</div>"
      ],
      "text/plain": [
       "                     food_item serving_size  serving_measurement_g  \\\n",
       "0    Oroweat Whole Wheat Bread     1 Slice                    38.0   \n",
       "1  Cap'n Crunch Crunch Berries        1 Cup                   37.0   \n",
       "\n",
       "   total_fat_g  \n",
       "0          1.0  \n",
       "1          2.0  "
      ]
     },
     "execution_count": 12,
     "metadata": {},
     "output_type": "execute_result"
    }
   ],
   "source": [
    "\"hide_cell\"\n",
    "fat.head(2)"
   ]
  },
  {
   "cell_type": "code",
   "execution_count": 13,
   "metadata": {},
   "outputs": [],
   "source": [
    "\"hide_cell\"\n",
    "fat.insert(loc=len(fat.columns),column='fat_per_100g',value=per_100g(fat['total_fat_g']))"
   ]
  },
  {
   "cell_type": "code",
   "execution_count": 14,
   "metadata": {},
   "outputs": [],
   "source": [
    "\"hide_cell\"\n",
    "#create a 'caution' column for foods which contain high fat content\n",
    "fat.insert(loc=len(fat.columns),column='caution',value='No')\n",
    "for row in fat.index:\n",
    "    if fat.at[row,'total_fat_g'] >= 10:\n",
    "        fat.at[row,'caution'] = 'Yes'   "
   ]
  },
  {
   "cell_type": "code",
   "execution_count": 15,
   "metadata": {},
   "outputs": [],
   "source": [
    "\"hide_cell\"\n",
    "fat_20 = fat.nlargest(20,'fat_per_100g',keep='all')"
   ]
  },
  {
   "cell_type": "code",
   "execution_count": 16,
   "metadata": {},
   "outputs": [
    {
     "data": {
      "text/plain": [
       "Text(0.5, 1.0, 'Top 20 Items by Fat Per 100g')"
      ]
     },
     "execution_count": 16,
     "metadata": {},
     "output_type": "execute_result"
    },
    {
     "data": {
      "image/png": "[encoded data removed]",
      "text/plain": [
       "<Figure size 576x360 with 1 Axes>"
      ]
     },
     "metadata": {
      "needs_background": "light"
     },
     "output_type": "display_data"
    }
   ],
   "source": [
    "\"hide_input\"\n",
    "plt.figure(figsize=(8,5))\n",
    "sns.barplot(y='food_item',x='fat_per_100g',data=fat_20)\n",
    "plt.title('Top 20 Items by Fat Per 100g')"
   ]
  },
  {
   "cell_type": "markdown",
   "metadata": {},
   "source": [
    "Much to my surprise, Best Foods Mayonnaise and Skippy Peanut Butter are considerably high in fat per 100 grams. As someone who frequently consumes both of these products I will definitely have to monitor my intake to avoid having too much fat in my diet.\n",
    "\n",
    "Another surprise high contender for me is the Ritz Crackers, it's hard to not eat an entire pack of these in one sitting but I might have to reconsider next time a craving hits.\n",
    "\n",
    "Among the top 20 items for fat per 100 grams, the expected fast food items are there but much lower than some of the household items.\n",
    "\n",
    "I want to also look at how the fat per 100 grams compares to a single serving since I am curious to see if the same items are as fatty relative to serving size."
   ]
  },
  {
   "cell_type": "code",
   "execution_count": 1,
   "metadata": {
    "scrolled": false
   },
   "outputs": [
    {
     "ename": "NameError",
     "evalue": "name 'px' is not defined",
     "output_type": "error",
     "traceback": [
      "\u001b[1;31m---------------------------------------------------------------------------\u001b[0m",
      "\u001b[1;31mNameError\u001b[0m                                 Traceback (most recent call last)",
      "\u001b[1;32m<ipython-input-1-ec593772c667>\u001b[0m in \u001b[0;36m<module>\u001b[1;34m\u001b[0m\n\u001b[1;32m----> 1\u001b[1;33m fat_fig = px.scatter(fat,x='serving_measurement_g',y='fat_per_100g',hover_data=['food_item'],\n\u001b[0m\u001b[0;32m      2\u001b[0m                 \u001b[0mlabels\u001b[0m \u001b[1;33m=\u001b[0m \u001b[1;33m{\u001b[0m\u001b[1;34m'serving_measurement_g'\u001b[0m\u001b[1;33m:\u001b[0m\u001b[1;34m'Single Serving In Grams'\u001b[0m\u001b[1;33m,\u001b[0m\u001b[1;34m'fat_per_100g'\u001b[0m\u001b[1;33m:\u001b[0m\u001b[1;34m'Total Fat Per 100 Grams'\u001b[0m\u001b[1;33m}\u001b[0m\u001b[1;33m,\u001b[0m\u001b[1;33m\u001b[0m\u001b[1;33m\u001b[0m\u001b[0m\n\u001b[0;32m      3\u001b[0m                 \u001b[0mtitle\u001b[0m\u001b[1;33m=\u001b[0m\u001b[1;34m'Serving Size vs. Fat Per 100 Grams(Interactive Plot)'\u001b[0m\u001b[1;33m,\u001b[0m\u001b[1;33m\u001b[0m\u001b[1;33m\u001b[0m\u001b[0m\n\u001b[0;32m      4\u001b[0m                 \u001b[0mcolor\u001b[0m\u001b[1;33m=\u001b[0m\u001b[1;34m'caution'\u001b[0m\u001b[1;33m,\u001b[0m\u001b[1;33m\u001b[0m\u001b[1;33m\u001b[0m\u001b[0m\n\u001b[0;32m      5\u001b[0m                 color_discrete_map={'No':'Blue','Yes':'Orange'})\n",
      "\u001b[1;31mNameError\u001b[0m: name 'px' is not defined"
     ]
    }
   ],
   "source": [
    "\"hide_input\"\n",
    "fat_fig = px.scatter(fat,x='serving_measurement_g',y='fat_per_100g',hover_data=['food_item'],\n",
    "                labels = {'serving_measurement_g':'Single Serving In Grams','fat_per_100g':'Total Fat Per 100 Grams'},\n",
    "                title='Serving Size vs. Fat Per 100 Grams(Interactive Plot)',\n",
    "                color='caution',\n",
    "                color_discrete_map={'No':'Blue','Yes':'Orange'})\n",
    "fat_fig.show()"
   ]
  },
  {
   "cell_type": "markdown",
   "metadata": {},
   "source": []
  },
  {
   "cell_type": "markdown",
   "metadata": {},
   "source": [
    "The above plot compares each item's single serving to its respective total fat per 100 grams. Some takeaways from this plot are:\n",
    "\n",
    "**Assuming you adhere to proper serving sizes**, Ritz Crackers and the Sabra Hummus are not as fattening as the previous plot might have indicated. Due to each having a small serving size relative to fat per 100 grams, the actual fat per serving becomes relatively small(about 5g each).\n",
    "\n",
    "Lucerne Cheese Blend is also not as bad as the fat per 100 grams alone might have indicated, however it should still be consumed cautiously since the fat for a single serving is still about.\n",
    "\n",
    "**THE CAUTION ZONE:**\n",
    "I am considering the caution zone(for total fat) to be foods that are shown to have high fat content per serving(greater than or equal to 10g). These can easily be identified as the items around the 10g mark for Total Fat Per 100 Grams and 100 gram Serving Size or greater. \n",
    "\n",
    "Looking all the way to the right is my go to Rubio's choice, the Ancho Citrus Shrimp Burrito. At about 450 grams for the burrito and 10 grams of fat per 100 grams of serving, this burrito packs a whopping <ins>45 grams of fat</ins>. This is definitely something to take note of as I have never shied away from eating the whole thing in one sitting.\n",
    "\n",
    "On the opposite side of the graph, but should be noted as well is one of my favorites, Skippy Creamy Peanut Butter. Although its serving size is on the lower end, the high fat per 100 grams reveals a single serving of peanut butter to have about 16 grams of fat. Again, the amount of Peanut Butter I use is something I will have to keep in mind the next I go to make a sandwich.\n",
    "\n",
    "Other culprits of high fat vary from fast food items like fries to some favorite household foods like tortillas.\n",
    "\n",
    "I would also like to reiterate, as I likely will in each section, the caution zone is not definitive and does not mean these items have to be exempt from one's diet rather I feel they should be consumed moderately."
   ]
  },
  {
   "cell_type": "markdown",
   "metadata": {},
   "source": [
    "## Carbohydrates\n",
    "\n",
    "For Carbohydrates and Protein I will perform analysis similar to Fats."
   ]
  },
  {
   "cell_type": "code",
   "execution_count": 18,
   "metadata": {},
   "outputs": [],
   "source": [
    "\"hide_cell\"\n",
    "carbs=df[['food_item','serving_size','serving_measurement_g','total_carbohydrates_g']]"
   ]
  },
  {
   "cell_type": "code",
   "execution_count": 19,
   "metadata": {},
   "outputs": [],
   "source": [
    "\"hide_cell\"\n",
    "carbs.insert(loc=len(carbs.columns),column='carbohydrates_per_100g',value=per_100g(carbs['total_carbohydrates_g']))"
   ]
  },
  {
   "cell_type": "code",
   "execution_count": 20,
   "metadata": {},
   "outputs": [],
   "source": [
    "\"hide_cell\"\n",
    "#create a 'caution' column for foods which contain high fat content\n",
    "carbs.insert(loc=len(carbs.columns),column='caution',value='No')\n",
    "for row in carbs.index:\n",
    "    if carbs.at[row,'total_carbohydrates_g'] >= 44:\n",
    "        carbs.at[row,'caution'] = 'Yes' "
   ]
  },
  {
   "cell_type": "code",
   "execution_count": 21,
   "metadata": {},
   "outputs": [],
   "source": [
    "\"hide_cell\"\n",
    "carbs_20 = carbs.nlargest(20,'carbohydrates_per_100g',keep='all')"
   ]
  },
  {
   "cell_type": "code",
   "execution_count": 22,
   "metadata": {},
   "outputs": [
    {
     "data": {
      "text/plain": [
       "Text(0.5, 1.0, 'Top 20 Items by Carbohydrates Per 100g')"
      ]
     },
     "execution_count": 22,
     "metadata": {},
     "output_type": "execute_result"
    },
    {
     "data": {
      "image/png": "[encoded data removed]",
      "text/plain": [
       "<Figure size 576x360 with 1 Axes>"
      ]
     },
     "metadata": {
      "needs_background": "light"
     },
     "output_type": "display_data"
    }
   ],
   "source": [
    "\"hide_input\"\n",
    "plt.figure(figsize=(8,5))\n",
    "sns.barplot(y='food_item',x='carbohydrates_per_100g',data=carbs_20)\n",
    "plt.title('Top 20 Items by Carbohydrates Per 100g')"
   ]
  },
  {
   "cell_type": "markdown",
   "metadata": {},
   "source": [
    "Looking at the carbohydrates per 100 gram the main culprits are, for the most part, as expected. A lot of items in this list are grain based products which are known to have a higher carbohydrate content.\n",
    "\n",
    "The surprise items for this list are the fruit snacks, Fruit By The Foot and Welch's mixed fruit. Being fruit based foods I did not expect these to rank high in carbohydrates."
   ]
  },
  {
   "cell_type": "code",
   "execution_count": 23,
   "metadata": {
    "scrolled": false
   },
   "outputs": [
    {
     "data": {
      "application/vnd.plotly.v1+json": {
       "config": {
        "plotlyServerURL": "https://plot.ly"
       },
       "data": [
        {
         "customdata": [
          [
           "Oroweat Whole Wheat Bread"
          ],
          [
           "Cap'n Crunch Crunch Berries"
          ],
          [
           "Cap'n Crunch "
          ],
          [
           "Kellogg's Froot Loops"
          ],
          [
           "Post Honey Bunches of Oats"
          ],
          [
           "Kellogg's Frosted Flakes"
          ],
          [
           "General Mills Lucky Charms"
          ],
          [
           "Ritz Crackers"
          ],
          [
           "General Mills Fruit By The Foot"
          ],
          [
           "Welch's Mixed Fruit"
          ],
          [
           "Heinz Tomato Ketchup No Sugar Added"
          ],
          [
           "Best Foods Mayonnaise"
          ],
          [
           "Ball Park Hot Dog Buns"
          ],
          [
           "Kraft Macaroni & Cheese Single Serve"
          ],
          [
           "Starkist Tuna Creations Ranch"
          ],
          [
           "Starkist Tuna Creations Sweet & Spicy"
          ],
          [
           "Starkist Chunk Light Tuna "
          ],
          [
           "Skippy Creamy Peanut Butter"
          ],
          [
           "Smuckers Goober Grape"
          ],
          [
           "Smuckers Goober Strawberry"
          ],
          [
           "Aunt Jemima Butter Lite Syrup"
          ],
          [
           "Lactaid 2% Reduced Fat Milk"
          ],
          [
           "Almond Breeze Almond Milk Unsweetened Vanilla"
          ],
          [
           "Nestle Coffe Mate French Vanilla Creamer"
          ],
          [
           "Nestle Coffe Mate French Vanilla Creamer Sugar Free"
          ],
          [
           "Coca-Cola Diet Coke"
          ],
          [
           "Danimals Smoothie Strawberry Flavor"
          ],
          [
           "Danimals Smoothie Birthday Cake Flavor"
          ],
          [
           "Quaker Oats Old Fashioned Oats"
          ],
          [
           "yummy Chicken Breast Nuggets"
          ],
          [
           "Royal Asia Vegetable Spring Rolls"
          ],
          [
           "Dole Banana "
          ],
          [
           "Washington Apple"
          ],
          [
           "Sun Pacific Navel Orange"
          ],
          [
           "Cuties Clementine"
          ],
          [
           "Hoffy Premium Beef Franks"
          ],
          [
           "Guerrero Corn Tortillas"
          ],
          [
           "Ling Ling Pork & Vegetable Dumplings"
          ],
          [
           "Ling Ling Dumpling Sauce"
          ],
          [
           "Foster Farms Ground Turkey 93% Lean"
          ],
          [
           "Belvita Cinnamon Brown Sugar Breakfast Bars"
          ],
          [
           "Mahatma Extra Long Enriched Rice"
          ],
          [
           "Kikkoman Less Sodium Soy Sauce"
          ],
          [
           "Organics Baby Spinach"
          ],
          [
           "Kikkoman Ponzu Citrus Sauce"
          ],
          [
           "Marie's Raspberry Vinaigrette "
          ],
          [
           "Coca-Cola Caffeine Free"
          ],
          [
           "Lucern Mexican Style 4 Cheese Blend"
          ],
          [
           "Sabra Organic Simply Roasted Pine Nut Hummus"
          ],
          [
           "Butterball Sliced Honey Roasted Turkey Breast"
          ],
          [
           "La Preferida Pinto Beans"
          ],
          [
           "Foster Farms Boneless Skinless Chicken Breast"
          ],
          [
           "McDonald's Chicken McNuggets 6 Piece"
          ],
          [
           "McDonald's Barbeque Sauce"
          ],
          [
           "McDonald's Small French Fries"
          ],
          [
           "McDonald's Cheeseburger"
          ],
          [
           "Carl's Jr Kid's Cheeseburger"
          ],
          [
           "Carl's Jr Hand Breaded Chicken Tenders 3 Piece"
          ],
          [
           "El Pollo Loco Fire-Grilled Chicken Leg"
          ],
          [
           "El Pollo Loco Fire-Grilled Chicken Breast"
          ],
          [
           "El Pollo Loco Macaroni and Cheese Side"
          ],
          [
           "Large Egg"
          ],
          [
           "Snickers Bar"
          ],
          [
           "Pizza Hut Medium Hand Tossed Cheese"
          ],
          [
           "Pizza Hut Medium Hand Tossed Pepperoni"
          ],
          [
           "Baskin Robbins Rainbow Sherbet"
          ],
          [
           "Medium Avocado"
          ]
         ],
         "hoverlabel": {
          "namelength": 0
         },
         "hovertemplate": "caution=No<br>Single Serving In Grams=%{x}<br>Total Carbs Per 100 Grams=%{y}<br>food_item=%{customdata[0]}",
         "legendgroup": "caution=No",
         "marker": {
          "color": "Blue",
          "symbol": "circle"
         },
         "mode": "markers",
         "name": "caution=No",
         "showlegend": true,
         "type": "scatter",
         "x": [
          38,
          37,
          38,
          39,
          42,
          40,
          36,
          16,
          21,
          22.7,
          16,
          13,
          50,
          58,
          74,
          74,
          74,
          32,
          56,
          56,
          30,
          240,
          240,
          15,
          15,
          500,
          93,
          93,
          40,
          83,
          113,
          118,
          242,
          140,
          88,
          56,
          47,
          146,
          17,
          112,
          50,
          45,
          15,
          100,
          15,
          32,
          355,
          28,
          28,
          28,
          36,
          112,
          97,
          28,
          71,
          114,
          123,
          128,
          45.4,
          121.9,
          170,
          50,
          44,
          84,
          83,
          71,
          50
         ],
         "xaxis": "x",
         "y": [
          50,
          86.48648648648648,
          86.8421052631579,
          87.17948717948718,
          80.95238095238095,
          90,
          83.33333333333334,
          62.5,
          80.95238095238095,
          74.8898678414097,
          6.25,
          0,
          54,
          68.96551724137932,
          1.3513513513513513,
          5.405405405405405,
          0,
          18.75,
          53.57142857142857,
          51.78571428571429,
          40,
          5.416666666666667,
          0.4166666666666667,
          33.33333333333333,
          6.666666666666667,
          0,
          11.827956989247312,
          11.827956989247312,
          67.5,
          14.457831325301203,
          28.31858407079646,
          22.88135593220339,
          14.049586776859504,
          12.857142857142856,
          10.227272727272728,
          3.571428571428571,
          44.680851063829785,
          26.71232876712329,
          23.52941176470588,
          0,
          70,
          80,
          6.666666666666667,
          4,
          13.333333333333334,
          18.75,
          10.985915492957748,
          3.571428571428571,
          14.285714285714285,
          10.714285714285714,
          61.111111111111114,
          0,
          18.556701030927837,
          42.857142857142854,
          40.845070422535215,
          28.947368421052634,
          27.64227642276423,
          10.15625,
          0,
          0,
          14.117647058823529,
          0,
          63.63636363636363,
          30.952380952380953,
          30.120481927710845,
          23.943661971830984,
          8
         ],
         "yaxis": "y"
        },
        {
         "customdata": [
          [
           "Duncan Hines Blueberry Muffin Mug Cake"
          ],
          [
           "Annie's Organic Macaroni & Cheese Classic Cheddar"
          ],
          [
           "Krusteaz Buttermilk Pancake Mix"
          ],
          [
           "Guerrero 12\" Grande Flour Tortilla"
          ],
          [
           "Carl's Jr Natural Cut Fries Medium"
          ],
          [
           "Rubio's Ancho Citrus Shrimp Burrito"
          ],
          [
           "Quaker Simply Granola Oats, Honey, Raisins, Almonds"
          ]
         ],
         "hoverlabel": {
          "namelength": 0
         },
         "hovertemplate": "caution=Yes<br>Single Serving In Grams=%{x}<br>Total Carbs Per 100 Grams=%{y}<br>food_item=%{customdata[0]}",
         "legendgroup": "caution=Yes",
         "marker": {
          "color": "Orange",
          "symbol": "circle"
         },
         "mode": "markers",
         "name": "caution=Yes",
         "showlegend": true,
         "type": "scatter",
         "x": [
          65,
          71,
          59,
          96,
          147,
          449,
          68
         ],
         "xaxis": "x",
         "y": [
          75.38461538461539,
          70.4225352112676,
          76.27118644067797,
          48.95833333333333,
          37.41496598639456,
          24.4988864142539,
          75
         ],
         "yaxis": "y"
        }
       ],
       "layout": {
        "legend": {
         "tracegroupgap": 0
        },
        "template": {
         "data": {
          "bar": [
           {
            "error_x": {
             "color": "#2a3f5f"
            },
            "error_y": {
             "color": "#2a3f5f"
            },
            "marker": {
             "line": {
              "color": "#E5ECF6",
              "width": 0.5
             }
            },
            "type": "bar"
           }
          ],
          "barpolar": [
           {
            "marker": {
             "line": {
              "color": "#E5ECF6",
              "width": 0.5
             }
            },
            "type": "barpolar"
           }
          ],
          "carpet": [
           {
            "aaxis": {
             "endlinecolor": "#2a3f5f",
             "gridcolor": "white",
             "linecolor": "white",
             "minorgridcolor": "white",
             "startlinecolor": "#2a3f5f"
            },
            "baxis": {
             "endlinecolor": "#2a3f5f",
             "gridcolor": "white",
             "linecolor": "white",
             "minorgridcolor": "white",
             "startlinecolor": "#2a3f5f"
            },
            "type": "carpet"
           }
          ],
          "choropleth": [
           {
            "colorbar": {
             "outlinewidth": 0,
             "ticks": ""
            },
            "type": "choropleth"
           }
          ],
          "contour": [
           {
            "colorbar": {
             "outlinewidth": 0,
             "ticks": ""
            },
            "colorscale": [
             [
              0,
              "#0d0887"
             ],
             [
              0.1111111111111111,
              "#46039f"
             ],
             [
              0.2222222222222222,
              "#7201a8"
             ],
             [
              0.3333333333333333,
              "#9c179e"
             ],
             [
              0.4444444444444444,
              "#bd3786"
             ],
             [
              0.5555555555555556,
              "#d8576b"
             ],
             [
              0.6666666666666666,
              "#ed7953"
             ],
             [
              0.7777777777777778,
              "#fb9f3a"
             ],
             [
              0.8888888888888888,
              "#fdca26"
             ],
             [
              1,
              "#f0f921"
             ]
            ],
            "type": "contour"
           }
          ],
          "contourcarpet": [
           {
            "colorbar": {
             "outlinewidth": 0,
             "ticks": ""
            },
            "type": "contourcarpet"
           }
          ],
          "heatmap": [
           {
            "colorbar": {
             "outlinewidth": 0,
             "ticks": ""
            },
            "colorscale": [
             [
              0,
              "#0d0887"
             ],
             [
              0.1111111111111111,
              "#46039f"
             ],
             [
              0.2222222222222222,
              "#7201a8"
             ],
             [
              0.3333333333333333,
              "#9c179e"
             ],
             [
              0.4444444444444444,
              "#bd3786"
             ],
             [
              0.5555555555555556,
              "#d8576b"
             ],
             [
              0.6666666666666666,
              "#ed7953"
             ],
             [
              0.7777777777777778,
              "#fb9f3a"
             ],
             [
              0.8888888888888888,
              "#fdca26"
             ],
             [
              1,
              "#f0f921"
             ]
            ],
            "type": "heatmap"
           }
          ],
          "heatmapgl": [
           {
            "colorbar": {
             "outlinewidth": 0,
             "ticks": ""
            },
            "colorscale": [
             [
              0,
              "#0d0887"
             ],
             [
              0.1111111111111111,
              "#46039f"
             ],
             [
              0.2222222222222222,
              "#7201a8"
             ],
             [
              0.3333333333333333,
              "#9c179e"
             ],
             [
              0.4444444444444444,
              "#bd3786"
             ],
             [
              0.5555555555555556,
              "#d8576b"
             ],
             [
              0.6666666666666666,
              "#ed7953"
             ],
             [
              0.7777777777777778,
              "#fb9f3a"
             ],
             [
              0.8888888888888888,
              "#fdca26"
             ],
             [
              1,
              "#f0f921"
             ]
            ],
            "type": "heatmapgl"
           }
          ],
          "histogram": [
           {
            "marker": {
             "colorbar": {
              "outlinewidth": 0,
              "ticks": ""
             }
            },
            "type": "histogram"
           }
          ],
          "histogram2d": [
           {
            "colorbar": {
             "outlinewidth": 0,
             "ticks": ""
            },
            "colorscale": [
             [
              0,
              "#0d0887"
             ],
             [
              0.1111111111111111,
              "#46039f"
             ],
             [
              0.2222222222222222,
              "#7201a8"
             ],
             [
              0.3333333333333333,
              "#9c179e"
             ],
             [
              0.4444444444444444,
              "#bd3786"
             ],
             [
              0.5555555555555556,
              "#d8576b"
             ],
             [
              0.6666666666666666,
              "#ed7953"
             ],
             [
              0.7777777777777778,
              "#fb9f3a"
             ],
             [
              0.8888888888888888,
              "#fdca26"
             ],
             [
              1,
              "#f0f921"
             ]
            ],
            "type": "histogram2d"
           }
          ],
          "histogram2dcontour": [
           {
            "colorbar": {
             "outlinewidth": 0,
             "ticks": ""
            },
            "colorscale": [
             [
              0,
              "#0d0887"
             ],
             [
              0.1111111111111111,
              "#46039f"
             ],
             [
              0.2222222222222222,
              "#7201a8"
             ],
             [
              0.3333333333333333,
              "#9c179e"
             ],
             [
              0.4444444444444444,
              "#bd3786"
             ],
             [
              0.5555555555555556,
              "#d8576b"
             ],
             [
              0.6666666666666666,
              "#ed7953"
             ],
             [
              0.7777777777777778,
              "#fb9f3a"
             ],
             [
              0.8888888888888888,
              "#fdca26"
             ],
             [
              1,
              "#f0f921"
             ]
            ],
            "type": "histogram2dcontour"
           }
          ],
          "mesh3d": [
           {
            "colorbar": {
             "outlinewidth": 0,
             "ticks": ""
            },
            "type": "mesh3d"
           }
          ],
          "parcoords": [
           {
            "line": {
             "colorbar": {
              "outlinewidth": 0,
              "ticks": ""
             }
            },
            "type": "parcoords"
           }
          ],
          "pie": [
           {
            "automargin": true,
            "type": "pie"
           }
          ],
          "scatter": [
           {
            "marker": {
             "colorbar": {
              "outlinewidth": 0,
              "ticks": ""
             }
            },
            "type": "scatter"
           }
          ],
          "scatter3d": [
           {
            "line": {
             "colorbar": {
              "outlinewidth": 0,
              "ticks": ""
             }
            },
            "marker": {
             "colorbar": {
              "outlinewidth": 0,
              "ticks": ""
             }
            },
            "type": "scatter3d"
           }
          ],
          "scattercarpet": [
           {
            "marker": {
             "colorbar": {
              "outlinewidth": 0,
              "ticks": ""
             }
            },
            "type": "scattercarpet"
           }
          ],
          "scattergeo": [
           {
            "marker": {
             "colorbar": {
              "outlinewidth": 0,
              "ticks": ""
             }
            },
            "type": "scattergeo"
           }
          ],
          "scattergl": [
           {
            "marker": {
             "colorbar": {
              "outlinewidth": 0,
              "ticks": ""
             }
            },
            "type": "scattergl"
           }
          ],
          "scattermapbox": [
           {
            "marker": {
             "colorbar": {
              "outlinewidth": 0,
              "ticks": ""
             }
            },
            "type": "scattermapbox"
           }
          ],
          "scatterpolar": [
           {
            "marker": {
             "colorbar": {
              "outlinewidth": 0,
              "ticks": ""
             }
            },
            "type": "scatterpolar"
           }
          ],
          "scatterpolargl": [
           {
            "marker": {
             "colorbar": {
              "outlinewidth": 0,
              "ticks": ""
             }
            },
            "type": "scatterpolargl"
           }
          ],
          "scatterternary": [
           {
            "marker": {
             "colorbar": {
              "outlinewidth": 0,
              "ticks": ""
             }
            },
            "type": "scatterternary"
           }
          ],
          "surface": [
           {
            "colorbar": {
             "outlinewidth": 0,
             "ticks": ""
            },
            "colorscale": [
             [
              0,
              "#0d0887"
             ],
             [
              0.1111111111111111,
              "#46039f"
             ],
             [
              0.2222222222222222,
              "#7201a8"
             ],
             [
              0.3333333333333333,
              "#9c179e"
             ],
             [
              0.4444444444444444,
              "#bd3786"
             ],
             [
              0.5555555555555556,
              "#d8576b"
             ],
             [
              0.6666666666666666,
              "#ed7953"
             ],
             [
              0.7777777777777778,
              "#fb9f3a"
             ],
             [
              0.8888888888888888,
              "#fdca26"
             ],
             [
              1,
              "#f0f921"
             ]
            ],
            "type": "surface"
           }
          ],
          "table": [
           {
            "cells": {
             "fill": {
              "color": "#EBF0F8"
             },
             "line": {
              "color": "white"
             }
            },
            "header": {
             "fill": {
              "color": "#C8D4E3"
             },
             "line": {
              "color": "white"
             }
            },
            "type": "table"
           }
          ]
         },
         "layout": {
          "annotationdefaults": {
           "arrowcolor": "#2a3f5f",
           "arrowhead": 0,
           "arrowwidth": 1
          },
          "coloraxis": {
           "colorbar": {
            "outlinewidth": 0,
            "ticks": ""
           }
          },
          "colorscale": {
           "diverging": [
            [
             0,
             "#8e0152"
            ],
            [
             0.1,
             "#c51b7d"
            ],
            [
             0.2,
             "#de77ae"
            ],
            [
             0.3,
             "#f1b6da"
            ],
            [
             0.4,
             "#fde0ef"
            ],
            [
             0.5,
             "#f7f7f7"
            ],
            [
             0.6,
             "#e6f5d0"
            ],
            [
             0.7,
             "#b8e186"
            ],
            [
             0.8,
             "#7fbc41"
            ],
            [
             0.9,
             "#4d9221"
            ],
            [
             1,
             "#276419"
            ]
           ],
           "sequential": [
            [
             0,
             "#0d0887"
            ],
            [
             0.1111111111111111,
             "#46039f"
            ],
            [
             0.2222222222222222,
             "#7201a8"
            ],
            [
             0.3333333333333333,
             "#9c179e"
            ],
            [
             0.4444444444444444,
             "#bd3786"
            ],
            [
             0.5555555555555556,
             "#d8576b"
            ],
            [
             0.6666666666666666,
             "#ed7953"
            ],
            [
             0.7777777777777778,
             "#fb9f3a"
            ],
            [
             0.8888888888888888,
             "#fdca26"
            ],
            [
             1,
             "#f0f921"
            ]
           ],
           "sequentialminus": [
            [
             0,
             "#0d0887"
            ],
            [
             0.1111111111111111,
             "#46039f"
            ],
            [
             0.2222222222222222,
             "#7201a8"
            ],
            [
             0.3333333333333333,
             "#9c179e"
            ],
            [
             0.4444444444444444,
             "#bd3786"
            ],
            [
             0.5555555555555556,
             "#d8576b"
            ],
            [
             0.6666666666666666,
             "#ed7953"
            ],
            [
             0.7777777777777778,
             "#fb9f3a"
            ],
            [
             0.8888888888888888,
             "#fdca26"
            ],
            [
             1,
             "#f0f921"
            ]
           ]
          },
          "colorway": [
           "#636efa",
           "#EF553B",
           "#00cc96",
           "#ab63fa",
           "#FFA15A",
           "#19d3f3",
           "#FF6692",
           "#B6E880",
           "#FF97FF",
           "#FECB52"
          ],
          "font": {
           "color": "#2a3f5f"
          },
          "geo": {
           "bgcolor": "white",
           "lakecolor": "white",
           "landcolor": "#E5ECF6",
           "showlakes": true,
           "showland": true,
           "subunitcolor": "white"
          },
          "hoverlabel": {
           "align": "left"
          },
          "hovermode": "closest",
          "mapbox": {
           "style": "light"
          },
          "paper_bgcolor": "white",
          "plot_bgcolor": "#E5ECF6",
          "polar": {
           "angularaxis": {
            "gridcolor": "white",
            "linecolor": "white",
            "ticks": ""
           },
           "bgcolor": "#E5ECF6",
           "radialaxis": {
            "gridcolor": "white",
            "linecolor": "white",
            "ticks": ""
           }
          },
          "scene": {
           "xaxis": {
            "backgroundcolor": "#E5ECF6",
            "gridcolor": "white",
            "gridwidth": 2,
            "linecolor": "white",
            "showbackground": true,
            "ticks": "",
            "zerolinecolor": "white"
           },
           "yaxis": {
            "backgroundcolor": "#E5ECF6",
            "gridcolor": "white",
            "gridwidth": 2,
            "linecolor": "white",
            "showbackground": true,
            "ticks": "",
            "zerolinecolor": "white"
           },
           "zaxis": {
            "backgroundcolor": "#E5ECF6",
            "gridcolor": "white",
            "gridwidth": 2,
            "linecolor": "white",
            "showbackground": true,
            "ticks": "",
            "zerolinecolor": "white"
           }
          },
          "shapedefaults": {
           "line": {
            "color": "#2a3f5f"
           }
          },
          "ternary": {
           "aaxis": {
            "gridcolor": "white",
            "linecolor": "white",
            "ticks": ""
           },
           "baxis": {
            "gridcolor": "white",
            "linecolor": "white",
            "ticks": ""
           },
           "bgcolor": "#E5ECF6",
           "caxis": {
            "gridcolor": "white",
            "linecolor": "white",
            "ticks": ""
           }
          },
          "title": {
           "x": 0.05
          },
          "xaxis": {
           "automargin": true,
           "gridcolor": "white",
           "linecolor": "white",
           "ticks": "",
           "title": {
            "standoff": 15
           },
           "zerolinecolor": "white",
           "zerolinewidth": 2
          },
          "yaxis": {
           "automargin": true,
           "gridcolor": "white",
           "linecolor": "white",
           "ticks": "",
           "title": {
            "standoff": 15
           },
           "zerolinecolor": "white",
           "zerolinewidth": 2
          }
         }
        },
        "title": {
         "text": "Serving Size vs. Carbohydrates Per 100 Grams(Interactive Plot)"
        },
        "xaxis": {
         "anchor": "y",
         "domain": [
          0,
          1
         ],
         "title": {
          "text": "Single Serving In Grams"
         }
        },
        "yaxis": {
         "anchor": "x",
         "domain": [
          0,
          1
         ],
         "title": {
          "text": "Total Carbs Per 100 Grams"
         }
        }
       }
      },
      "text/html": [
       "<div>\n",
       "        \n",
       "        \n",
       "            <div id=\"3c8a3a2f-da31-4876-8d07-a75b2d201c5d\" class=\"plotly-graph-div\" style=\"height:525px; width:100%;\"></div>\n",
       "            <script type=\"text/javascript\">\n",
       "                require([\"plotly\"], function(Plotly) {\n",
       "                    window.PLOTLYENV=window.PLOTLYENV || {};\n",
       "                    \n",
       "                if (document.getElementById(\"3c8a3a2f-da31-4876-8d07-a75b2d201c5d\")) {\n",
       "                    Plotly.newPlot(\n",
       "                        '3c8a3a2f-da31-4876-8d07-a75b2d201c5d',\n",
       "                        [{\"customdata\": [[\"Oroweat Whole Wheat Bread\"], [\"Cap'n Crunch Crunch Berries\"], [\"Cap'n Crunch \"], [\"Kellogg's Froot Loops\"], [\"Post Honey Bunches of Oats\"], [\"Kellogg's Frosted Flakes\"], [\"General Mills Lucky Charms\"], [\"Ritz Crackers\"], [\"General Mills Fruit By The Foot\"], [\"Welch's Mixed Fruit\"], [\"Heinz Tomato Ketchup No Sugar Added\"], [\"Best Foods Mayonnaise\"], [\"Ball Park Hot Dog Buns\"], [\"Kraft Macaroni & Cheese Single Serve\"], [\"Starkist Tuna Creations Ranch\"], [\"Starkist Tuna Creations Sweet & Spicy\"], [\"Starkist Chunk Light Tuna \"], [\"Skippy Creamy Peanut Butter\"], [\"Smuckers Goober Grape\"], [\"Smuckers Goober Strawberry\"], [\"Aunt Jemima Butter Lite Syrup\"], [\"Lactaid 2% Reduced Fat Milk\"], [\"Almond Breeze Almond Milk Unsweetened Vanilla\"], [\"Nestle Coffe Mate French Vanilla Creamer\"], [\"Nestle Coffe Mate French Vanilla Creamer Sugar Free\"], [\"Coca-Cola Diet Coke\"], [\"Danimals Smoothie Strawberry Flavor\"], [\"Danimals Smoothie Birthday Cake Flavor\"], [\"Quaker Oats Old Fashioned Oats\"], [\"yummy Chicken Breast Nuggets\"], [\"Royal Asia Vegetable Spring Rolls\"], [\"Dole Banana \"], [\"Washington Apple\"], [\"Sun Pacific Navel Orange\"], [\"Cuties Clementine\"], [\"Hoffy Premium Beef Franks\"], [\"Guerrero Corn Tortillas\"], [\"Ling Ling Pork & Vegetable Dumplings\"], [\"Ling Ling Dumpling Sauce\"], [\"Foster Farms Ground Turkey 93% Lean\"], [\"Belvita Cinnamon Brown Sugar Breakfast Bars\"], [\"Mahatma Extra Long Enriched Rice\"], [\"Kikkoman Less Sodium Soy Sauce\"], [\"Organics Baby Spinach\"], [\"Kikkoman Ponzu Citrus Sauce\"], [\"Marie's Raspberry Vinaigrette \"], [\"Coca-Cola Caffeine Free\"], [\"Lucern Mexican Style 4 Cheese Blend\"], [\"Sabra Organic Simply Roasted Pine Nut Hummus\"], [\"Butterball Sliced Honey Roasted Turkey Breast\"], [\"La Preferida Pinto Beans\"], [\"Foster Farms Boneless Skinless Chicken Breast\"], [\"McDonald's Chicken McNuggets 6 Piece\"], [\"McDonald's Barbeque Sauce\"], [\"McDonald's Small French Fries\"], [\"McDonald's Cheeseburger\"], [\"Carl's Jr Kid's Cheeseburger\"], [\"Carl's Jr Hand Breaded Chicken Tenders 3 Piece\"], [\"El Pollo Loco Fire-Grilled Chicken Leg\"], [\"El Pollo Loco Fire-Grilled Chicken Breast\"], [\"El Pollo Loco Macaroni and Cheese Side\"], [\"Large Egg\"], [\"Snickers Bar\"], [\"Pizza Hut Medium Hand Tossed Cheese\"], [\"Pizza Hut Medium Hand Tossed Pepperoni\"], [\"Baskin Robbins Rainbow Sherbet\"], [\"Medium Avocado\"]], \"hoverlabel\": {\"namelength\": 0}, \"hovertemplate\": \"caution=No<br>Single Serving In Grams=%{x}<br>Total Carbs Per 100 Grams=%{y}<br>food_item=%{customdata[0]}\", \"legendgroup\": \"caution=No\", \"marker\": {\"color\": \"Blue\", \"symbol\": \"circle\"}, \"mode\": \"markers\", \"name\": \"caution=No\", \"showlegend\": true, \"type\": \"scatter\", \"x\": [38.0, 37.0, 38.0, 39.0, 42.0, 40.0, 36.0, 16.0, 21.0, 22.7, 16.0, 13.0, 50.0, 58.0, 74.0, 74.0, 74.0, 32.0, 56.0, 56.0, 30.0, 240.0, 240.0, 15.0, 15.0, 500.0, 93.0, 93.0, 40.0, 83.0, 113.0, 118.0, 242.0, 140.0, 88.0, 56.0, 47.0, 146.0, 17.0, 112.0, 50.0, 45.0, 15.0, 100.0, 15.0, 32.0, 355.0, 28.0, 28.0, 28.0, 36.0, 112.0, 97.0, 28.0, 71.0, 114.0, 123.0, 128.0, 45.4, 121.9, 170.0, 50.0, 44.0, 84.0, 83.0, 71.0, 50.0], \"xaxis\": \"x\", \"y\": [50.0, 86.48648648648648, 86.8421052631579, 87.17948717948718, 80.95238095238095, 90.0, 83.33333333333334, 62.5, 80.95238095238095, 74.8898678414097, 6.25, 0.0, 54.0, 68.96551724137932, 1.3513513513513513, 5.405405405405405, 0.0, 18.75, 53.57142857142857, 51.78571428571429, 40.0, 5.416666666666667, 0.4166666666666667, 33.33333333333333, 6.666666666666667, 0.0, 11.827956989247312, 11.827956989247312, 67.5, 14.457831325301203, 28.31858407079646, 22.88135593220339, 14.049586776859504, 12.857142857142856, 10.227272727272728, 3.571428571428571, 44.680851063829785, 26.71232876712329, 23.52941176470588, 0.0, 70.0, 80.0, 6.666666666666667, 4.0, 13.333333333333334, 18.75, 10.985915492957748, 3.571428571428571, 14.285714285714285, 10.714285714285714, 61.111111111111114, 0.0, 18.556701030927837, 42.857142857142854, 40.845070422535215, 28.947368421052634, 27.64227642276423, 10.15625, 0.0, 0.0, 14.117647058823529, 0.0, 63.63636363636363, 30.952380952380953, 30.120481927710845, 23.943661971830984, 8.0], \"yaxis\": \"y\"}, {\"customdata\": [[\"Duncan Hines Blueberry Muffin Mug Cake\"], [\"Annie's Organic Macaroni & Cheese Classic Cheddar\"], [\"Krusteaz Buttermilk Pancake Mix\"], [\"Guerrero 12\\\" Grande Flour Tortilla\"], [\"Carl's Jr Natural Cut Fries Medium\"], [\"Rubio's Ancho Citrus Shrimp Burrito\"], [\"Quaker Simply Granola Oats, Honey, Raisins, Almonds\"]], \"hoverlabel\": {\"namelength\": 0}, \"hovertemplate\": \"caution=Yes<br>Single Serving In Grams=%{x}<br>Total Carbs Per 100 Grams=%{y}<br>food_item=%{customdata[0]}\", \"legendgroup\": \"caution=Yes\", \"marker\": {\"color\": \"Orange\", \"symbol\": \"circle\"}, \"mode\": \"markers\", \"name\": \"caution=Yes\", \"showlegend\": true, \"type\": \"scatter\", \"x\": [65.0, 71.0, 59.0, 96.0, 147.0, 449.0, 68.0], \"xaxis\": \"x\", \"y\": [75.38461538461539, 70.4225352112676, 76.27118644067797, 48.95833333333333, 37.41496598639456, 24.4988864142539, 75.0], \"yaxis\": \"y\"}],\n",
       "                        {\"legend\": {\"tracegroupgap\": 0}, \"template\": {\"data\": {\"bar\": [{\"error_x\": {\"color\": \"#2a3f5f\"}, \"error_y\": {\"color\": \"#2a3f5f\"}, \"marker\": {\"line\": {\"color\": \"#E5ECF6\", \"width\": 0.5}}, \"type\": \"bar\"}], \"barpolar\": [{\"marker\": {\"line\": {\"color\": \"#E5ECF6\", \"width\": 0.5}}, \"type\": \"barpolar\"}], \"carpet\": [{\"aaxis\": {\"endlinecolor\": \"#2a3f5f\", \"gridcolor\": \"white\", \"linecolor\": \"white\", \"minorgridcolor\": \"white\", \"startlinecolor\": \"#2a3f5f\"}, \"baxis\": {\"endlinecolor\": \"#2a3f5f\", \"gridcolor\": \"white\", \"linecolor\": \"white\", \"minorgridcolor\": \"white\", \"startlinecolor\": \"#2a3f5f\"}, \"type\": \"carpet\"}], \"choropleth\": [{\"colorbar\": {\"outlinewidth\": 0, \"ticks\": \"\"}, \"type\": \"choropleth\"}], \"contour\": [{\"colorbar\": {\"outlinewidth\": 0, \"ticks\": \"\"}, \"colorscale\": [[0.0, \"#0d0887\"], [0.1111111111111111, \"#46039f\"], [0.2222222222222222, \"#7201a8\"], [0.3333333333333333, \"#9c179e\"], [0.4444444444444444, \"#bd3786\"], [0.5555555555555556, \"#d8576b\"], [0.6666666666666666, \"#ed7953\"], [0.7777777777777778, \"#fb9f3a\"], [0.8888888888888888, \"#fdca26\"], [1.0, \"#f0f921\"]], \"type\": \"contour\"}], \"contourcarpet\": [{\"colorbar\": {\"outlinewidth\": 0, \"ticks\": \"\"}, \"type\": \"contourcarpet\"}], \"heatmap\": [{\"colorbar\": {\"outlinewidth\": 0, \"ticks\": \"\"}, \"colorscale\": [[0.0, \"#0d0887\"], [0.1111111111111111, \"#46039f\"], [0.2222222222222222, \"#7201a8\"], [0.3333333333333333, \"#9c179e\"], [0.4444444444444444, \"#bd3786\"], [0.5555555555555556, \"#d8576b\"], [0.6666666666666666, \"#ed7953\"], [0.7777777777777778, \"#fb9f3a\"], [0.8888888888888888, \"#fdca26\"], [1.0, \"#f0f921\"]], \"type\": \"heatmap\"}], \"heatmapgl\": [{\"colorbar\": {\"outlinewidth\": 0, \"ticks\": \"\"}, \"colorscale\": [[0.0, \"#0d0887\"], [0.1111111111111111, \"#46039f\"], [0.2222222222222222, \"#7201a8\"], [0.3333333333333333, \"#9c179e\"], [0.4444444444444444, \"#bd3786\"], [0.5555555555555556, \"#d8576b\"], [0.6666666666666666, \"#ed7953\"], [0.7777777777777778, \"#fb9f3a\"], [0.8888888888888888, \"#fdca26\"], [1.0, \"#f0f921\"]], \"type\": \"heatmapgl\"}], \"histogram\": [{\"marker\": {\"colorbar\": {\"outlinewidth\": 0, \"ticks\": \"\"}}, \"type\": \"histogram\"}], \"histogram2d\": [{\"colorbar\": {\"outlinewidth\": 0, \"ticks\": \"\"}, \"colorscale\": [[0.0, \"#0d0887\"], [0.1111111111111111, \"#46039f\"], [0.2222222222222222, \"#7201a8\"], [0.3333333333333333, \"#9c179e\"], [0.4444444444444444, \"#bd3786\"], [0.5555555555555556, \"#d8576b\"], [0.6666666666666666, \"#ed7953\"], [0.7777777777777778, \"#fb9f3a\"], [0.8888888888888888, \"#fdca26\"], [1.0, \"#f0f921\"]], \"type\": \"histogram2d\"}], \"histogram2dcontour\": [{\"colorbar\": {\"outlinewidth\": 0, \"ticks\": \"\"}, \"colorscale\": [[0.0, \"#0d0887\"], [0.1111111111111111, \"#46039f\"], [0.2222222222222222, \"#7201a8\"], [0.3333333333333333, \"#9c179e\"], [0.4444444444444444, \"#bd3786\"], [0.5555555555555556, \"#d8576b\"], [0.6666666666666666, \"#ed7953\"], [0.7777777777777778, \"#fb9f3a\"], [0.8888888888888888, \"#fdca26\"], [1.0, \"#f0f921\"]], \"type\": \"histogram2dcontour\"}], \"mesh3d\": [{\"colorbar\": {\"outlinewidth\": 0, \"ticks\": \"\"}, \"type\": \"mesh3d\"}], \"parcoords\": [{\"line\": {\"colorbar\": {\"outlinewidth\": 0, \"ticks\": \"\"}}, \"type\": \"parcoords\"}], \"pie\": [{\"automargin\": true, \"type\": \"pie\"}], \"scatter\": [{\"marker\": {\"colorbar\": {\"outlinewidth\": 0, \"ticks\": \"\"}}, \"type\": \"scatter\"}], \"scatter3d\": [{\"line\": {\"colorbar\": {\"outlinewidth\": 0, \"ticks\": \"\"}}, \"marker\": {\"colorbar\": {\"outlinewidth\": 0, \"ticks\": \"\"}}, \"type\": \"scatter3d\"}], \"scattercarpet\": [{\"marker\": {\"colorbar\": {\"outlinewidth\": 0, \"ticks\": \"\"}}, \"type\": \"scattercarpet\"}], \"scattergeo\": [{\"marker\": {\"colorbar\": {\"outlinewidth\": 0, \"ticks\": \"\"}}, \"type\": \"scattergeo\"}], \"scattergl\": [{\"marker\": {\"colorbar\": {\"outlinewidth\": 0, \"ticks\": \"\"}}, \"type\": \"scattergl\"}], \"scattermapbox\": [{\"marker\": {\"colorbar\": {\"outlinewidth\": 0, \"ticks\": \"\"}}, \"type\": \"scattermapbox\"}], \"scatterpolar\": [{\"marker\": {\"colorbar\": {\"outlinewidth\": 0, \"ticks\": \"\"}}, \"type\": \"scatterpolar\"}], \"scatterpolargl\": [{\"marker\": {\"colorbar\": {\"outlinewidth\": 0, \"ticks\": \"\"}}, \"type\": \"scatterpolargl\"}], \"scatterternary\": [{\"marker\": {\"colorbar\": {\"outlinewidth\": 0, \"ticks\": \"\"}}, \"type\": \"scatterternary\"}], \"surface\": [{\"colorbar\": {\"outlinewidth\": 0, \"ticks\": \"\"}, \"colorscale\": [[0.0, \"#0d0887\"], [0.1111111111111111, \"#46039f\"], [0.2222222222222222, \"#7201a8\"], [0.3333333333333333, \"#9c179e\"], [0.4444444444444444, \"#bd3786\"], [0.5555555555555556, \"#d8576b\"], [0.6666666666666666, \"#ed7953\"], [0.7777777777777778, \"#fb9f3a\"], [0.8888888888888888, \"#fdca26\"], [1.0, \"#f0f921\"]], \"type\": \"surface\"}], \"table\": [{\"cells\": {\"fill\": {\"color\": \"#EBF0F8\"}, \"line\": {\"color\": \"white\"}}, \"header\": {\"fill\": {\"color\": \"#C8D4E3\"}, \"line\": {\"color\": \"white\"}}, \"type\": \"table\"}]}, \"layout\": {\"annotationdefaults\": {\"arrowcolor\": \"#2a3f5f\", \"arrowhead\": 0, \"arrowwidth\": 1}, \"coloraxis\": {\"colorbar\": {\"outlinewidth\": 0, \"ticks\": \"\"}}, \"colorscale\": {\"diverging\": [[0, \"#8e0152\"], [0.1, \"#c51b7d\"], [0.2, \"#de77ae\"], [0.3, \"#f1b6da\"], [0.4, \"#fde0ef\"], [0.5, \"#f7f7f7\"], [0.6, \"#e6f5d0\"], [0.7, \"#b8e186\"], [0.8, \"#7fbc41\"], [0.9, \"#4d9221\"], [1, \"#276419\"]], \"sequential\": [[0.0, \"#0d0887\"], [0.1111111111111111, \"#46039f\"], [0.2222222222222222, \"#7201a8\"], [0.3333333333333333, \"#9c179e\"], [0.4444444444444444, \"#bd3786\"], [0.5555555555555556, \"#d8576b\"], [0.6666666666666666, \"#ed7953\"], [0.7777777777777778, \"#fb9f3a\"], [0.8888888888888888, \"#fdca26\"], [1.0, \"#f0f921\"]], \"sequentialminus\": [[0.0, \"#0d0887\"], [0.1111111111111111, \"#46039f\"], [0.2222222222222222, \"#7201a8\"], [0.3333333333333333, \"#9c179e\"], [0.4444444444444444, \"#bd3786\"], [0.5555555555555556, \"#d8576b\"], [0.6666666666666666, \"#ed7953\"], [0.7777777777777778, \"#fb9f3a\"], [0.8888888888888888, \"#fdca26\"], [1.0, \"#f0f921\"]]}, \"colorway\": [\"#636efa\", \"#EF553B\", \"#00cc96\", \"#ab63fa\", \"#FFA15A\", \"#19d3f3\", \"#FF6692\", \"#B6E880\", \"#FF97FF\", \"#FECB52\"], \"font\": {\"color\": \"#2a3f5f\"}, \"geo\": {\"bgcolor\": \"white\", \"lakecolor\": \"white\", \"landcolor\": \"#E5ECF6\", \"showlakes\": true, \"showland\": true, \"subunitcolor\": \"white\"}, \"hoverlabel\": {\"align\": \"left\"}, \"hovermode\": \"closest\", \"mapbox\": {\"style\": \"light\"}, \"paper_bgcolor\": \"white\", \"plot_bgcolor\": \"#E5ECF6\", \"polar\": {\"angularaxis\": {\"gridcolor\": \"white\", \"linecolor\": \"white\", \"ticks\": \"\"}, \"bgcolor\": \"#E5ECF6\", \"radialaxis\": {\"gridcolor\": \"white\", \"linecolor\": \"white\", \"ticks\": \"\"}}, \"scene\": {\"xaxis\": {\"backgroundcolor\": \"#E5ECF6\", \"gridcolor\": \"white\", \"gridwidth\": 2, \"linecolor\": \"white\", \"showbackground\": true, \"ticks\": \"\", \"zerolinecolor\": \"white\"}, \"yaxis\": {\"backgroundcolor\": \"#E5ECF6\", \"gridcolor\": \"white\", \"gridwidth\": 2, \"linecolor\": \"white\", \"showbackground\": true, \"ticks\": \"\", \"zerolinecolor\": \"white\"}, \"zaxis\": {\"backgroundcolor\": \"#E5ECF6\", \"gridcolor\": \"white\", \"gridwidth\": 2, \"linecolor\": \"white\", \"showbackground\": true, \"ticks\": \"\", \"zerolinecolor\": \"white\"}}, \"shapedefaults\": {\"line\": {\"color\": \"#2a3f5f\"}}, \"ternary\": {\"aaxis\": {\"gridcolor\": \"white\", \"linecolor\": \"white\", \"ticks\": \"\"}, \"baxis\": {\"gridcolor\": \"white\", \"linecolor\": \"white\", \"ticks\": \"\"}, \"bgcolor\": \"#E5ECF6\", \"caxis\": {\"gridcolor\": \"white\", \"linecolor\": \"white\", \"ticks\": \"\"}}, \"title\": {\"x\": 0.05}, \"xaxis\": {\"automargin\": true, \"gridcolor\": \"white\", \"linecolor\": \"white\", \"ticks\": \"\", \"title\": {\"standoff\": 15}, \"zerolinecolor\": \"white\", \"zerolinewidth\": 2}, \"yaxis\": {\"automargin\": true, \"gridcolor\": \"white\", \"linecolor\": \"white\", \"ticks\": \"\", \"title\": {\"standoff\": 15}, \"zerolinecolor\": \"white\", \"zerolinewidth\": 2}}}, \"title\": {\"text\": \"Serving Size vs. Carbohydrates Per 100 Grams(Interactive Plot)\"}, \"xaxis\": {\"anchor\": \"y\", \"domain\": [0.0, 1.0], \"title\": {\"text\": \"Single Serving In Grams\"}}, \"yaxis\": {\"anchor\": \"x\", \"domain\": [0.0, 1.0], \"title\": {\"text\": \"Total Carbs Per 100 Grams\"}}},\n",
       "                        {\"responsive\": true}\n",
       "                    ).then(function(){\n",
       "                            \n",
       "var gd = document.getElementById('3c8a3a2f-da31-4876-8d07-a75b2d201c5d');\n",
       "var x = new MutationObserver(function (mutations, observer) {{\n",
       "        var display = window.getComputedStyle(gd).display;\n",
       "        if (!display || display === 'none') {{\n",
       "            console.log([gd, 'removed!']);\n",
       "            Plotly.purge(gd);\n",
       "            observer.disconnect();\n",
       "        }}\n",
       "}});\n",
       "\n",
       "// Listen for the removal of the full notebook cells\n",
       "var notebookContainer = gd.closest('#notebook-container');\n",
       "if (notebookContainer) {{\n",
       "    x.observe(notebookContainer, {childList: true});\n",
       "}}\n",
       "\n",
       "// Listen for the clearing of the current output cell\n",
       "var outputEl = gd.closest('.output');\n",
       "if (outputEl) {{\n",
       "    x.observe(outputEl, {childList: true});\n",
       "}}\n",
       "\n",
       "                        })\n",
       "                };\n",
       "                });\n",
       "            </script>\n",
       "        </div>"
      ]
     },
     "metadata": {},
     "output_type": "display_data"
    }
   ],
   "source": [
    "\"hide_input\"\n",
    "carbs_fig = px.scatter(carbs,x='serving_measurement_g',y='carbohydrates_per_100g',hover_data=['food_item'],\n",
    "                labels = {'serving_measurement_g':'Single Serving In Grams','carbohydrates_per_100g':'Total Carbs Per 100 Grams'},\n",
    "                title='Serving Size vs. Carbohydrates Per 100 Grams(Interactive Plot)',\n",
    "                color='caution',\n",
    "                color_discrete_map={'No':'Blue','Yes':'Orange'})\n",
    "carbs_fig.show()"
   ]
  },
  {
   "cell_type": "markdown",
   "metadata": {},
   "source": [
    "The first thing I noted from this visualization is that the Annie's Organic Macaroni and Cheese actually contains more carbs than the Kraft Single Serving. However, the Kraft Macaroni and Cheese does contain more fat so there is the trade-off.\n",
    "\n",
    "The second, more obvious, thing I noted is how few items there are in the cautious zone for carbohydrates. The criteria for the carb cautious zone was for a single serving to contain <ins>44 grams of carbs or more</ins>.\n",
    "\n",
    "So despite cereal topping the charts for carbs per 100 grams, **if you adhere to the single serving size** they are actually an adequate source of carbohydrates.\n",
    "\n"
   ]
  },
  {
   "cell_type": "markdown",
   "metadata": {},
   "source": [
    "### Sugars\n",
    "\n",
    "Sugars are actually a form of carbohydrates and contribute to overall carbohydrate intake so for the sake of consistency I will analyze sugar content next."
   ]
  },
  {
   "cell_type": "code",
   "execution_count": 24,
   "metadata": {},
   "outputs": [],
   "source": [
    "\"hide_cell\"\n",
    "sugars = df[['food_item','serving_size','serving_measurement_g','total_sugars_g','added_sugars_g']]"
   ]
  },
  {
   "cell_type": "code",
   "execution_count": 25,
   "metadata": {},
   "outputs": [],
   "source": [
    "\"hide_cell\"\n",
    "sugars.insert(loc=len(sugars.columns),column='total_sugars_per_100g',value=per_100g(sugars['total_sugars_g']))\n",
    "sugars.insert(loc=len(sugars.columns),column='added_sugars_per_100g',value=per_100g(sugars['added_sugars_g']))"
   ]
  },
  {
   "cell_type": "code",
   "execution_count": 26,
   "metadata": {},
   "outputs": [],
   "source": [
    "\"hide_cell\"\n",
    "sugars.insert(loc=len(sugars.columns),column='caution',value='No')\n",
    "for row in sugars.index:\n",
    "    if sugars.at[row,'total_sugars_g'] >= 9:\n",
    "        sugars.at[row,'caution'] = 'Yes'"
   ]
  },
  {
   "cell_type": "code",
   "execution_count": 27,
   "metadata": {},
   "outputs": [],
   "source": [
    "\"hide_cell\"\n",
    "sug_20 = sugars.nlargest(20,'total_sugars_per_100g')\n",
    "add_sug_20 = sugars.nlargest(20,'added_sugars_per_100g')"
   ]
  },
  {
   "cell_type": "code",
   "execution_count": 28,
   "metadata": {},
   "outputs": [
    {
     "data": {
      "image/png": "[encoded data removed]",
      "text/plain": [
       "<Figure size 792x540 with 2 Axes>"
      ]
     },
     "metadata": {
      "needs_background": "light"
     },
     "output_type": "display_data"
    }
   ],
   "source": [
    "\"hide_input\"\n",
    "plt.figure(figsize=(11,7.5))\n",
    "plt.subplot(211)\n",
    "sns.barplot(data=sug_20,y='food_item',x='total_sugars_per_100g')\n",
    "plt.title('Top 20 Items by Total Sugars Per 100 Grams')\n",
    "plt.subplot(212)\n",
    "sns.barplot(data=add_sug_20,y='food_item',x='added_sugars_per_100g')\n",
    "plt.title('Top 20 Items by Added Sugars Per 100 Grams')\n",
    "plt.tight_layout()"
   ]
  },
  {
   "cell_type": "markdown",
   "metadata": {},
   "source": [
    "Interestingly enough, there appears to be quite some overlap not only with the total sugars and added sugars items, but with the high carb items as well. This makes sense since sugar content makes up part of the total carbohydrate content, so any item with both high carbohydrates and high sugar could be a potential red flag.\n",
    "\n",
    "One other thing I find interesting from these charts is the Snickers Candy Bar is second highest in terms of total sugars per 100 grams but does not appear in the top 20 of added sugar per 100 grams. This indicates that in terms of sugar content, a Snickers Bar might actually be better than some other food choices here."
   ]
  },
  {
   "cell_type": "code",
   "execution_count": 29,
   "metadata": {},
   "outputs": [],
   "source": [
    "\"hide_cell\"\n",
    "caution=sugars[sugars['caution']=='Yes']\n",
    "no_caution=sugars[sugars['caution']=='No']\n",
    "added_sugars=sugars[sugars['added_sugars_g']>0]"
   ]
  },
  {
   "cell_type": "code",
   "execution_count": 30,
   "metadata": {
    "scrolled": false
   },
   "outputs": [
    {
     "data": {
      "application/vnd.plotly.v1+json": {
       "config": {
        "plotlyServerURL": "https://plot.ly"
       },
       "data": [
        {
         "hovertemplate": "Single Serving in Grams: %{x}<br>Total Sugars Per 100 Grams: %{y}<br>Food Item: %{text}",
         "mode": "markers",
         "name": "Total Sugars",
         "text": [
          "Oroweat Whole Wheat Bread",
          "Ritz Crackers",
          "Heinz Tomato Ketchup No Sugar Added",
          "Best Foods Mayonnaise",
          "Ball Park Hot Dog Buns",
          "Annie's Organic Macaroni & Cheese Classic Cheddar",
          "Kraft Macaroni & Cheese Single Serve",
          "Starkist Tuna Creations Ranch",
          "Starkist Tuna Creations Sweet & Spicy",
          "Starkist Chunk Light Tuna ",
          "Skippy Creamy Peanut Butter",
          "Almond Breeze Almond Milk Unsweetened Vanilla",
          "Nestle Coffe Mate French Vanilla Creamer",
          "Nestle Coffe Mate French Vanilla Creamer Sugar Free",
          "Coca-Cola Diet Coke",
          "Quaker Oats Old Fashioned Oats",
          "yummy Chicken Breast Nuggets",
          "Royal Asia Vegetable Spring Rolls",
          "Cuties Clementine",
          "Hoffy Premium Beef Franks",
          "Guerrero 12\" Grande Flour Tortilla",
          "Guerrero Corn Tortillas",
          "Ling Ling Pork & Vegetable Dumplings",
          "Ling Ling Dumpling Sauce",
          "Foster Farms Ground Turkey 93% Lean",
          "Mahatma Extra Long Enriched Rice",
          "Kikkoman Less Sodium Soy Sauce",
          "Organics Baby Spinach",
          "Kikkoman Ponzu Citrus Sauce",
          "Marie's Raspberry Vinaigrette ",
          "Lucern Mexican Style 4 Cheese Blend",
          "Sabra Organic Simply Roasted Pine Nut Hummus",
          "Butterball Sliced Honey Roasted Turkey Breast",
          "La Preferida Pinto Beans",
          "Foster Farms Boneless Skinless Chicken Breast",
          "McDonald's Chicken McNuggets 6 Piece",
          "McDonald's Small French Fries",
          "McDonald's Cheeseburger",
          "Carl's Jr Kid's Cheeseburger",
          "Carl's Jr Hand Breaded Chicken Tenders 3 Piece",
          "Carl's Jr Natural Cut Fries Medium",
          "Rubio's Ancho Citrus Shrimp Burrito",
          "El Pollo Loco Fire-Grilled Chicken Leg",
          "El Pollo Loco Fire-Grilled Chicken Breast",
          "El Pollo Loco Macaroni and Cheese Side",
          "Large Egg",
          "Pizza Hut Medium Hand Tossed Cheese",
          "Pizza Hut Medium Hand Tossed Pepperoni",
          "Medium Avocado"
         ],
         "type": "scatter",
         "x": [
          38,
          16,
          16,
          13,
          50,
          71,
          58,
          74,
          74,
          74,
          32,
          240,
          15,
          15,
          500,
          40,
          83,
          113,
          88,
          56,
          96,
          47,
          146,
          17,
          112,
          45,
          15,
          100,
          15,
          32,
          28,
          28,
          28,
          36,
          112,
          97,
          71,
          114,
          123,
          128,
          147,
          449,
          45.4,
          121.9,
          170,
          50,
          84,
          83,
          50
         ],
         "xaxis": "x",
         "y": [
          7.894736842105263,
          6.25,
          6.1875,
          0,
          8,
          8.450704225352112,
          6.896551724137931,
          0.6756756756756757,
          5.405405405405405,
          0,
          9.375,
          0,
          33.33333333333333,
          0,
          0,
          2.5,
          0,
          4.424778761061947,
          7.954545454545454,
          0,
          2.083333333333333,
          4.25531914893617,
          2.73972602739726,
          23.52941176470588,
          0,
          0,
          0,
          0,
          6.666666666666667,
          18.75,
          0,
          3.5357142857142856,
          7.142857142857142,
          2.7777777777777777,
          0,
          0,
          0,
          5.263157894736842,
          5.691056910569105,
          0,
          0,
          1.3363028953229399,
          0,
          0,
          2.3529411764705883,
          0,
          3.571428571428571,
          3.614457831325301,
          0
         ],
         "yaxis": "y"
        },
        {
         "hovertemplate": "Single Serving in Grams: %{x}<br>Total Sugars Per 100 Grams: %{y}<br>Food Item: %{text}",
         "mode": "markers",
         "name": "Caution",
         "text": [
          "Cap'n Crunch Crunch Berries",
          "Cap'n Crunch ",
          "Kellogg's Froot Loops",
          "Post Honey Bunches of Oats",
          "Kellogg's Frosted Flakes",
          "General Mills Lucky Charms",
          "General Mills Fruit By The Foot",
          "Welch's Mixed Fruit",
          "Duncan Hines Blueberry Muffin Mug Cake",
          "Smuckers Goober Grape",
          "Smuckers Goober Strawberry",
          "Aunt Jemima Butter Lite Syrup",
          "Lactaid 2% Reduced Fat Milk",
          "Danimals Smoothie Strawberry Flavor",
          "Danimals Smoothie Birthday Cake Flavor",
          "Krusteaz Buttermilk Pancake Mix",
          "Dole Banana ",
          "Washington Apple",
          "Sun Pacific Navel Orange",
          "Belvita Cinnamon Brown Sugar Breakfast Bars",
          "Coca-Cola Caffeine Free",
          "McDonald's Barbeque Sauce",
          "Snickers Bar",
          "Baskin Robbins Rainbow Sherbet",
          "Quaker Simply Granola Oats, Honey, Raisins, Almonds"
         ],
         "type": "scatter",
         "x": [
          37,
          38,
          39,
          42,
          40,
          36,
          21,
          22.7,
          65,
          56,
          56,
          30,
          240,
          93,
          93,
          59,
          118,
          242,
          140,
          50,
          355,
          28,
          44,
          71,
          68
         ],
         "xaxis": "x",
         "y": [
          43.24324324324324,
          44.73684210526316,
          30.76923076923077,
          21.428571428571427,
          42.5,
          33.33333333333333,
          47.61904761904761,
          44.05286343612335,
          40,
          37.5,
          39.285714285714285,
          40,
          5,
          9.67741935483871,
          9.67741935483871,
          18.64406779661017,
          11.864406779661017,
          10.330578512396695,
          8.571428571428571,
          20,
          10.985915492957748,
          35.714285714285715,
          45.45454545454545,
          18.30985915492958,
          23.52941176470588
         ],
         "yaxis": "y"
        },
        {
         "hovertemplate": "Single Serving in Grams: %{x}<br>Added Sugars Per 100 Grams: %{y}<br>Food Item: %{text}",
         "marker": {
          "color": "Orange"
         },
         "mode": "markers",
         "name": "Added Sugars",
         "text": [
          "Oroweat Whole Wheat Bread",
          "Cap'n Crunch Crunch Berries",
          "Cap'n Crunch ",
          "Kellogg's Froot Loops",
          "Post Honey Bunches of Oats",
          "Kellogg's Frosted Flakes",
          "General Mills Lucky Charms",
          "Ritz Crackers",
          "Welch's Mixed Fruit",
          "Ball Park Hot Dog Buns",
          "Duncan Hines Blueberry Muffin Mug Cake",
          "Starkist Tuna Creations Ranch",
          "Starkist Tuna Creations Sweet & Spicy",
          "Skippy Creamy Peanut Butter",
          "Smuckers Goober Grape",
          "Smuckers Goober Strawberry",
          "Aunt Jemima Butter Lite Syrup",
          "Nestle Coffe Mate French Vanilla Creamer",
          "Danimals Smoothie Strawberry Flavor",
          "Danimals Smoothie Birthday Cake Flavor",
          "Krusteaz Buttermilk Pancake Mix",
          "Royal Asia Vegetable Spring Rolls",
          "Belvita Cinnamon Brown Sugar Breakfast Bars",
          "Kikkoman Ponzu Citrus Sauce",
          "Marie's Raspberry Vinaigrette ",
          "Coca-Cola Caffeine Free",
          "Baskin Robbins Rainbow Sherbet",
          "Quaker Simply Granola Oats, Honey, Raisins, Almonds"
         ],
         "type": "scatter",
         "x": [
          38,
          37,
          38,
          39,
          42,
          40,
          36,
          16,
          22.7,
          50,
          65,
          74,
          74,
          32,
          56,
          56,
          30,
          15,
          93,
          93,
          59,
          113,
          50,
          15,
          32,
          355,
          71,
          68
         ],
         "xaxis": "x2",
         "y": [
          5.263157894736842,
          43.24324324324324,
          44.73684210526316,
          30.76923076923077,
          19.047619047619047,
          42.5,
          33.33333333333333,
          6.25,
          35.24229074889868,
          8,
          36.92307692307693,
          0.6756756756756757,
          5.405405405405405,
          9.375,
          32.142857142857146,
          33.92857142857143,
          40,
          33.33333333333333,
          7.526881720430108,
          7.526881720430108,
          16.94915254237288,
          2.6548672566371683,
          20,
          6.666666666666667,
          18.75,
          10.985915492957748,
          15.492957746478872,
          11.76470588235294
         ],
         "yaxis": "y2"
        }
       ],
       "layout": {
        "annotations": [
         {
          "font": {
           "size": 16
          },
          "showarrow": false,
          "text": "Total Sugars",
          "x": 0.5,
          "xanchor": "center",
          "xref": "paper",
          "y": 0.9999999999999999,
          "yanchor": "bottom",
          "yref": "paper"
         },
         {
          "font": {
           "size": 16
          },
          "showarrow": false,
          "text": "Added Sugars",
          "x": 0.5,
          "xanchor": "center",
          "xref": "paper",
          "y": 0.46499999999999997,
          "yanchor": "bottom",
          "yref": "paper"
         }
        ],
        "template": {
         "data": {
          "bar": [
           {
            "error_x": {
             "color": "#2a3f5f"
            },
            "error_y": {
             "color": "#2a3f5f"
            },
            "marker": {
             "line": {
              "color": "#E5ECF6",
              "width": 0.5
             }
            },
            "type": "bar"
           }
          ],
          "barpolar": [
           {
            "marker": {
             "line": {
              "color": "#E5ECF6",
              "width": 0.5
             }
            },
            "type": "barpolar"
           }
          ],
          "carpet": [
           {
            "aaxis": {
             "endlinecolor": "#2a3f5f",
             "gridcolor": "white",
             "linecolor": "white",
             "minorgridcolor": "white",
             "startlinecolor": "#2a3f5f"
            },
            "baxis": {
             "endlinecolor": "#2a3f5f",
             "gridcolor": "white",
             "linecolor": "white",
             "minorgridcolor": "white",
             "startlinecolor": "#2a3f5f"
            },
            "type": "carpet"
           }
          ],
          "choropleth": [
           {
            "colorbar": {
             "outlinewidth": 0,
             "ticks": ""
            },
            "type": "choropleth"
           }
          ],
          "contour": [
           {
            "colorbar": {
             "outlinewidth": 0,
             "ticks": ""
            },
            "colorscale": [
             [
              0,
              "#0d0887"
             ],
             [
              0.1111111111111111,
              "#46039f"
             ],
             [
              0.2222222222222222,
              "#7201a8"
             ],
             [
              0.3333333333333333,
              "#9c179e"
             ],
             [
              0.4444444444444444,
              "#bd3786"
             ],
             [
              0.5555555555555556,
              "#d8576b"
             ],
             [
              0.6666666666666666,
              "#ed7953"
             ],
             [
              0.7777777777777778,
              "#fb9f3a"
             ],
             [
              0.8888888888888888,
              "#fdca26"
             ],
             [
              1,
              "#f0f921"
             ]
            ],
            "type": "contour"
           }
          ],
          "contourcarpet": [
           {
            "colorbar": {
             "outlinewidth": 0,
             "ticks": ""
            },
            "type": "contourcarpet"
           }
          ],
          "heatmap": [
           {
            "colorbar": {
             "outlinewidth": 0,
             "ticks": ""
            },
            "colorscale": [
             [
              0,
              "#0d0887"
             ],
             [
              0.1111111111111111,
              "#46039f"
             ],
             [
              0.2222222222222222,
              "#7201a8"
             ],
             [
              0.3333333333333333,
              "#9c179e"
             ],
             [
              0.4444444444444444,
              "#bd3786"
             ],
             [
              0.5555555555555556,
              "#d8576b"
             ],
             [
              0.6666666666666666,
              "#ed7953"
             ],
             [
              0.7777777777777778,
              "#fb9f3a"
             ],
             [
              0.8888888888888888,
              "#fdca26"
             ],
             [
              1,
              "#f0f921"
             ]
            ],
            "type": "heatmap"
           }
          ],
          "heatmapgl": [
           {
            "colorbar": {
             "outlinewidth": 0,
             "ticks": ""
            },
            "colorscale": [
             [
              0,
              "#0d0887"
             ],
             [
              0.1111111111111111,
              "#46039f"
             ],
             [
              0.2222222222222222,
              "#7201a8"
             ],
             [
              0.3333333333333333,
              "#9c179e"
             ],
             [
              0.4444444444444444,
              "#bd3786"
             ],
             [
              0.5555555555555556,
              "#d8576b"
             ],
             [
              0.6666666666666666,
              "#ed7953"
             ],
             [
              0.7777777777777778,
              "#fb9f3a"
             ],
             [
              0.8888888888888888,
              "#fdca26"
             ],
             [
              1,
              "#f0f921"
             ]
            ],
            "type": "heatmapgl"
           }
          ],
          "histogram": [
           {
            "marker": {
             "colorbar": {
              "outlinewidth": 0,
              "ticks": ""
             }
            },
            "type": "histogram"
           }
          ],
          "histogram2d": [
           {
            "colorbar": {
             "outlinewidth": 0,
             "ticks": ""
            },
            "colorscale": [
             [
              0,
              "#0d0887"
             ],
             [
              0.1111111111111111,
              "#46039f"
             ],
             [
              0.2222222222222222,
              "#7201a8"
             ],
             [
              0.3333333333333333,
              "#9c179e"
             ],
             [
              0.4444444444444444,
              "#bd3786"
             ],
             [
              0.5555555555555556,
              "#d8576b"
             ],
             [
              0.6666666666666666,
              "#ed7953"
             ],
             [
              0.7777777777777778,
              "#fb9f3a"
             ],
             [
              0.8888888888888888,
              "#fdca26"
             ],
             [
              1,
              "#f0f921"
             ]
            ],
            "type": "histogram2d"
           }
          ],
          "histogram2dcontour": [
           {
            "colorbar": {
             "outlinewidth": 0,
             "ticks": ""
            },
            "colorscale": [
             [
              0,
              "#0d0887"
             ],
             [
              0.1111111111111111,
              "#46039f"
             ],
             [
              0.2222222222222222,
              "#7201a8"
             ],
             [
              0.3333333333333333,
              "#9c179e"
             ],
             [
              0.4444444444444444,
              "#bd3786"
             ],
             [
              0.5555555555555556,
              "#d8576b"
             ],
             [
              0.6666666666666666,
              "#ed7953"
             ],
             [
              0.7777777777777778,
              "#fb9f3a"
             ],
             [
              0.8888888888888888,
              "#fdca26"
             ],
             [
              1,
              "#f0f921"
             ]
            ],
            "type": "histogram2dcontour"
           }
          ],
          "mesh3d": [
           {
            "colorbar": {
             "outlinewidth": 0,
             "ticks": ""
            },
            "type": "mesh3d"
           }
          ],
          "parcoords": [
           {
            "line": {
             "colorbar": {
              "outlinewidth": 0,
              "ticks": ""
             }
            },
            "type": "parcoords"
           }
          ],
          "pie": [
           {
            "automargin": true,
            "type": "pie"
           }
          ],
          "scatter": [
           {
            "marker": {
             "colorbar": {
              "outlinewidth": 0,
              "ticks": ""
             }
            },
            "type": "scatter"
           }
          ],
          "scatter3d": [
           {
            "line": {
             "colorbar": {
              "outlinewidth": 0,
              "ticks": ""
             }
            },
            "marker": {
             "colorbar": {
              "outlinewidth": 0,
              "ticks": ""
             }
            },
            "type": "scatter3d"
           }
          ],
          "scattercarpet": [
           {
            "marker": {
             "colorbar": {
              "outlinewidth": 0,
              "ticks": ""
             }
            },
            "type": "scattercarpet"
           }
          ],
          "scattergeo": [
           {
            "marker": {
             "colorbar": {
              "outlinewidth": 0,
              "ticks": ""
             }
            },
            "type": "scattergeo"
           }
          ],
          "scattergl": [
           {
            "marker": {
             "colorbar": {
              "outlinewidth": 0,
              "ticks": ""
             }
            },
            "type": "scattergl"
           }
          ],
          "scattermapbox": [
           {
            "marker": {
             "colorbar": {
              "outlinewidth": 0,
              "ticks": ""
             }
            },
            "type": "scattermapbox"
           }
          ],
          "scatterpolar": [
           {
            "marker": {
             "colorbar": {
              "outlinewidth": 0,
              "ticks": ""
             }
            },
            "type": "scatterpolar"
           }
          ],
          "scatterpolargl": [
           {
            "marker": {
             "colorbar": {
              "outlinewidth": 0,
              "ticks": ""
             }
            },
            "type": "scatterpolargl"
           }
          ],
          "scatterternary": [
           {
            "marker": {
             "colorbar": {
              "outlinewidth": 0,
              "ticks": ""
             }
            },
            "type": "scatterternary"
           }
          ],
          "surface": [
           {
            "colorbar": {
             "outlinewidth": 0,
             "ticks": ""
            },
            "colorscale": [
             [
              0,
              "#0d0887"
             ],
             [
              0.1111111111111111,
              "#46039f"
             ],
             [
              0.2222222222222222,
              "#7201a8"
             ],
             [
              0.3333333333333333,
              "#9c179e"
             ],
             [
              0.4444444444444444,
              "#bd3786"
             ],
             [
              0.5555555555555556,
              "#d8576b"
             ],
             [
              0.6666666666666666,
              "#ed7953"
             ],
             [
              0.7777777777777778,
              "#fb9f3a"
             ],
             [
              0.8888888888888888,
              "#fdca26"
             ],
             [
              1,
              "#f0f921"
             ]
            ],
            "type": "surface"
           }
          ],
          "table": [
           {
            "cells": {
             "fill": {
              "color": "#EBF0F8"
             },
             "line": {
              "color": "white"
             }
            },
            "header": {
             "fill": {
              "color": "#C8D4E3"
             },
             "line": {
              "color": "white"
             }
            },
            "type": "table"
           }
          ]
         },
         "layout": {
          "annotationdefaults": {
           "arrowcolor": "#2a3f5f",
           "arrowhead": 0,
           "arrowwidth": 1
          },
          "coloraxis": {
           "colorbar": {
            "outlinewidth": 0,
            "ticks": ""
           }
          },
          "colorscale": {
           "diverging": [
            [
             0,
             "#8e0152"
            ],
            [
             0.1,
             "#c51b7d"
            ],
            [
             0.2,
             "#de77ae"
            ],
            [
             0.3,
             "#f1b6da"
            ],
            [
             0.4,
             "#fde0ef"
            ],
            [
             0.5,
             "#f7f7f7"
            ],
            [
             0.6,
             "#e6f5d0"
            ],
            [
             0.7,
             "#b8e186"
            ],
            [
             0.8,
             "#7fbc41"
            ],
            [
             0.9,
             "#4d9221"
            ],
            [
             1,
             "#276419"
            ]
           ],
           "sequential": [
            [
             0,
             "#0d0887"
            ],
            [
             0.1111111111111111,
             "#46039f"
            ],
            [
             0.2222222222222222,
             "#7201a8"
            ],
            [
             0.3333333333333333,
             "#9c179e"
            ],
            [
             0.4444444444444444,
             "#bd3786"
            ],
            [
             0.5555555555555556,
             "#d8576b"
            ],
            [
             0.6666666666666666,
             "#ed7953"
            ],
            [
             0.7777777777777778,
             "#fb9f3a"
            ],
            [
             0.8888888888888888,
             "#fdca26"
            ],
            [
             1,
             "#f0f921"
            ]
           ],
           "sequentialminus": [
            [
             0,
             "#0d0887"
            ],
            [
             0.1111111111111111,
             "#46039f"
            ],
            [
             0.2222222222222222,
             "#7201a8"
            ],
            [
             0.3333333333333333,
             "#9c179e"
            ],
            [
             0.4444444444444444,
             "#bd3786"
            ],
            [
             0.5555555555555556,
             "#d8576b"
            ],
            [
             0.6666666666666666,
             "#ed7953"
            ],
            [
             0.7777777777777778,
             "#fb9f3a"
            ],
            [
             0.8888888888888888,
             "#fdca26"
            ],
            [
             1,
             "#f0f921"
            ]
           ]
          },
          "colorway": [
           "#636efa",
           "#EF553B",
           "#00cc96",
           "#ab63fa",
           "#FFA15A",
           "#19d3f3",
           "#FF6692",
           "#B6E880",
           "#FF97FF",
           "#FECB52"
          ],
          "font": {
           "color": "#2a3f5f"
          },
          "geo": {
           "bgcolor": "white",
           "lakecolor": "white",
           "landcolor": "#E5ECF6",
           "showlakes": true,
           "showland": true,
           "subunitcolor": "white"
          },
          "hoverlabel": {
           "align": "left"
          },
          "hovermode": "closest",
          "mapbox": {
           "style": "light"
          },
          "paper_bgcolor": "white",
          "plot_bgcolor": "#E5ECF6",
          "polar": {
           "angularaxis": {
            "gridcolor": "white",
            "linecolor": "white",
            "ticks": ""
           },
           "bgcolor": "#E5ECF6",
           "radialaxis": {
            "gridcolor": "white",
            "linecolor": "white",
            "ticks": ""
           }
          },
          "scene": {
           "xaxis": {
            "backgroundcolor": "#E5ECF6",
            "gridcolor": "white",
            "gridwidth": 2,
            "linecolor": "white",
            "showbackground": true,
            "ticks": "",
            "zerolinecolor": "white"
           },
           "yaxis": {
            "backgroundcolor": "#E5ECF6",
            "gridcolor": "white",
            "gridwidth": 2,
            "linecolor": "white",
            "showbackground": true,
            "ticks": "",
            "zerolinecolor": "white"
           },
           "zaxis": {
            "backgroundcolor": "#E5ECF6",
            "gridcolor": "white",
            "gridwidth": 2,
            "linecolor": "white",
            "showbackground": true,
            "ticks": "",
            "zerolinecolor": "white"
           }
          },
          "shapedefaults": {
           "line": {
            "color": "#2a3f5f"
           }
          },
          "ternary": {
           "aaxis": {
            "gridcolor": "white",
            "linecolor": "white",
            "ticks": ""
           },
           "baxis": {
            "gridcolor": "white",
            "linecolor": "white",
            "ticks": ""
           },
           "bgcolor": "#E5ECF6",
           "caxis": {
            "gridcolor": "white",
            "linecolor": "white",
            "ticks": ""
           }
          },
          "title": {
           "x": 0.05
          },
          "xaxis": {
           "automargin": true,
           "gridcolor": "white",
           "linecolor": "white",
           "ticks": "",
           "title": {
            "standoff": 15
           },
           "zerolinecolor": "white",
           "zerolinewidth": 2
          },
          "yaxis": {
           "automargin": true,
           "gridcolor": "white",
           "linecolor": "white",
           "ticks": "",
           "title": {
            "standoff": 15
           },
           "zerolinecolor": "white",
           "zerolinewidth": 2
          }
         }
        },
        "title": {
         "text": "Serving Size vs. Sugars Per 100 Grams"
        },
        "xaxis": {
         "anchor": "y",
         "domain": [
          0,
          1
         ],
         "matches": "x2",
         "showticklabels": false
        },
        "xaxis2": {
         "anchor": "y2",
         "domain": [
          0,
          1
         ],
         "title": {
          "text": "Single Serving In Grams"
         }
        },
        "yaxis": {
         "anchor": "x",
         "domain": [
          0.5349999999999999,
          0.9999999999999999
         ],
         "title": {
          "text": "Sugars Per 100 Grams"
         }
        },
        "yaxis2": {
         "anchor": "x2",
         "domain": [
          0,
          0.46499999999999997
         ],
         "title": {
          "text": "Sugars Per 100 Grams"
         }
        }
       }
      },
      "text/html": [
       "<div>\n",
       "        \n",
       "        \n",
       "            <div id=\"5d9d8a44-ba48-44df-9c55-d01c34bd6a8e\" class=\"plotly-graph-div\" style=\"height:525px; width:100%;\"></div>\n",
       "            <script type=\"text/javascript\">\n",
       "                require([\"plotly\"], function(Plotly) {\n",
       "                    window.PLOTLYENV=window.PLOTLYENV || {};\n",
       "                    \n",
       "                if (document.getElementById(\"5d9d8a44-ba48-44df-9c55-d01c34bd6a8e\")) {\n",
       "                    Plotly.newPlot(\n",
       "                        '5d9d8a44-ba48-44df-9c55-d01c34bd6a8e',\n",
       "                        [{\"hovertemplate\": \"Single Serving in Grams: %{x}<br>Total Sugars Per 100 Grams: %{y}<br>Food Item: %{text}\", \"mode\": \"markers\", \"name\": \"Total Sugars\", \"text\": [\"Oroweat Whole Wheat Bread\", \"Ritz Crackers\", \"Heinz Tomato Ketchup No Sugar Added\", \"Best Foods Mayonnaise\", \"Ball Park Hot Dog Buns\", \"Annie's Organic Macaroni & Cheese Classic Cheddar\", \"Kraft Macaroni & Cheese Single Serve\", \"Starkist Tuna Creations Ranch\", \"Starkist Tuna Creations Sweet & Spicy\", \"Starkist Chunk Light Tuna \", \"Skippy Creamy Peanut Butter\", \"Almond Breeze Almond Milk Unsweetened Vanilla\", \"Nestle Coffe Mate French Vanilla Creamer\", \"Nestle Coffe Mate French Vanilla Creamer Sugar Free\", \"Coca-Cola Diet Coke\", \"Quaker Oats Old Fashioned Oats\", \"yummy Chicken Breast Nuggets\", \"Royal Asia Vegetable Spring Rolls\", \"Cuties Clementine\", \"Hoffy Premium Beef Franks\", \"Guerrero 12\\\" Grande Flour Tortilla\", \"Guerrero Corn Tortillas\", \"Ling Ling Pork & Vegetable Dumplings\", \"Ling Ling Dumpling Sauce\", \"Foster Farms Ground Turkey 93% Lean\", \"Mahatma Extra Long Enriched Rice\", \"Kikkoman Less Sodium Soy Sauce\", \"Organics Baby Spinach\", \"Kikkoman Ponzu Citrus Sauce\", \"Marie's Raspberry Vinaigrette \", \"Lucern Mexican Style 4 Cheese Blend\", \"Sabra Organic Simply Roasted Pine Nut Hummus\", \"Butterball Sliced Honey Roasted Turkey Breast\", \"La Preferida Pinto Beans\", \"Foster Farms Boneless Skinless Chicken Breast\", \"McDonald's Chicken McNuggets 6 Piece\", \"McDonald's Small French Fries\", \"McDonald's Cheeseburger\", \"Carl's Jr Kid's Cheeseburger\", \"Carl's Jr Hand Breaded Chicken Tenders 3 Piece\", \"Carl's Jr Natural Cut Fries Medium\", \"Rubio's Ancho Citrus Shrimp Burrito\", \"El Pollo Loco Fire-Grilled Chicken Leg\", \"El Pollo Loco Fire-Grilled Chicken Breast\", \"El Pollo Loco Macaroni and Cheese Side\", \"Large Egg\", \"Pizza Hut Medium Hand Tossed Cheese\", \"Pizza Hut Medium Hand Tossed Pepperoni\", \"Medium Avocado\"], \"type\": \"scatter\", \"x\": [38.0, 16.0, 16.0, 13.0, 50.0, 71.0, 58.0, 74.0, 74.0, 74.0, 32.0, 240.0, 15.0, 15.0, 500.0, 40.0, 83.0, 113.0, 88.0, 56.0, 96.0, 47.0, 146.0, 17.0, 112.0, 45.0, 15.0, 100.0, 15.0, 32.0, 28.0, 28.0, 28.0, 36.0, 112.0, 97.0, 71.0, 114.0, 123.0, 128.0, 147.0, 449.0, 45.4, 121.9, 170.0, 50.0, 84.0, 83.0, 50.0], \"xaxis\": \"x\", \"y\": [7.894736842105263, 6.25, 6.1875, 0.0, 8.0, 8.450704225352112, 6.896551724137931, 0.6756756756756757, 5.405405405405405, 0.0, 9.375, 0.0, 33.33333333333333, 0.0, 0.0, 2.5, 0.0, 4.424778761061947, 7.954545454545454, 0.0, 2.083333333333333, 4.25531914893617, 2.73972602739726, 23.52941176470588, 0.0, 0.0, 0.0, 0.0, 6.666666666666667, 18.75, 0.0, 3.5357142857142856, 7.142857142857142, 2.7777777777777777, 0.0, 0.0, 0.0, 5.263157894736842, 5.691056910569105, 0.0, 0.0, 1.3363028953229399, 0.0, 0.0, 2.3529411764705883, 0.0, 3.571428571428571, 3.614457831325301, 0.0], \"yaxis\": \"y\"}, {\"hovertemplate\": \"Single Serving in Grams: %{x}<br>Total Sugars Per 100 Grams: %{y}<br>Food Item: %{text}\", \"mode\": \"markers\", \"name\": \"Caution\", \"text\": [\"Cap'n Crunch Crunch Berries\", \"Cap'n Crunch \", \"Kellogg's Froot Loops\", \"Post Honey Bunches of Oats\", \"Kellogg's Frosted Flakes\", \"General Mills Lucky Charms\", \"General Mills Fruit By The Foot\", \"Welch's Mixed Fruit\", \"Duncan Hines Blueberry Muffin Mug Cake\", \"Smuckers Goober Grape\", \"Smuckers Goober Strawberry\", \"Aunt Jemima Butter Lite Syrup\", \"Lactaid 2% Reduced Fat Milk\", \"Danimals Smoothie Strawberry Flavor\", \"Danimals Smoothie Birthday Cake Flavor\", \"Krusteaz Buttermilk Pancake Mix\", \"Dole Banana \", \"Washington Apple\", \"Sun Pacific Navel Orange\", \"Belvita Cinnamon Brown Sugar Breakfast Bars\", \"Coca-Cola Caffeine Free\", \"McDonald's Barbeque Sauce\", \"Snickers Bar\", \"Baskin Robbins Rainbow Sherbet\", \"Quaker Simply Granola Oats, Honey, Raisins, Almonds\"], \"type\": \"scatter\", \"x\": [37.0, 38.0, 39.0, 42.0, 40.0, 36.0, 21.0, 22.7, 65.0, 56.0, 56.0, 30.0, 240.0, 93.0, 93.0, 59.0, 118.0, 242.0, 140.0, 50.0, 355.0, 28.0, 44.0, 71.0, 68.0], \"xaxis\": \"x\", \"y\": [43.24324324324324, 44.73684210526316, 30.76923076923077, 21.428571428571427, 42.5, 33.33333333333333, 47.61904761904761, 44.05286343612335, 40.0, 37.5, 39.285714285714285, 40.0, 5.0, 9.67741935483871, 9.67741935483871, 18.64406779661017, 11.864406779661017, 10.330578512396695, 8.571428571428571, 20.0, 10.985915492957748, 35.714285714285715, 45.45454545454545, 18.30985915492958, 23.52941176470588], \"yaxis\": \"y\"}, {\"hovertemplate\": \"Single Serving in Grams: %{x}<br>Added Sugars Per 100 Grams: %{y}<br>Food Item: %{text}\", \"marker\": {\"color\": \"Orange\"}, \"mode\": \"markers\", \"name\": \"Added Sugars\", \"text\": [\"Oroweat Whole Wheat Bread\", \"Cap'n Crunch Crunch Berries\", \"Cap'n Crunch \", \"Kellogg's Froot Loops\", \"Post Honey Bunches of Oats\", \"Kellogg's Frosted Flakes\", \"General Mills Lucky Charms\", \"Ritz Crackers\", \"Welch's Mixed Fruit\", \"Ball Park Hot Dog Buns\", \"Duncan Hines Blueberry Muffin Mug Cake\", \"Starkist Tuna Creations Ranch\", \"Starkist Tuna Creations Sweet & Spicy\", \"Skippy Creamy Peanut Butter\", \"Smuckers Goober Grape\", \"Smuckers Goober Strawberry\", \"Aunt Jemima Butter Lite Syrup\", \"Nestle Coffe Mate French Vanilla Creamer\", \"Danimals Smoothie Strawberry Flavor\", \"Danimals Smoothie Birthday Cake Flavor\", \"Krusteaz Buttermilk Pancake Mix\", \"Royal Asia Vegetable Spring Rolls\", \"Belvita Cinnamon Brown Sugar Breakfast Bars\", \"Kikkoman Ponzu Citrus Sauce\", \"Marie's Raspberry Vinaigrette \", \"Coca-Cola Caffeine Free\", \"Baskin Robbins Rainbow Sherbet\", \"Quaker Simply Granola Oats, Honey, Raisins, Almonds\"], \"type\": \"scatter\", \"x\": [38.0, 37.0, 38.0, 39.0, 42.0, 40.0, 36.0, 16.0, 22.7, 50.0, 65.0, 74.0, 74.0, 32.0, 56.0, 56.0, 30.0, 15.0, 93.0, 93.0, 59.0, 113.0, 50.0, 15.0, 32.0, 355.0, 71.0, 68.0], \"xaxis\": \"x2\", \"y\": [5.263157894736842, 43.24324324324324, 44.73684210526316, 30.76923076923077, 19.047619047619047, 42.5, 33.33333333333333, 6.25, 35.24229074889868, 8.0, 36.92307692307693, 0.6756756756756757, 5.405405405405405, 9.375, 32.142857142857146, 33.92857142857143, 40.0, 33.33333333333333, 7.526881720430108, 7.526881720430108, 16.94915254237288, 2.6548672566371683, 20.0, 6.666666666666667, 18.75, 10.985915492957748, 15.492957746478872, 11.76470588235294], \"yaxis\": \"y2\"}],\n",
       "                        {\"annotations\": [{\"font\": {\"size\": 16}, \"showarrow\": false, \"text\": \"Total Sugars\", \"x\": 0.5, \"xanchor\": \"center\", \"xref\": \"paper\", \"y\": 0.9999999999999999, \"yanchor\": \"bottom\", \"yref\": \"paper\"}, {\"font\": {\"size\": 16}, \"showarrow\": false, \"text\": \"Added Sugars\", \"x\": 0.5, \"xanchor\": \"center\", \"xref\": \"paper\", \"y\": 0.46499999999999997, \"yanchor\": \"bottom\", \"yref\": \"paper\"}], \"template\": {\"data\": {\"bar\": [{\"error_x\": {\"color\": \"#2a3f5f\"}, \"error_y\": {\"color\": \"#2a3f5f\"}, \"marker\": {\"line\": {\"color\": \"#E5ECF6\", \"width\": 0.5}}, \"type\": \"bar\"}], \"barpolar\": [{\"marker\": {\"line\": {\"color\": \"#E5ECF6\", \"width\": 0.5}}, \"type\": \"barpolar\"}], \"carpet\": [{\"aaxis\": {\"endlinecolor\": \"#2a3f5f\", \"gridcolor\": \"white\", \"linecolor\": \"white\", \"minorgridcolor\": \"white\", \"startlinecolor\": \"#2a3f5f\"}, \"baxis\": {\"endlinecolor\": \"#2a3f5f\", \"gridcolor\": \"white\", \"linecolor\": \"white\", \"minorgridcolor\": \"white\", \"startlinecolor\": \"#2a3f5f\"}, \"type\": \"carpet\"}], \"choropleth\": [{\"colorbar\": {\"outlinewidth\": 0, \"ticks\": \"\"}, \"type\": \"choropleth\"}], \"contour\": [{\"colorbar\": {\"outlinewidth\": 0, \"ticks\": \"\"}, \"colorscale\": [[0.0, \"#0d0887\"], [0.1111111111111111, \"#46039f\"], [0.2222222222222222, \"#7201a8\"], [0.3333333333333333, \"#9c179e\"], [0.4444444444444444, \"#bd3786\"], [0.5555555555555556, \"#d8576b\"], [0.6666666666666666, \"#ed7953\"], [0.7777777777777778, \"#fb9f3a\"], [0.8888888888888888, \"#fdca26\"], [1.0, \"#f0f921\"]], \"type\": \"contour\"}], \"contourcarpet\": [{\"colorbar\": {\"outlinewidth\": 0, \"ticks\": \"\"}, \"type\": \"contourcarpet\"}], \"heatmap\": [{\"colorbar\": {\"outlinewidth\": 0, \"ticks\": \"\"}, \"colorscale\": [[0.0, \"#0d0887\"], [0.1111111111111111, \"#46039f\"], [0.2222222222222222, \"#7201a8\"], [0.3333333333333333, \"#9c179e\"], [0.4444444444444444, \"#bd3786\"], [0.5555555555555556, \"#d8576b\"], [0.6666666666666666, \"#ed7953\"], [0.7777777777777778, \"#fb9f3a\"], [0.8888888888888888, \"#fdca26\"], [1.0, \"#f0f921\"]], \"type\": \"heatmap\"}], \"heatmapgl\": [{\"colorbar\": {\"outlinewidth\": 0, \"ticks\": \"\"}, \"colorscale\": [[0.0, \"#0d0887\"], [0.1111111111111111, \"#46039f\"], [0.2222222222222222, \"#7201a8\"], [0.3333333333333333, \"#9c179e\"], [0.4444444444444444, \"#bd3786\"], [0.5555555555555556, \"#d8576b\"], [0.6666666666666666, \"#ed7953\"], [0.7777777777777778, \"#fb9f3a\"], [0.8888888888888888, \"#fdca26\"], [1.0, \"#f0f921\"]], \"type\": \"heatmapgl\"}], \"histogram\": [{\"marker\": {\"colorbar\": {\"outlinewidth\": 0, \"ticks\": \"\"}}, \"type\": \"histogram\"}], \"histogram2d\": [{\"colorbar\": {\"outlinewidth\": 0, \"ticks\": \"\"}, \"colorscale\": [[0.0, \"#0d0887\"], [0.1111111111111111, \"#46039f\"], [0.2222222222222222, \"#7201a8\"], [0.3333333333333333, \"#9c179e\"], [0.4444444444444444, \"#bd3786\"], [0.5555555555555556, \"#d8576b\"], [0.6666666666666666, \"#ed7953\"], [0.7777777777777778, \"#fb9f3a\"], [0.8888888888888888, \"#fdca26\"], [1.0, \"#f0f921\"]], \"type\": \"histogram2d\"}], \"histogram2dcontour\": [{\"colorbar\": {\"outlinewidth\": 0, \"ticks\": \"\"}, \"colorscale\": [[0.0, \"#0d0887\"], [0.1111111111111111, \"#46039f\"], [0.2222222222222222, \"#7201a8\"], [0.3333333333333333, \"#9c179e\"], [0.4444444444444444, \"#bd3786\"], [0.5555555555555556, \"#d8576b\"], [0.6666666666666666, \"#ed7953\"], [0.7777777777777778, \"#fb9f3a\"], [0.8888888888888888, \"#fdca26\"], [1.0, \"#f0f921\"]], \"type\": \"histogram2dcontour\"}], \"mesh3d\": [{\"colorbar\": {\"outlinewidth\": 0, \"ticks\": \"\"}, \"type\": \"mesh3d\"}], \"parcoords\": [{\"line\": {\"colorbar\": {\"outlinewidth\": 0, \"ticks\": \"\"}}, \"type\": \"parcoords\"}], \"pie\": [{\"automargin\": true, \"type\": \"pie\"}], \"scatter\": [{\"marker\": {\"colorbar\": {\"outlinewidth\": 0, \"ticks\": \"\"}}, \"type\": \"scatter\"}], \"scatter3d\": [{\"line\": {\"colorbar\": {\"outlinewidth\": 0, \"ticks\": \"\"}}, \"marker\": {\"colorbar\": {\"outlinewidth\": 0, \"ticks\": \"\"}}, \"type\": \"scatter3d\"}], \"scattercarpet\": [{\"marker\": {\"colorbar\": {\"outlinewidth\": 0, \"ticks\": \"\"}}, \"type\": \"scattercarpet\"}], \"scattergeo\": [{\"marker\": {\"colorbar\": {\"outlinewidth\": 0, \"ticks\": \"\"}}, \"type\": \"scattergeo\"}], \"scattergl\": [{\"marker\": {\"colorbar\": {\"outlinewidth\": 0, \"ticks\": \"\"}}, \"type\": \"scattergl\"}], \"scattermapbox\": [{\"marker\": {\"colorbar\": {\"outlinewidth\": 0, \"ticks\": \"\"}}, \"type\": \"scattermapbox\"}], \"scatterpolar\": [{\"marker\": {\"colorbar\": {\"outlinewidth\": 0, \"ticks\": \"\"}}, \"type\": \"scatterpolar\"}], \"scatterpolargl\": [{\"marker\": {\"colorbar\": {\"outlinewidth\": 0, \"ticks\": \"\"}}, \"type\": \"scatterpolargl\"}], \"scatterternary\": [{\"marker\": {\"colorbar\": {\"outlinewidth\": 0, \"ticks\": \"\"}}, \"type\": \"scatterternary\"}], \"surface\": [{\"colorbar\": {\"outlinewidth\": 0, \"ticks\": \"\"}, \"colorscale\": [[0.0, \"#0d0887\"], [0.1111111111111111, \"#46039f\"], [0.2222222222222222, \"#7201a8\"], [0.3333333333333333, \"#9c179e\"], [0.4444444444444444, \"#bd3786\"], [0.5555555555555556, \"#d8576b\"], [0.6666666666666666, \"#ed7953\"], [0.7777777777777778, \"#fb9f3a\"], [0.8888888888888888, \"#fdca26\"], [1.0, \"#f0f921\"]], \"type\": \"surface\"}], \"table\": [{\"cells\": {\"fill\": {\"color\": \"#EBF0F8\"}, \"line\": {\"color\": \"white\"}}, \"header\": {\"fill\": {\"color\": \"#C8D4E3\"}, \"line\": {\"color\": \"white\"}}, \"type\": \"table\"}]}, \"layout\": {\"annotationdefaults\": {\"arrowcolor\": \"#2a3f5f\", \"arrowhead\": 0, \"arrowwidth\": 1}, \"coloraxis\": {\"colorbar\": {\"outlinewidth\": 0, \"ticks\": \"\"}}, \"colorscale\": {\"diverging\": [[0, \"#8e0152\"], [0.1, \"#c51b7d\"], [0.2, \"#de77ae\"], [0.3, \"#f1b6da\"], [0.4, \"#fde0ef\"], [0.5, \"#f7f7f7\"], [0.6, \"#e6f5d0\"], [0.7, \"#b8e186\"], [0.8, \"#7fbc41\"], [0.9, \"#4d9221\"], [1, \"#276419\"]], \"sequential\": [[0.0, \"#0d0887\"], [0.1111111111111111, \"#46039f\"], [0.2222222222222222, \"#7201a8\"], [0.3333333333333333, \"#9c179e\"], [0.4444444444444444, \"#bd3786\"], [0.5555555555555556, \"#d8576b\"], [0.6666666666666666, \"#ed7953\"], [0.7777777777777778, \"#fb9f3a\"], [0.8888888888888888, \"#fdca26\"], [1.0, \"#f0f921\"]], \"sequentialminus\": [[0.0, \"#0d0887\"], [0.1111111111111111, \"#46039f\"], [0.2222222222222222, \"#7201a8\"], [0.3333333333333333, \"#9c179e\"], [0.4444444444444444, \"#bd3786\"], [0.5555555555555556, \"#d8576b\"], [0.6666666666666666, \"#ed7953\"], [0.7777777777777778, \"#fb9f3a\"], [0.8888888888888888, \"#fdca26\"], [1.0, \"#f0f921\"]]}, \"colorway\": [\"#636efa\", \"#EF553B\", \"#00cc96\", \"#ab63fa\", \"#FFA15A\", \"#19d3f3\", \"#FF6692\", \"#B6E880\", \"#FF97FF\", \"#FECB52\"], \"font\": {\"color\": \"#2a3f5f\"}, \"geo\": {\"bgcolor\": \"white\", \"lakecolor\": \"white\", \"landcolor\": \"#E5ECF6\", \"showlakes\": true, \"showland\": true, \"subunitcolor\": \"white\"}, \"hoverlabel\": {\"align\": \"left\"}, \"hovermode\": \"closest\", \"mapbox\": {\"style\": \"light\"}, \"paper_bgcolor\": \"white\", \"plot_bgcolor\": \"#E5ECF6\", \"polar\": {\"angularaxis\": {\"gridcolor\": \"white\", \"linecolor\": \"white\", \"ticks\": \"\"}, \"bgcolor\": \"#E5ECF6\", \"radialaxis\": {\"gridcolor\": \"white\", \"linecolor\": \"white\", \"ticks\": \"\"}}, \"scene\": {\"xaxis\": {\"backgroundcolor\": \"#E5ECF6\", \"gridcolor\": \"white\", \"gridwidth\": 2, \"linecolor\": \"white\", \"showbackground\": true, \"ticks\": \"\", \"zerolinecolor\": \"white\"}, \"yaxis\": {\"backgroundcolor\": \"#E5ECF6\", \"gridcolor\": \"white\", \"gridwidth\": 2, \"linecolor\": \"white\", \"showbackground\": true, \"ticks\": \"\", \"zerolinecolor\": \"white\"}, \"zaxis\": {\"backgroundcolor\": \"#E5ECF6\", \"gridcolor\": \"white\", \"gridwidth\": 2, \"linecolor\": \"white\", \"showbackground\": true, \"ticks\": \"\", \"zerolinecolor\": \"white\"}}, \"shapedefaults\": {\"line\": {\"color\": \"#2a3f5f\"}}, \"ternary\": {\"aaxis\": {\"gridcolor\": \"white\", \"linecolor\": \"white\", \"ticks\": \"\"}, \"baxis\": {\"gridcolor\": \"white\", \"linecolor\": \"white\", \"ticks\": \"\"}, \"bgcolor\": \"#E5ECF6\", \"caxis\": {\"gridcolor\": \"white\", \"linecolor\": \"white\", \"ticks\": \"\"}}, \"title\": {\"x\": 0.05}, \"xaxis\": {\"automargin\": true, \"gridcolor\": \"white\", \"linecolor\": \"white\", \"ticks\": \"\", \"title\": {\"standoff\": 15}, \"zerolinecolor\": \"white\", \"zerolinewidth\": 2}, \"yaxis\": {\"automargin\": true, \"gridcolor\": \"white\", \"linecolor\": \"white\", \"ticks\": \"\", \"title\": {\"standoff\": 15}, \"zerolinecolor\": \"white\", \"zerolinewidth\": 2}}}, \"title\": {\"text\": \"Serving Size vs. Sugars Per 100 Grams\"}, \"xaxis\": {\"anchor\": \"y\", \"domain\": [0.0, 1.0], \"matches\": \"x2\", \"showticklabels\": false}, \"xaxis2\": {\"anchor\": \"y2\", \"domain\": [0.0, 1.0], \"title\": {\"text\": \"Single Serving In Grams\"}}, \"yaxis\": {\"anchor\": \"x\", \"domain\": [0.5349999999999999, 0.9999999999999999], \"title\": {\"text\": \"Sugars Per 100 Grams\"}}, \"yaxis2\": {\"anchor\": \"x2\", \"domain\": [0.0, 0.46499999999999997], \"title\": {\"text\": \"Sugars Per 100 Grams\"}}},\n",
       "                        {\"responsive\": true}\n",
       "                    ).then(function(){\n",
       "                            \n",
       "var gd = document.getElementById('5d9d8a44-ba48-44df-9c55-d01c34bd6a8e');\n",
       "var x = new MutationObserver(function (mutations, observer) {{\n",
       "        var display = window.getComputedStyle(gd).display;\n",
       "        if (!display || display === 'none') {{\n",
       "            console.log([gd, 'removed!']);\n",
       "            Plotly.purge(gd);\n",
       "            observer.disconnect();\n",
       "        }}\n",
       "}});\n",
       "\n",
       "// Listen for the removal of the full notebook cells\n",
       "var notebookContainer = gd.closest('#notebook-container');\n",
       "if (notebookContainer) {{\n",
       "    x.observe(notebookContainer, {childList: true});\n",
       "}}\n",
       "\n",
       "// Listen for the clearing of the current output cell\n",
       "var outputEl = gd.closest('.output');\n",
       "if (outputEl) {{\n",
       "    x.observe(outputEl, {childList: true});\n",
       "}}\n",
       "\n",
       "                        })\n",
       "                };\n",
       "                });\n",
       "            </script>\n",
       "        </div>"
      ]
     },
     "metadata": {},
     "output_type": "display_data"
    }
   ],
   "source": [
    "\"hide_input\"\n",
    "sugars_fig = py.subplots.make_subplots(rows=2,cols=1,\n",
    "                                       subplot_titles=('Total Sugars',\n",
    "                                                       'Added Sugars'),\n",
    "                                       vertical_spacing=0.07,\n",
    "                                       shared_xaxes=True)\n",
    "\n",
    "sugars_fig.add_trace(go.Scatter(x=no_caution['serving_measurement_g'],y=no_caution['total_sugars_per_100g'],mode='markers',\n",
    "                                name='Total Sugars',\n",
    "                                hovertemplate=\n",
    "                                   'Single Serving in Grams: %{x}'+\n",
    "                                   '<br>Total Sugars Per 100 Grams: %{y}<br>'+\n",
    "                                   'Food Item: %{text}',\n",
    "                                text=no_caution['food_item']),\n",
    "                    row=1, col=1)\n",
    "sugars_fig.add_trace(go.Scatter(x=caution['serving_measurement_g'],y=caution['total_sugars_per_100g'],mode='markers',\n",
    "                                name='Caution',\n",
    "                                hovertemplate=\n",
    "                                   'Single Serving in Grams: %{x}'+\n",
    "                                   '<br>Total Sugars Per 100 Grams: %{y}<br>'+\n",
    "                                   'Food Item: %{text}',\n",
    "                                text=caution['food_item']),\n",
    "                    row=1, col=1)\n",
    "\n",
    "sugars_fig.add_trace(go.Scatter(x=added_sugars['serving_measurement_g'],\n",
    "                                y=added_sugars['added_sugars_per_100g'],mode='markers',\n",
    "                                name='Added Sugars',\n",
    "                                hovertemplate=\n",
    "                                   'Single Serving in Grams: %{x}'+\n",
    "                                   '<br>Added Sugars Per 100 Grams: %{y}<br>'+\n",
    "                                   'Food Item: %{text}',\n",
    "                                text=added_sugars['food_item'],\n",
    "                                marker={'color':'Orange'}),\n",
    "                    row=2, col=1)\n",
    "\n",
    "sugars_fig.update_layout(title_text='Serving Size vs. Sugars Per 100 Grams')\n",
    "sugars_fig.update_xaxes(title_text='Single Serving In Grams',row=2,col=1)\n",
    "sugars_fig.update_yaxes(title_text='Sugars Per 100 Grams(Interactive Plot)')\n",
    "\n",
    "sugars_fig.show()"
   ]
  },
  {
   "cell_type": "markdown",
   "metadata": {},
   "source": [
    "The first graph here displays the <ins>total sugars</ins> per 100 grams versus single serving size in grams with **caution** on any items that contain 9 or more grams of sugar per serving. The second graph contains all of the items which contain <ins>added sugars</ins> and since added sugars generally want to be avoided, this can be considered its own caution zone.\n",
    "\n",
    "Surprisingly all of the fruit/fruit-based items, except the single clementine, met the criteria for being high in sugar. Although fruits, particularly whole fruits, are generally considered to be essential in a well-balanced diet, those generally consumed in my household are still high in **natural sugar**.\n",
    "\n",
    "The big culprits from this sugar analysis are cereals. In the previous section I noted how cereal can still be considered an adequate source of carbohydrates but after some further investigation an overwhelming amount of total carbohydrates comes from **added sugar**.\n",
    "\n",
    "To get a better understanding, below is a plot showing the relationship between food items' carbohydrates content and their added sugar content.\n"
   ]
  },
  {
   "cell_type": "code",
   "execution_count": 49,
   "metadata": {},
   "outputs": [
    {
     "data": {
      "application/vnd.plotly.v1+json": {
       "config": {
        "plotlyServerURL": "https://plot.ly"
       },
       "data": [
        {
         "customdata": [
          [
           "Oroweat Whole Wheat Bread"
          ],
          [
           "Cap'n Crunch Crunch Berries"
          ],
          [
           "Cap'n Crunch "
          ],
          [
           "Kellogg's Froot Loops"
          ],
          [
           "Post Honey Bunches of Oats"
          ],
          [
           "Kellogg's Frosted Flakes"
          ],
          [
           "General Mills Lucky Charms"
          ],
          [
           "Ritz Crackers"
          ],
          [
           "General Mills Fruit By The Foot"
          ],
          [
           "Welch's Mixed Fruit"
          ],
          [
           "Heinz Tomato Ketchup No Sugar Added"
          ],
          [
           "Best Foods Mayonnaise"
          ],
          [
           "Ball Park Hot Dog Buns"
          ],
          [
           "Duncan Hines Blueberry Muffin Mug Cake"
          ],
          [
           "Annie's Organic Macaroni & Cheese Classic Cheddar"
          ],
          [
           "Kraft Macaroni & Cheese Single Serve"
          ],
          [
           "Starkist Tuna Creations Ranch"
          ],
          [
           "Starkist Tuna Creations Sweet & Spicy"
          ],
          [
           "Starkist Chunk Light Tuna "
          ],
          [
           "Skippy Creamy Peanut Butter"
          ],
          [
           "Smuckers Goober Grape"
          ],
          [
           "Smuckers Goober Strawberry"
          ],
          [
           "Aunt Jemima Butter Lite Syrup"
          ],
          [
           "Lactaid 2% Reduced Fat Milk"
          ],
          [
           "Almond Breeze Almond Milk Unsweetened Vanilla"
          ],
          [
           "Nestle Coffe Mate French Vanilla Creamer"
          ],
          [
           "Nestle Coffe Mate French Vanilla Creamer Sugar Free"
          ],
          [
           "Coca-Cola Diet Coke"
          ],
          [
           "Danimals Smoothie Strawberry Flavor"
          ],
          [
           "Danimals Smoothie Birthday Cake Flavor"
          ],
          [
           "Krusteaz Buttermilk Pancake Mix"
          ],
          [
           "Quaker Oats Old Fashioned Oats"
          ],
          [
           "yummy Chicken Breast Nuggets"
          ],
          [
           "Royal Asia Vegetable Spring Rolls"
          ],
          [
           "Dole Banana "
          ],
          [
           "Washington Apple"
          ],
          [
           "Sun Pacific Navel Orange"
          ],
          [
           "Cuties Clementine"
          ],
          [
           "Hoffy Premium Beef Franks"
          ],
          [
           "Guerrero 12\" Grande Flour Tortilla"
          ],
          [
           "Guerrero Corn Tortillas"
          ],
          [
           "Ling Ling Pork & Vegetable Dumplings"
          ],
          [
           "Ling Ling Dumpling Sauce"
          ],
          [
           "Foster Farms Ground Turkey 93% Lean"
          ],
          [
           "Belvita Cinnamon Brown Sugar Breakfast Bars"
          ],
          [
           "Mahatma Extra Long Enriched Rice"
          ],
          [
           "Kikkoman Less Sodium Soy Sauce"
          ],
          [
           "Organics Baby Spinach"
          ],
          [
           "Kikkoman Ponzu Citrus Sauce"
          ],
          [
           "Marie's Raspberry Vinaigrette "
          ],
          [
           "Coca-Cola Caffeine Free"
          ],
          [
           "Lucern Mexican Style 4 Cheese Blend"
          ],
          [
           "Sabra Organic Simply Roasted Pine Nut Hummus"
          ],
          [
           "Butterball Sliced Honey Roasted Turkey Breast"
          ],
          [
           "La Preferida Pinto Beans"
          ],
          [
           "Foster Farms Boneless Skinless Chicken Breast"
          ],
          [
           "McDonald's Chicken McNuggets 6 Piece"
          ],
          [
           "McDonald's Barbeque Sauce"
          ],
          [
           "McDonald's Small French Fries"
          ],
          [
           "McDonald's Cheeseburger"
          ],
          [
           "Carl's Jr Kid's Cheeseburger"
          ],
          [
           "Carl's Jr Hand Breaded Chicken Tenders 3 Piece"
          ],
          [
           "Carl's Jr Natural Cut Fries Medium"
          ],
          [
           "Rubio's Ancho Citrus Shrimp Burrito"
          ],
          [
           "El Pollo Loco Fire-Grilled Chicken Leg"
          ],
          [
           "El Pollo Loco Fire-Grilled Chicken Breast"
          ],
          [
           "El Pollo Loco Macaroni and Cheese Side"
          ],
          [
           "Large Egg"
          ],
          [
           "Snickers Bar"
          ],
          [
           "Pizza Hut Medium Hand Tossed Cheese"
          ],
          [
           "Pizza Hut Medium Hand Tossed Pepperoni"
          ],
          [
           "Baskin Robbins Rainbow Sherbet"
          ],
          [
           "Medium Avocado"
          ],
          [
           "Quaker Simply Granola Oats, Honey, Raisins, Almonds"
          ]
         ],
         "hoverlabel": {
          "namelength": 0
         },
         "hovertemplate": "Single Serving Carbs(g)=%{x}<br>Single Serving Added Sugars(g)=%{y}<br>food_item=%{customdata[0]}",
         "legendgroup": "",
         "marker": {
          "color": "#636efa",
          "symbol": "circle"
         },
         "mode": "markers",
         "name": "",
         "showlegend": false,
         "type": "scatter",
         "x": [
          19,
          32,
          33,
          34,
          34,
          36,
          30,
          10,
          17,
          17,
          1,
          0,
          27,
          49,
          50,
          40,
          1,
          4,
          0,
          6,
          30,
          29,
          12,
          13,
          1,
          5,
          1,
          0,
          11,
          11,
          45,
          27,
          12,
          32,
          27,
          34,
          18,
          9,
          2,
          47,
          21,
          39,
          4,
          0,
          35,
          36,
          1,
          4,
          2,
          6,
          39,
          1,
          4,
          3,
          22,
          0,
          18,
          12,
          29,
          33,
          34,
          13,
          55,
          110,
          0,
          0,
          24,
          0,
          28,
          26,
          25,
          17,
          4,
          51
         ],
         "xaxis": "x",
         "y": [
          2,
          16,
          17,
          12,
          8,
          17,
          12,
          1,
          0,
          8,
          0,
          0,
          4,
          24,
          0,
          0,
          0.5,
          4,
          0,
          3,
          18,
          19,
          12,
          0,
          0,
          5,
          0,
          0,
          7,
          7,
          10,
          0,
          0,
          3,
          0,
          0,
          0,
          0,
          0,
          0,
          0,
          0,
          0,
          0,
          10,
          0,
          0,
          0,
          1,
          6,
          39,
          0,
          0,
          0,
          0,
          0,
          0,
          0,
          0,
          0,
          0,
          0,
          0,
          0,
          0,
          0,
          0,
          0,
          0,
          0,
          0,
          11,
          0,
          8
         ],
         "yaxis": "y"
        }
       ],
       "layout": {
        "legend": {
         "tracegroupgap": 0
        },
        "template": {
         "data": {
          "bar": [
           {
            "error_x": {
             "color": "#2a3f5f"
            },
            "error_y": {
             "color": "#2a3f5f"
            },
            "marker": {
             "line": {
              "color": "#E5ECF6",
              "width": 0.5
             }
            },
            "type": "bar"
           }
          ],
          "barpolar": [
           {
            "marker": {
             "line": {
              "color": "#E5ECF6",
              "width": 0.5
             }
            },
            "type": "barpolar"
           }
          ],
          "carpet": [
           {
            "aaxis": {
             "endlinecolor": "#2a3f5f",
             "gridcolor": "white",
             "linecolor": "white",
             "minorgridcolor": "white",
             "startlinecolor": "#2a3f5f"
            },
            "baxis": {
             "endlinecolor": "#2a3f5f",
             "gridcolor": "white",
             "linecolor": "white",
             "minorgridcolor": "white",
             "startlinecolor": "#2a3f5f"
            },
            "type": "carpet"
           }
          ],
          "choropleth": [
           {
            "colorbar": {
             "outlinewidth": 0,
             "ticks": ""
            },
            "type": "choropleth"
           }
          ],
          "contour": [
           {
            "colorbar": {
             "outlinewidth": 0,
             "ticks": ""
            },
            "colorscale": [
             [
              0,
              "#0d0887"
             ],
             [
              0.1111111111111111,
              "#46039f"
             ],
             [
              0.2222222222222222,
              "#7201a8"
             ],
             [
              0.3333333333333333,
              "#9c179e"
             ],
             [
              0.4444444444444444,
              "#bd3786"
             ],
             [
              0.5555555555555556,
              "#d8576b"
             ],
             [
              0.6666666666666666,
              "#ed7953"
             ],
             [
              0.7777777777777778,
              "#fb9f3a"
             ],
             [
              0.8888888888888888,
              "#fdca26"
             ],
             [
              1,
              "#f0f921"
             ]
            ],
            "type": "contour"
           }
          ],
          "contourcarpet": [
           {
            "colorbar": {
             "outlinewidth": 0,
             "ticks": ""
            },
            "type": "contourcarpet"
           }
          ],
          "heatmap": [
           {
            "colorbar": {
             "outlinewidth": 0,
             "ticks": ""
            },
            "colorscale": [
             [
              0,
              "#0d0887"
             ],
             [
              0.1111111111111111,
              "#46039f"
             ],
             [
              0.2222222222222222,
              "#7201a8"
             ],
             [
              0.3333333333333333,
              "#9c179e"
             ],
             [
              0.4444444444444444,
              "#bd3786"
             ],
             [
              0.5555555555555556,
              "#d8576b"
             ],
             [
              0.6666666666666666,
              "#ed7953"
             ],
             [
              0.7777777777777778,
              "#fb9f3a"
             ],
             [
              0.8888888888888888,
              "#fdca26"
             ],
             [
              1,
              "#f0f921"
             ]
            ],
            "type": "heatmap"
           }
          ],
          "heatmapgl": [
           {
            "colorbar": {
             "outlinewidth": 0,
             "ticks": ""
            },
            "colorscale": [
             [
              0,
              "#0d0887"
             ],
             [
              0.1111111111111111,
              "#46039f"
             ],
             [
              0.2222222222222222,
              "#7201a8"
             ],
             [
              0.3333333333333333,
              "#9c179e"
             ],
             [
              0.4444444444444444,
              "#bd3786"
             ],
             [
              0.5555555555555556,
              "#d8576b"
             ],
             [
              0.6666666666666666,
              "#ed7953"
             ],
             [
              0.7777777777777778,
              "#fb9f3a"
             ],
             [
              0.8888888888888888,
              "#fdca26"
             ],
             [
              1,
              "#f0f921"
             ]
            ],
            "type": "heatmapgl"
           }
          ],
          "histogram": [
           {
            "marker": {
             "colorbar": {
              "outlinewidth": 0,
              "ticks": ""
             }
            },
            "type": "histogram"
           }
          ],
          "histogram2d": [
           {
            "colorbar": {
             "outlinewidth": 0,
             "ticks": ""
            },
            "colorscale": [
             [
              0,
              "#0d0887"
             ],
             [
              0.1111111111111111,
              "#46039f"
             ],
             [
              0.2222222222222222,
              "#7201a8"
             ],
             [
              0.3333333333333333,
              "#9c179e"
             ],
             [
              0.4444444444444444,
              "#bd3786"
             ],
             [
              0.5555555555555556,
              "#d8576b"
             ],
             [
              0.6666666666666666,
              "#ed7953"
             ],
             [
              0.7777777777777778,
              "#fb9f3a"
             ],
             [
              0.8888888888888888,
              "#fdca26"
             ],
             [
              1,
              "#f0f921"
             ]
            ],
            "type": "histogram2d"
           }
          ],
          "histogram2dcontour": [
           {
            "colorbar": {
             "outlinewidth": 0,
             "ticks": ""
            },
            "colorscale": [
             [
              0,
              "#0d0887"
             ],
             [
              0.1111111111111111,
              "#46039f"
             ],
             [
              0.2222222222222222,
              "#7201a8"
             ],
             [
              0.3333333333333333,
              "#9c179e"
             ],
             [
              0.4444444444444444,
              "#bd3786"
             ],
             [
              0.5555555555555556,
              "#d8576b"
             ],
             [
              0.6666666666666666,
              "#ed7953"
             ],
             [
              0.7777777777777778,
              "#fb9f3a"
             ],
             [
              0.8888888888888888,
              "#fdca26"
             ],
             [
              1,
              "#f0f921"
             ]
            ],
            "type": "histogram2dcontour"
           }
          ],
          "mesh3d": [
           {
            "colorbar": {
             "outlinewidth": 0,
             "ticks": ""
            },
            "type": "mesh3d"
           }
          ],
          "parcoords": [
           {
            "line": {
             "colorbar": {
              "outlinewidth": 0,
              "ticks": ""
             }
            },
            "type": "parcoords"
           }
          ],
          "pie": [
           {
            "automargin": true,
            "type": "pie"
           }
          ],
          "scatter": [
           {
            "marker": {
             "colorbar": {
              "outlinewidth": 0,
              "ticks": ""
             }
            },
            "type": "scatter"
           }
          ],
          "scatter3d": [
           {
            "line": {
             "colorbar": {
              "outlinewidth": 0,
              "ticks": ""
             }
            },
            "marker": {
             "colorbar": {
              "outlinewidth": 0,
              "ticks": ""
             }
            },
            "type": "scatter3d"
           }
          ],
          "scattercarpet": [
           {
            "marker": {
             "colorbar": {
              "outlinewidth": 0,
              "ticks": ""
             }
            },
            "type": "scattercarpet"
           }
          ],
          "scattergeo": [
           {
            "marker": {
             "colorbar": {
              "outlinewidth": 0,
              "ticks": ""
             }
            },
            "type": "scattergeo"
           }
          ],
          "scattergl": [
           {
            "marker": {
             "colorbar": {
              "outlinewidth": 0,
              "ticks": ""
             }
            },
            "type": "scattergl"
           }
          ],
          "scattermapbox": [
           {
            "marker": {
             "colorbar": {
              "outlinewidth": 0,
              "ticks": ""
             }
            },
            "type": "scattermapbox"
           }
          ],
          "scatterpolar": [
           {
            "marker": {
             "colorbar": {
              "outlinewidth": 0,
              "ticks": ""
             }
            },
            "type": "scatterpolar"
           }
          ],
          "scatterpolargl": [
           {
            "marker": {
             "colorbar": {
              "outlinewidth": 0,
              "ticks": ""
             }
            },
            "type": "scatterpolargl"
           }
          ],
          "scatterternary": [
           {
            "marker": {
             "colorbar": {
              "outlinewidth": 0,
              "ticks": ""
             }
            },
            "type": "scatterternary"
           }
          ],
          "surface": [
           {
            "colorbar": {
             "outlinewidth": 0,
             "ticks": ""
            },
            "colorscale": [
             [
              0,
              "#0d0887"
             ],
             [
              0.1111111111111111,
              "#46039f"
             ],
             [
              0.2222222222222222,
              "#7201a8"
             ],
             [
              0.3333333333333333,
              "#9c179e"
             ],
             [
              0.4444444444444444,
              "#bd3786"
             ],
             [
              0.5555555555555556,
              "#d8576b"
             ],
             [
              0.6666666666666666,
              "#ed7953"
             ],
             [
              0.7777777777777778,
              "#fb9f3a"
             ],
             [
              0.8888888888888888,
              "#fdca26"
             ],
             [
              1,
              "#f0f921"
             ]
            ],
            "type": "surface"
           }
          ],
          "table": [
           {
            "cells": {
             "fill": {
              "color": "#EBF0F8"
             },
             "line": {
              "color": "white"
             }
            },
            "header": {
             "fill": {
              "color": "#C8D4E3"
             },
             "line": {
              "color": "white"
             }
            },
            "type": "table"
           }
          ]
         },
         "layout": {
          "annotationdefaults": {
           "arrowcolor": "#2a3f5f",
           "arrowhead": 0,
           "arrowwidth": 1
          },
          "coloraxis": {
           "colorbar": {
            "outlinewidth": 0,
            "ticks": ""
           }
          },
          "colorscale": {
           "diverging": [
            [
             0,
             "#8e0152"
            ],
            [
             0.1,
             "#c51b7d"
            ],
            [
             0.2,
             "#de77ae"
            ],
            [
             0.3,
             "#f1b6da"
            ],
            [
             0.4,
             "#fde0ef"
            ],
            [
             0.5,
             "#f7f7f7"
            ],
            [
             0.6,
             "#e6f5d0"
            ],
            [
             0.7,
             "#b8e186"
            ],
            [
             0.8,
             "#7fbc41"
            ],
            [
             0.9,
             "#4d9221"
            ],
            [
             1,
             "#276419"
            ]
           ],
           "sequential": [
            [
             0,
             "#0d0887"
            ],
            [
             0.1111111111111111,
             "#46039f"
            ],
            [
             0.2222222222222222,
             "#7201a8"
            ],
            [
             0.3333333333333333,
             "#9c179e"
            ],
            [
             0.4444444444444444,
             "#bd3786"
            ],
            [
             0.5555555555555556,
             "#d8576b"
            ],
            [
             0.6666666666666666,
             "#ed7953"
            ],
            [
             0.7777777777777778,
             "#fb9f3a"
            ],
            [
             0.8888888888888888,
             "#fdca26"
            ],
            [
             1,
             "#f0f921"
            ]
           ],
           "sequentialminus": [
            [
             0,
             "#0d0887"
            ],
            [
             0.1111111111111111,
             "#46039f"
            ],
            [
             0.2222222222222222,
             "#7201a8"
            ],
            [
             0.3333333333333333,
             "#9c179e"
            ],
            [
             0.4444444444444444,
             "#bd3786"
            ],
            [
             0.5555555555555556,
             "#d8576b"
            ],
            [
             0.6666666666666666,
             "#ed7953"
            ],
            [
             0.7777777777777778,
             "#fb9f3a"
            ],
            [
             0.8888888888888888,
             "#fdca26"
            ],
            [
             1,
             "#f0f921"
            ]
           ]
          },
          "colorway": [
           "#636efa",
           "#EF553B",
           "#00cc96",
           "#ab63fa",
           "#FFA15A",
           "#19d3f3",
           "#FF6692",
           "#B6E880",
           "#FF97FF",
           "#FECB52"
          ],
          "font": {
           "color": "#2a3f5f"
          },
          "geo": {
           "bgcolor": "white",
           "lakecolor": "white",
           "landcolor": "#E5ECF6",
           "showlakes": true,
           "showland": true,
           "subunitcolor": "white"
          },
          "hoverlabel": {
           "align": "left"
          },
          "hovermode": "closest",
          "mapbox": {
           "style": "light"
          },
          "paper_bgcolor": "white",
          "plot_bgcolor": "#E5ECF6",
          "polar": {
           "angularaxis": {
            "gridcolor": "white",
            "linecolor": "white",
            "ticks": ""
           },
           "bgcolor": "#E5ECF6",
           "radialaxis": {
            "gridcolor": "white",
            "linecolor": "white",
            "ticks": ""
           }
          },
          "scene": {
           "xaxis": {
            "backgroundcolor": "#E5ECF6",
            "gridcolor": "white",
            "gridwidth": 2,
            "linecolor": "white",
            "showbackground": true,
            "ticks": "",
            "zerolinecolor": "white"
           },
           "yaxis": {
            "backgroundcolor": "#E5ECF6",
            "gridcolor": "white",
            "gridwidth": 2,
            "linecolor": "white",
            "showbackground": true,
            "ticks": "",
            "zerolinecolor": "white"
           },
           "zaxis": {
            "backgroundcolor": "#E5ECF6",
            "gridcolor": "white",
            "gridwidth": 2,
            "linecolor": "white",
            "showbackground": true,
            "ticks": "",
            "zerolinecolor": "white"
           }
          },
          "shapedefaults": {
           "line": {
            "color": "#2a3f5f"
           }
          },
          "ternary": {
           "aaxis": {
            "gridcolor": "white",
            "linecolor": "white",
            "ticks": ""
           },
           "baxis": {
            "gridcolor": "white",
            "linecolor": "white",
            "ticks": ""
           },
           "bgcolor": "#E5ECF6",
           "caxis": {
            "gridcolor": "white",
            "linecolor": "white",
            "ticks": ""
           }
          },
          "title": {
           "x": 0.05
          },
          "xaxis": {
           "automargin": true,
           "gridcolor": "white",
           "linecolor": "white",
           "ticks": "",
           "title": {
            "standoff": 15
           },
           "zerolinecolor": "white",
           "zerolinewidth": 2
          },
          "yaxis": {
           "automargin": true,
           "gridcolor": "white",
           "linecolor": "white",
           "ticks": "",
           "title": {
            "standoff": 15
           },
           "zerolinecolor": "white",
           "zerolinewidth": 2
          }
         }
        },
        "title": {
         "text": "Carbohydrate content vs. Added Sugar Content(Interactive Plot)"
        },
        "xaxis": {
         "anchor": "y",
         "domain": [
          0,
          1
         ],
         "title": {
          "text": "Single Serving Carbs(g)"
         }
        },
        "yaxis": {
         "anchor": "x",
         "domain": [
          0,
          1
         ],
         "title": {
          "text": "Single Serving Added Sugars(g)"
         }
        }
       }
      },
      "text/html": [
       "<div>\n",
       "        \n",
       "        \n",
       "            <div id=\"cb20e770-56a5-47d3-9ba3-1546024d4b4c\" class=\"plotly-graph-div\" style=\"height:525px; width:100%;\"></div>\n",
       "            <script type=\"text/javascript\">\n",
       "                require([\"plotly\"], function(Plotly) {\n",
       "                    window.PLOTLYENV=window.PLOTLYENV || {};\n",
       "                    \n",
       "                if (document.getElementById(\"cb20e770-56a5-47d3-9ba3-1546024d4b4c\")) {\n",
       "                    Plotly.newPlot(\n",
       "                        'cb20e770-56a5-47d3-9ba3-1546024d4b4c',\n",
       "                        [{\"customdata\": [[\"Oroweat Whole Wheat Bread\"], [\"Cap'n Crunch Crunch Berries\"], [\"Cap'n Crunch \"], [\"Kellogg's Froot Loops\"], [\"Post Honey Bunches of Oats\"], [\"Kellogg's Frosted Flakes\"], [\"General Mills Lucky Charms\"], [\"Ritz Crackers\"], [\"General Mills Fruit By The Foot\"], [\"Welch's Mixed Fruit\"], [\"Heinz Tomato Ketchup No Sugar Added\"], [\"Best Foods Mayonnaise\"], [\"Ball Park Hot Dog Buns\"], [\"Duncan Hines Blueberry Muffin Mug Cake\"], [\"Annie's Organic Macaroni & Cheese Classic Cheddar\"], [\"Kraft Macaroni & Cheese Single Serve\"], [\"Starkist Tuna Creations Ranch\"], [\"Starkist Tuna Creations Sweet & Spicy\"], [\"Starkist Chunk Light Tuna \"], [\"Skippy Creamy Peanut Butter\"], [\"Smuckers Goober Grape\"], [\"Smuckers Goober Strawberry\"], [\"Aunt Jemima Butter Lite Syrup\"], [\"Lactaid 2% Reduced Fat Milk\"], [\"Almond Breeze Almond Milk Unsweetened Vanilla\"], [\"Nestle Coffe Mate French Vanilla Creamer\"], [\"Nestle Coffe Mate French Vanilla Creamer Sugar Free\"], [\"Coca-Cola Diet Coke\"], [\"Danimals Smoothie Strawberry Flavor\"], [\"Danimals Smoothie Birthday Cake Flavor\"], [\"Krusteaz Buttermilk Pancake Mix\"], [\"Quaker Oats Old Fashioned Oats\"], [\"yummy Chicken Breast Nuggets\"], [\"Royal Asia Vegetable Spring Rolls\"], [\"Dole Banana \"], [\"Washington Apple\"], [\"Sun Pacific Navel Orange\"], [\"Cuties Clementine\"], [\"Hoffy Premium Beef Franks\"], [\"Guerrero 12\\\" Grande Flour Tortilla\"], [\"Guerrero Corn Tortillas\"], [\"Ling Ling Pork & Vegetable Dumplings\"], [\"Ling Ling Dumpling Sauce\"], [\"Foster Farms Ground Turkey 93% Lean\"], [\"Belvita Cinnamon Brown Sugar Breakfast Bars\"], [\"Mahatma Extra Long Enriched Rice\"], [\"Kikkoman Less Sodium Soy Sauce\"], [\"Organics Baby Spinach\"], [\"Kikkoman Ponzu Citrus Sauce\"], [\"Marie's Raspberry Vinaigrette \"], [\"Coca-Cola Caffeine Free\"], [\"Lucern Mexican Style 4 Cheese Blend\"], [\"Sabra Organic Simply Roasted Pine Nut Hummus\"], [\"Butterball Sliced Honey Roasted Turkey Breast\"], [\"La Preferida Pinto Beans\"], [\"Foster Farms Boneless Skinless Chicken Breast\"], [\"McDonald's Chicken McNuggets 6 Piece\"], [\"McDonald's Barbeque Sauce\"], [\"McDonald's Small French Fries\"], [\"McDonald's Cheeseburger\"], [\"Carl's Jr Kid's Cheeseburger\"], [\"Carl's Jr Hand Breaded Chicken Tenders 3 Piece\"], [\"Carl's Jr Natural Cut Fries Medium\"], [\"Rubio's Ancho Citrus Shrimp Burrito\"], [\"El Pollo Loco Fire-Grilled Chicken Leg\"], [\"El Pollo Loco Fire-Grilled Chicken Breast\"], [\"El Pollo Loco Macaroni and Cheese Side\"], [\"Large Egg\"], [\"Snickers Bar\"], [\"Pizza Hut Medium Hand Tossed Cheese\"], [\"Pizza Hut Medium Hand Tossed Pepperoni\"], [\"Baskin Robbins Rainbow Sherbet\"], [\"Medium Avocado\"], [\"Quaker Simply Granola Oats, Honey, Raisins, Almonds\"]], \"hoverlabel\": {\"namelength\": 0}, \"hovertemplate\": \"Single Serving Carbs(g)=%{x}<br>Single Serving Added Sugars(g)=%{y}<br>food_item=%{customdata[0]}\", \"legendgroup\": \"\", \"marker\": {\"color\": \"#636efa\", \"symbol\": \"circle\"}, \"mode\": \"markers\", \"name\": \"\", \"showlegend\": false, \"type\": \"scatter\", \"x\": [19, 32, 33, 34, 34, 36, 30, 10, 17, 17, 1, 0, 27, 49, 50, 40, 1, 4, 0, 6, 30, 29, 12, 13, 1, 5, 1, 0, 11, 11, 45, 27, 12, 32, 27, 34, 18, 9, 2, 47, 21, 39, 4, 0, 35, 36, 1, 4, 2, 6, 39, 1, 4, 3, 22, 0, 18, 12, 29, 33, 34, 13, 55, 110, 0, 0, 24, 0, 28, 26, 25, 17, 4, 51], \"xaxis\": \"x\", \"y\": [2.0, 16.0, 17.0, 12.0, 8.0, 17.0, 12.0, 1.0, 0.0, 8.0, 0.0, 0.0, 4.0, 24.0, 0.0, 0.0, 0.5, 4.0, 0.0, 3.0, 18.0, 19.0, 12.0, 0.0, 0.0, 5.0, 0.0, 0.0, 7.0, 7.0, 10.0, 0.0, 0.0, 3.0, 0.0, 0.0, 0.0, 0.0, 0.0, 0.0, 0.0, 0.0, 0.0, 0.0, 10.0, 0.0, 0.0, 0.0, 1.0, 6.0, 39.0, 0.0, 0.0, 0.0, 0.0, 0.0, 0.0, 0.0, 0.0, 0.0, 0.0, 0.0, 0.0, 0.0, 0.0, 0.0, 0.0, 0.0, 0.0, 0.0, 0.0, 11.0, 0.0, 8.0], \"yaxis\": \"y\"}],\n",
       "                        {\"legend\": {\"tracegroupgap\": 0}, \"template\": {\"data\": {\"bar\": [{\"error_x\": {\"color\": \"#2a3f5f\"}, \"error_y\": {\"color\": \"#2a3f5f\"}, \"marker\": {\"line\": {\"color\": \"#E5ECF6\", \"width\": 0.5}}, \"type\": \"bar\"}], \"barpolar\": [{\"marker\": {\"line\": {\"color\": \"#E5ECF6\", \"width\": 0.5}}, \"type\": \"barpolar\"}], \"carpet\": [{\"aaxis\": {\"endlinecolor\": \"#2a3f5f\", \"gridcolor\": \"white\", \"linecolor\": \"white\", \"minorgridcolor\": \"white\", \"startlinecolor\": \"#2a3f5f\"}, \"baxis\": {\"endlinecolor\": \"#2a3f5f\", \"gridcolor\": \"white\", \"linecolor\": \"white\", \"minorgridcolor\": \"white\", \"startlinecolor\": \"#2a3f5f\"}, \"type\": \"carpet\"}], \"choropleth\": [{\"colorbar\": {\"outlinewidth\": 0, \"ticks\": \"\"}, \"type\": \"choropleth\"}], \"contour\": [{\"colorbar\": {\"outlinewidth\": 0, \"ticks\": \"\"}, \"colorscale\": [[0.0, \"#0d0887\"], [0.1111111111111111, \"#46039f\"], [0.2222222222222222, \"#7201a8\"], [0.3333333333333333, \"#9c179e\"], [0.4444444444444444, \"#bd3786\"], [0.5555555555555556, \"#d8576b\"], [0.6666666666666666, \"#ed7953\"], [0.7777777777777778, \"#fb9f3a\"], [0.8888888888888888, \"#fdca26\"], [1.0, \"#f0f921\"]], \"type\": \"contour\"}], \"contourcarpet\": [{\"colorbar\": {\"outlinewidth\": 0, \"ticks\": \"\"}, \"type\": \"contourcarpet\"}], \"heatmap\": [{\"colorbar\": {\"outlinewidth\": 0, \"ticks\": \"\"}, \"colorscale\": [[0.0, \"#0d0887\"], [0.1111111111111111, \"#46039f\"], [0.2222222222222222, \"#7201a8\"], [0.3333333333333333, \"#9c179e\"], [0.4444444444444444, \"#bd3786\"], [0.5555555555555556, \"#d8576b\"], [0.6666666666666666, \"#ed7953\"], [0.7777777777777778, \"#fb9f3a\"], [0.8888888888888888, \"#fdca26\"], [1.0, \"#f0f921\"]], \"type\": \"heatmap\"}], \"heatmapgl\": [{\"colorbar\": {\"outlinewidth\": 0, \"ticks\": \"\"}, \"colorscale\": [[0.0, \"#0d0887\"], [0.1111111111111111, \"#46039f\"], [0.2222222222222222, \"#7201a8\"], [0.3333333333333333, \"#9c179e\"], [0.4444444444444444, \"#bd3786\"], [0.5555555555555556, \"#d8576b\"], [0.6666666666666666, \"#ed7953\"], [0.7777777777777778, \"#fb9f3a\"], [0.8888888888888888, \"#fdca26\"], [1.0, \"#f0f921\"]], \"type\": \"heatmapgl\"}], \"histogram\": [{\"marker\": {\"colorbar\": {\"outlinewidth\": 0, \"ticks\": \"\"}}, \"type\": \"histogram\"}], \"histogram2d\": [{\"colorbar\": {\"outlinewidth\": 0, \"ticks\": \"\"}, \"colorscale\": [[0.0, \"#0d0887\"], [0.1111111111111111, \"#46039f\"], [0.2222222222222222, \"#7201a8\"], [0.3333333333333333, \"#9c179e\"], [0.4444444444444444, \"#bd3786\"], [0.5555555555555556, \"#d8576b\"], [0.6666666666666666, \"#ed7953\"], [0.7777777777777778, \"#fb9f3a\"], [0.8888888888888888, \"#fdca26\"], [1.0, \"#f0f921\"]], \"type\": \"histogram2d\"}], \"histogram2dcontour\": [{\"colorbar\": {\"outlinewidth\": 0, \"ticks\": \"\"}, \"colorscale\": [[0.0, \"#0d0887\"], [0.1111111111111111, \"#46039f\"], [0.2222222222222222, \"#7201a8\"], [0.3333333333333333, \"#9c179e\"], [0.4444444444444444, \"#bd3786\"], [0.5555555555555556, \"#d8576b\"], [0.6666666666666666, \"#ed7953\"], [0.7777777777777778, \"#fb9f3a\"], [0.8888888888888888, \"#fdca26\"], [1.0, \"#f0f921\"]], \"type\": \"histogram2dcontour\"}], \"mesh3d\": [{\"colorbar\": {\"outlinewidth\": 0, \"ticks\": \"\"}, \"type\": \"mesh3d\"}], \"parcoords\": [{\"line\": {\"colorbar\": {\"outlinewidth\": 0, \"ticks\": \"\"}}, \"type\": \"parcoords\"}], \"pie\": [{\"automargin\": true, \"type\": \"pie\"}], \"scatter\": [{\"marker\": {\"colorbar\": {\"outlinewidth\": 0, \"ticks\": \"\"}}, \"type\": \"scatter\"}], \"scatter3d\": [{\"line\": {\"colorbar\": {\"outlinewidth\": 0, \"ticks\": \"\"}}, \"marker\": {\"colorbar\": {\"outlinewidth\": 0, \"ticks\": \"\"}}, \"type\": \"scatter3d\"}], \"scattercarpet\": [{\"marker\": {\"colorbar\": {\"outlinewidth\": 0, \"ticks\": \"\"}}, \"type\": \"scattercarpet\"}], \"scattergeo\": [{\"marker\": {\"colorbar\": {\"outlinewidth\": 0, \"ticks\": \"\"}}, \"type\": \"scattergeo\"}], \"scattergl\": [{\"marker\": {\"colorbar\": {\"outlinewidth\": 0, \"ticks\": \"\"}}, \"type\": \"scattergl\"}], \"scattermapbox\": [{\"marker\": {\"colorbar\": {\"outlinewidth\": 0, \"ticks\": \"\"}}, \"type\": \"scattermapbox\"}], \"scatterpolar\": [{\"marker\": {\"colorbar\": {\"outlinewidth\": 0, \"ticks\": \"\"}}, \"type\": \"scatterpolar\"}], \"scatterpolargl\": [{\"marker\": {\"colorbar\": {\"outlinewidth\": 0, \"ticks\": \"\"}}, \"type\": \"scatterpolargl\"}], \"scatterternary\": [{\"marker\": {\"colorbar\": {\"outlinewidth\": 0, \"ticks\": \"\"}}, \"type\": \"scatterternary\"}], \"surface\": [{\"colorbar\": {\"outlinewidth\": 0, \"ticks\": \"\"}, \"colorscale\": [[0.0, \"#0d0887\"], [0.1111111111111111, \"#46039f\"], [0.2222222222222222, \"#7201a8\"], [0.3333333333333333, \"#9c179e\"], [0.4444444444444444, \"#bd3786\"], [0.5555555555555556, \"#d8576b\"], [0.6666666666666666, \"#ed7953\"], [0.7777777777777778, \"#fb9f3a\"], [0.8888888888888888, \"#fdca26\"], [1.0, \"#f0f921\"]], \"type\": \"surface\"}], \"table\": [{\"cells\": {\"fill\": {\"color\": \"#EBF0F8\"}, \"line\": {\"color\": \"white\"}}, \"header\": {\"fill\": {\"color\": \"#C8D4E3\"}, \"line\": {\"color\": \"white\"}}, \"type\": \"table\"}]}, \"layout\": {\"annotationdefaults\": {\"arrowcolor\": \"#2a3f5f\", \"arrowhead\": 0, \"arrowwidth\": 1}, \"coloraxis\": {\"colorbar\": {\"outlinewidth\": 0, \"ticks\": \"\"}}, \"colorscale\": {\"diverging\": [[0, \"#8e0152\"], [0.1, \"#c51b7d\"], [0.2, \"#de77ae\"], [0.3, \"#f1b6da\"], [0.4, \"#fde0ef\"], [0.5, \"#f7f7f7\"], [0.6, \"#e6f5d0\"], [0.7, \"#b8e186\"], [0.8, \"#7fbc41\"], [0.9, \"#4d9221\"], [1, \"#276419\"]], \"sequential\": [[0.0, \"#0d0887\"], [0.1111111111111111, \"#46039f\"], [0.2222222222222222, \"#7201a8\"], [0.3333333333333333, \"#9c179e\"], [0.4444444444444444, \"#bd3786\"], [0.5555555555555556, \"#d8576b\"], [0.6666666666666666, \"#ed7953\"], [0.7777777777777778, \"#fb9f3a\"], [0.8888888888888888, \"#fdca26\"], [1.0, \"#f0f921\"]], \"sequentialminus\": [[0.0, \"#0d0887\"], [0.1111111111111111, \"#46039f\"], [0.2222222222222222, \"#7201a8\"], [0.3333333333333333, \"#9c179e\"], [0.4444444444444444, \"#bd3786\"], [0.5555555555555556, \"#d8576b\"], [0.6666666666666666, \"#ed7953\"], [0.7777777777777778, \"#fb9f3a\"], [0.8888888888888888, \"#fdca26\"], [1.0, \"#f0f921\"]]}, \"colorway\": [\"#636efa\", \"#EF553B\", \"#00cc96\", \"#ab63fa\", \"#FFA15A\", \"#19d3f3\", \"#FF6692\", \"#B6E880\", \"#FF97FF\", \"#FECB52\"], \"font\": {\"color\": \"#2a3f5f\"}, \"geo\": {\"bgcolor\": \"white\", \"lakecolor\": \"white\", \"landcolor\": \"#E5ECF6\", \"showlakes\": true, \"showland\": true, \"subunitcolor\": \"white\"}, \"hoverlabel\": {\"align\": \"left\"}, \"hovermode\": \"closest\", \"mapbox\": {\"style\": \"light\"}, \"paper_bgcolor\": \"white\", \"plot_bgcolor\": \"#E5ECF6\", \"polar\": {\"angularaxis\": {\"gridcolor\": \"white\", \"linecolor\": \"white\", \"ticks\": \"\"}, \"bgcolor\": \"#E5ECF6\", \"radialaxis\": {\"gridcolor\": \"white\", \"linecolor\": \"white\", \"ticks\": \"\"}}, \"scene\": {\"xaxis\": {\"backgroundcolor\": \"#E5ECF6\", \"gridcolor\": \"white\", \"gridwidth\": 2, \"linecolor\": \"white\", \"showbackground\": true, \"ticks\": \"\", \"zerolinecolor\": \"white\"}, \"yaxis\": {\"backgroundcolor\": \"#E5ECF6\", \"gridcolor\": \"white\", \"gridwidth\": 2, \"linecolor\": \"white\", \"showbackground\": true, \"ticks\": \"\", \"zerolinecolor\": \"white\"}, \"zaxis\": {\"backgroundcolor\": \"#E5ECF6\", \"gridcolor\": \"white\", \"gridwidth\": 2, \"linecolor\": \"white\", \"showbackground\": true, \"ticks\": \"\", \"zerolinecolor\": \"white\"}}, \"shapedefaults\": {\"line\": {\"color\": \"#2a3f5f\"}}, \"ternary\": {\"aaxis\": {\"gridcolor\": \"white\", \"linecolor\": \"white\", \"ticks\": \"\"}, \"baxis\": {\"gridcolor\": \"white\", \"linecolor\": \"white\", \"ticks\": \"\"}, \"bgcolor\": \"#E5ECF6\", \"caxis\": {\"gridcolor\": \"white\", \"linecolor\": \"white\", \"ticks\": \"\"}}, \"title\": {\"x\": 0.05}, \"xaxis\": {\"automargin\": true, \"gridcolor\": \"white\", \"linecolor\": \"white\", \"ticks\": \"\", \"title\": {\"standoff\": 15}, \"zerolinecolor\": \"white\", \"zerolinewidth\": 2}, \"yaxis\": {\"automargin\": true, \"gridcolor\": \"white\", \"linecolor\": \"white\", \"ticks\": \"\", \"title\": {\"standoff\": 15}, \"zerolinecolor\": \"white\", \"zerolinewidth\": 2}}}, \"title\": {\"text\": \"Carbohydrate content vs. Added Sugar Content(Interactive Plot)\"}, \"xaxis\": {\"anchor\": \"y\", \"domain\": [0.0, 1.0], \"title\": {\"text\": \"Single Serving Carbs(g)\"}}, \"yaxis\": {\"anchor\": \"x\", \"domain\": [0.0, 1.0], \"title\": {\"text\": \"Single Serving Added Sugars(g)\"}}},\n",
       "                        {\"responsive\": true}\n",
       "                    ).then(function(){\n",
       "                            \n",
       "var gd = document.getElementById('cb20e770-56a5-47d3-9ba3-1546024d4b4c');\n",
       "var x = new MutationObserver(function (mutations, observer) {{\n",
       "        var display = window.getComputedStyle(gd).display;\n",
       "        if (!display || display === 'none') {{\n",
       "            console.log([gd, 'removed!']);\n",
       "            Plotly.purge(gd);\n",
       "            observer.disconnect();\n",
       "        }}\n",
       "}});\n",
       "\n",
       "// Listen for the removal of the full notebook cells\n",
       "var notebookContainer = gd.closest('#notebook-container');\n",
       "if (notebookContainer) {{\n",
       "    x.observe(notebookContainer, {childList: true});\n",
       "}}\n",
       "\n",
       "// Listen for the clearing of the current output cell\n",
       "var outputEl = gd.closest('.output');\n",
       "if (outputEl) {{\n",
       "    x.observe(outputEl, {childList: true});\n",
       "}}\n",
       "\n",
       "                        })\n",
       "                };\n",
       "                });\n",
       "            </script>\n",
       "        </div>"
      ]
     },
     "metadata": {},
     "output_type": "display_data"
    }
   ],
   "source": [
    "\"hide_input\"\n",
    "carbs_sug = px.scatter(df,x='total_carbohydrates_g',y='added_sugars_g' ,hover_data=['food_item'],\n",
    "                labels = {'total_carbohydrates_g':'Single Serving Carbs(g)','added_sugars_g':'Single Serving Added Sugars(g)'},\n",
    "                title='Carbohydrate content vs. Added Sugar Content(Interactive Plot)')\n",
    "carbs_sug.show()\n",
    "               "
   ]
  },
  {
   "cell_type": "markdown",
   "metadata": {},
   "source": [
    "The cereals from this data reside in the middle of the plot and it can be seen that added sugar makes up between 1/3 to 1/2 of total carbohydrates for a single serving. Some huge red flags are the Coca-Cola and Aunt Jemima Syrup which both contain 100% of their carbohydrates from added sugars.\n",
    "\n",
    "The American Heart Association reccomended added sugar intake is no more than 36 grams a day for men and 25 grams for women so it is quite alarming that some of these foods contain half or exceed that amount in just a single serving.<a href=\"https://www.heart.org/en/healthy-living/healthy-eating/eat-smart/sugar/added-sugars#:~:text=The%20American%20Heart%20Association%20(AHA,day%2C%20or%20about%209%20teaspoons.\">[5]</a> "
   ]
  },
  {
   "cell_type": "markdown",
   "metadata": {},
   "source": [
    "## Protein\n",
    "\n",
    "Now for the analysis of protein content. Generally high protein is recommended in a nutritious diet so I will choose to omit a caution zone for the items.\n",
    "\n",
    "However, it is important to note excess protein can actually be detrimental since excess protein is stored as fats.[[6]](https://www.healthline.com/health/too-much-protein)"
   ]
  },
  {
   "cell_type": "code",
   "execution_count": 50,
   "metadata": {},
   "outputs": [],
   "source": [
    "\"hide_cell\"\n",
    "protein = df[['food_item','serving_size','serving_measurement_g','protein_g']]"
   ]
  },
  {
   "cell_type": "code",
   "execution_count": 52,
   "metadata": {},
   "outputs": [],
   "source": [
    "\"hide_cell\"\n",
    "protein.insert(loc=len(protein.columns),column='protein_per_100g',value=per_100g(protein['protein_g']))"
   ]
  },
  {
   "cell_type": "code",
   "execution_count": 56,
   "metadata": {},
   "outputs": [],
   "source": [
    "\"hide_cell\"\n",
    "protein_20 = protein.nlargest(20,'protein_per_100g',keep='all')"
   ]
  },
  {
   "cell_type": "code",
   "execution_count": 63,
   "metadata": {},
   "outputs": [
    {
     "data": {
      "text/plain": [
       "Text(0.5, 1.0, 'Top 20 Items by Protein Per 100g')"
      ]
     },
     "execution_count": 63,
     "metadata": {},
     "output_type": "execute_result"
    },
    {
     "data": {
      "image/png": "[encoded data removed]",
      "text/plain": [
       "<Figure size 576x360 with 1 Axes>"
      ]
     },
     "metadata": {
      "needs_background": "light"
     },
     "output_type": "display_data"
    }
   ],
   "source": [
    "\"hide_input\"\n",
    "plt.figure(figsize=(8,5))\n",
    "sns.barplot(y='food_item',x='protein_per_100g',data=protein_20)\n",
    "plt.title('Top 20 Items by Protein Per 100g')"
   ]
  },
  {
   "cell_type": "code",
   "execution_count": 62,
   "metadata": {},
   "outputs": [
    {
     "data": {
      "application/vnd.plotly.v1+json": {
       "config": {
        "plotlyServerURL": "https://plot.ly"
       },
       "data": [
        {
         "customdata": [
          [
           "Oroweat Whole Wheat Bread"
          ],
          [
           "Cap'n Crunch Crunch Berries"
          ],
          [
           "Cap'n Crunch "
          ],
          [
           "Kellogg's Froot Loops"
          ],
          [
           "Post Honey Bunches of Oats"
          ],
          [
           "Kellogg's Frosted Flakes"
          ],
          [
           "General Mills Lucky Charms"
          ],
          [
           "Ritz Crackers"
          ],
          [
           "General Mills Fruit By The Foot"
          ],
          [
           "Welch's Mixed Fruit"
          ],
          [
           "Heinz Tomato Ketchup No Sugar Added"
          ],
          [
           "Best Foods Mayonnaise"
          ],
          [
           "Ball Park Hot Dog Buns"
          ],
          [
           "Duncan Hines Blueberry Muffin Mug Cake"
          ],
          [
           "Annie's Organic Macaroni & Cheese Classic Cheddar"
          ],
          [
           "Kraft Macaroni & Cheese Single Serve"
          ],
          [
           "Starkist Tuna Creations Ranch"
          ],
          [
           "Starkist Tuna Creations Sweet & Spicy"
          ],
          [
           "Starkist Chunk Light Tuna "
          ],
          [
           "Skippy Creamy Peanut Butter"
          ],
          [
           "Smuckers Goober Grape"
          ],
          [
           "Smuckers Goober Strawberry"
          ],
          [
           "Aunt Jemima Butter Lite Syrup"
          ],
          [
           "Lactaid 2% Reduced Fat Milk"
          ],
          [
           "Almond Breeze Almond Milk Unsweetened Vanilla"
          ],
          [
           "Nestle Coffe Mate French Vanilla Creamer"
          ],
          [
           "Nestle Coffe Mate French Vanilla Creamer Sugar Free"
          ],
          [
           "Coca-Cola Diet Coke"
          ],
          [
           "Danimals Smoothie Strawberry Flavor"
          ],
          [
           "Danimals Smoothie Birthday Cake Flavor"
          ],
          [
           "Krusteaz Buttermilk Pancake Mix"
          ],
          [
           "Quaker Oats Old Fashioned Oats"
          ],
          [
           "yummy Chicken Breast Nuggets"
          ],
          [
           "Royal Asia Vegetable Spring Rolls"
          ],
          [
           "Dole Banana "
          ],
          [
           "Washington Apple"
          ],
          [
           "Sun Pacific Navel Orange"
          ],
          [
           "Cuties Clementine"
          ],
          [
           "Hoffy Premium Beef Franks"
          ],
          [
           "Guerrero 12\" Grande Flour Tortilla"
          ],
          [
           "Guerrero Corn Tortillas"
          ],
          [
           "Ling Ling Pork & Vegetable Dumplings"
          ],
          [
           "Ling Ling Dumpling Sauce"
          ],
          [
           "Foster Farms Ground Turkey 93% Lean"
          ],
          [
           "Belvita Cinnamon Brown Sugar Breakfast Bars"
          ],
          [
           "Mahatma Extra Long Enriched Rice"
          ],
          [
           "Kikkoman Less Sodium Soy Sauce"
          ],
          [
           "Organics Baby Spinach"
          ],
          [
           "Kikkoman Ponzu Citrus Sauce"
          ],
          [
           "Marie's Raspberry Vinaigrette "
          ],
          [
           "Coca-Cola Caffeine Free"
          ],
          [
           "Lucern Mexican Style 4 Cheese Blend"
          ],
          [
           "Sabra Organic Simply Roasted Pine Nut Hummus"
          ],
          [
           "Butterball Sliced Honey Roasted Turkey Breast"
          ],
          [
           "La Preferida Pinto Beans"
          ],
          [
           "Foster Farms Boneless Skinless Chicken Breast"
          ],
          [
           "McDonald's Chicken McNuggets 6 Piece"
          ],
          [
           "McDonald's Barbeque Sauce"
          ],
          [
           "McDonald's Small French Fries"
          ],
          [
           "McDonald's Cheeseburger"
          ],
          [
           "Carl's Jr Kid's Cheeseburger"
          ],
          [
           "Carl's Jr Hand Breaded Chicken Tenders 3 Piece"
          ],
          [
           "Carl's Jr Natural Cut Fries Medium"
          ],
          [
           "Rubio's Ancho Citrus Shrimp Burrito"
          ],
          [
           "El Pollo Loco Fire-Grilled Chicken Leg"
          ],
          [
           "El Pollo Loco Fire-Grilled Chicken Breast"
          ],
          [
           "El Pollo Loco Macaroni and Cheese Side"
          ],
          [
           "Large Egg"
          ],
          [
           "Snickers Bar"
          ],
          [
           "Pizza Hut Medium Hand Tossed Cheese"
          ],
          [
           "Pizza Hut Medium Hand Tossed Pepperoni"
          ],
          [
           "Baskin Robbins Rainbow Sherbet"
          ],
          [
           "Medium Avocado"
          ],
          [
           "Quaker Simply Granola Oats, Honey, Raisins, Almonds"
          ]
         ],
         "hoverlabel": {
          "namelength": 0
         },
         "hovertemplate": "Single Serving In Grams=%{x}<br>Total Protein Per 100 Grams=%{y}<br>food_item=%{customdata[0]}",
         "legendgroup": "",
         "marker": {
          "color": "#636efa",
          "symbol": "circle"
         },
         "mode": "markers",
         "name": "",
         "showlegend": false,
         "type": "scatter",
         "x": [
          38,
          37,
          38,
          39,
          42,
          40,
          36,
          16,
          21,
          22.7,
          16,
          13,
          50,
          65,
          71,
          58,
          74,
          74,
          74,
          32,
          56,
          56,
          30,
          240,
          240,
          15,
          15,
          500,
          93,
          93,
          59,
          40,
          83,
          113,
          118,
          242,
          140,
          88,
          56,
          96,
          47,
          146,
          17,
          112,
          50,
          45,
          15,
          100,
          15,
          32,
          355,
          28,
          28,
          28,
          36,
          112,
          97,
          28,
          71,
          114,
          123,
          128,
          147,
          449,
          45.4,
          121.9,
          170,
          50,
          44,
          84,
          83,
          71,
          50,
          68
         ],
         "xaxis": "x",
         "y": [
          10.526315789473683,
          5.405405405405405,
          5.263157894736842,
          5.128205128205128,
          7.142857142857142,
          5,
          8.333333333333332,
          6.1875,
          0,
          4.405286343612335,
          0,
          0,
          8,
          6.153846153846154,
          12.676056338028168,
          12.068965517241379,
          20.27027027027027,
          21.62162162162162,
          22.972972972972975,
          21.875,
          8.928571428571429,
          8.928571428571429,
          0,
          3.3333333333333335,
          0.4166666666666667,
          0,
          0,
          0,
          2.1505376344086025,
          2.1505376344086025,
          6.779661016949152,
          12.5,
          12.048192771084338,
          6.1946902654867255,
          0.847457627118644,
          0.4132231404958678,
          0.7142857142857143,
          1.1363636363636365,
          12.5,
          7.291666666666667,
          4.25531914893617,
          8.21917808219178,
          0,
          17.857142857142858,
          8,
          6.666666666666667,
          6.666666666666667,
          3,
          6.6000000000000005,
          0,
          0,
          21.428571428571427,
          7.142857142857142,
          17.857142857142858,
          19.444444444444446,
          22.321428571428573,
          13.402061855670103,
          0,
          4.225352112676056,
          13.157894736842104,
          11.38211382113821,
          19.53125,
          3.4013605442176873,
          5.79064587973274,
          26.431718061674008,
          29.532403609515995,
          5.294117647058823,
          12,
          6.8181818181818175,
          11.904761904761903,
          12.048192771084338,
          1.4084507042253522,
          2,
          10.294117647058822
         ],
         "yaxis": "y"
        }
       ],
       "layout": {
        "legend": {
         "tracegroupgap": 0
        },
        "template": {
         "data": {
          "bar": [
           {
            "error_x": {
             "color": "#2a3f5f"
            },
            "error_y": {
             "color": "#2a3f5f"
            },
            "marker": {
             "line": {
              "color": "#E5ECF6",
              "width": 0.5
             }
            },
            "type": "bar"
           }
          ],
          "barpolar": [
           {
            "marker": {
             "line": {
              "color": "#E5ECF6",
              "width": 0.5
             }
            },
            "type": "barpolar"
           }
          ],
          "carpet": [
           {
            "aaxis": {
             "endlinecolor": "#2a3f5f",
             "gridcolor": "white",
             "linecolor": "white",
             "minorgridcolor": "white",
             "startlinecolor": "#2a3f5f"
            },
            "baxis": {
             "endlinecolor": "#2a3f5f",
             "gridcolor": "white",
             "linecolor": "white",
             "minorgridcolor": "white",
             "startlinecolor": "#2a3f5f"
            },
            "type": "carpet"
           }
          ],
          "choropleth": [
           {
            "colorbar": {
             "outlinewidth": 0,
             "ticks": ""
            },
            "type": "choropleth"
           }
          ],
          "contour": [
           {
            "colorbar": {
             "outlinewidth": 0,
             "ticks": ""
            },
            "colorscale": [
             [
              0,
              "#0d0887"
             ],
             [
              0.1111111111111111,
              "#46039f"
             ],
             [
              0.2222222222222222,
              "#7201a8"
             ],
             [
              0.3333333333333333,
              "#9c179e"
             ],
             [
              0.4444444444444444,
              "#bd3786"
             ],
             [
              0.5555555555555556,
              "#d8576b"
             ],
             [
              0.6666666666666666,
              "#ed7953"
             ],
             [
              0.7777777777777778,
              "#fb9f3a"
             ],
             [
              0.8888888888888888,
              "#fdca26"
             ],
             [
              1,
              "#f0f921"
             ]
            ],
            "type": "contour"
           }
          ],
          "contourcarpet": [
           {
            "colorbar": {
             "outlinewidth": 0,
             "ticks": ""
            },
            "type": "contourcarpet"
           }
          ],
          "heatmap": [
           {
            "colorbar": {
             "outlinewidth": 0,
             "ticks": ""
            },
            "colorscale": [
             [
              0,
              "#0d0887"
             ],
             [
              0.1111111111111111,
              "#46039f"
             ],
             [
              0.2222222222222222,
              "#7201a8"
             ],
             [
              0.3333333333333333,
              "#9c179e"
             ],
             [
              0.4444444444444444,
              "#bd3786"
             ],
             [
              0.5555555555555556,
              "#d8576b"
             ],
             [
              0.6666666666666666,
              "#ed7953"
             ],
             [
              0.7777777777777778,
              "#fb9f3a"
             ],
             [
              0.8888888888888888,
              "#fdca26"
             ],
             [
              1,
              "#f0f921"
             ]
            ],
            "type": "heatmap"
           }
          ],
          "heatmapgl": [
           {
            "colorbar": {
             "outlinewidth": 0,
             "ticks": ""
            },
            "colorscale": [
             [
              0,
              "#0d0887"
             ],
             [
              0.1111111111111111,
              "#46039f"
             ],
             [
              0.2222222222222222,
              "#7201a8"
             ],
             [
              0.3333333333333333,
              "#9c179e"
             ],
             [
              0.4444444444444444,
              "#bd3786"
             ],
             [
              0.5555555555555556,
              "#d8576b"
             ],
             [
              0.6666666666666666,
              "#ed7953"
             ],
             [
              0.7777777777777778,
              "#fb9f3a"
             ],
             [
              0.8888888888888888,
              "#fdca26"
             ],
             [
              1,
              "#f0f921"
             ]
            ],
            "type": "heatmapgl"
           }
          ],
          "histogram": [
           {
            "marker": {
             "colorbar": {
              "outlinewidth": 0,
              "ticks": ""
             }
            },
            "type": "histogram"
           }
          ],
          "histogram2d": [
           {
            "colorbar": {
             "outlinewidth": 0,
             "ticks": ""
            },
            "colorscale": [
             [
              0,
              "#0d0887"
             ],
             [
              0.1111111111111111,
              "#46039f"
             ],
             [
              0.2222222222222222,
              "#7201a8"
             ],
             [
              0.3333333333333333,
              "#9c179e"
             ],
             [
              0.4444444444444444,
              "#bd3786"
             ],
             [
              0.5555555555555556,
              "#d8576b"
             ],
             [
              0.6666666666666666,
              "#ed7953"
             ],
             [
              0.7777777777777778,
              "#fb9f3a"
             ],
             [
              0.8888888888888888,
              "#fdca26"
             ],
             [
              1,
              "#f0f921"
             ]
            ],
            "type": "histogram2d"
           }
          ],
          "histogram2dcontour": [
           {
            "colorbar": {
             "outlinewidth": 0,
             "ticks": ""
            },
            "colorscale": [
             [
              0,
              "#0d0887"
             ],
             [
              0.1111111111111111,
              "#46039f"
             ],
             [
              0.2222222222222222,
              "#7201a8"
             ],
             [
              0.3333333333333333,
              "#9c179e"
             ],
             [
              0.4444444444444444,
              "#bd3786"
             ],
             [
              0.5555555555555556,
              "#d8576b"
             ],
             [
              0.6666666666666666,
              "#ed7953"
             ],
             [
              0.7777777777777778,
              "#fb9f3a"
             ],
             [
              0.8888888888888888,
              "#fdca26"
             ],
             [
              1,
              "#f0f921"
             ]
            ],
            "type": "histogram2dcontour"
           }
          ],
          "mesh3d": [
           {
            "colorbar": {
             "outlinewidth": 0,
             "ticks": ""
            },
            "type": "mesh3d"
           }
          ],
          "parcoords": [
           {
            "line": {
             "colorbar": {
              "outlinewidth": 0,
              "ticks": ""
             }
            },
            "type": "parcoords"
           }
          ],
          "pie": [
           {
            "automargin": true,
            "type": "pie"
           }
          ],
          "scatter": [
           {
            "marker": {
             "colorbar": {
              "outlinewidth": 0,
              "ticks": ""
             }
            },
            "type": "scatter"
           }
          ],
          "scatter3d": [
           {
            "line": {
             "colorbar": {
              "outlinewidth": 0,
              "ticks": ""
             }
            },
            "marker": {
             "colorbar": {
              "outlinewidth": 0,
              "ticks": ""
             }
            },
            "type": "scatter3d"
           }
          ],
          "scattercarpet": [
           {
            "marker": {
             "colorbar": {
              "outlinewidth": 0,
              "ticks": ""
             }
            },
            "type": "scattercarpet"
           }
          ],
          "scattergeo": [
           {
            "marker": {
             "colorbar": {
              "outlinewidth": 0,
              "ticks": ""
             }
            },
            "type": "scattergeo"
           }
          ],
          "scattergl": [
           {
            "marker": {
             "colorbar": {
              "outlinewidth": 0,
              "ticks": ""
             }
            },
            "type": "scattergl"
           }
          ],
          "scattermapbox": [
           {
            "marker": {
             "colorbar": {
              "outlinewidth": 0,
              "ticks": ""
             }
            },
            "type": "scattermapbox"
           }
          ],
          "scatterpolar": [
           {
            "marker": {
             "colorbar": {
              "outlinewidth": 0,
              "ticks": ""
             }
            },
            "type": "scatterpolar"
           }
          ],
          "scatterpolargl": [
           {
            "marker": {
             "colorbar": {
              "outlinewidth": 0,
              "ticks": ""
             }
            },
            "type": "scatterpolargl"
           }
          ],
          "scatterternary": [
           {
            "marker": {
             "colorbar": {
              "outlinewidth": 0,
              "ticks": ""
             }
            },
            "type": "scatterternary"
           }
          ],
          "surface": [
           {
            "colorbar": {
             "outlinewidth": 0,
             "ticks": ""
            },
            "colorscale": [
             [
              0,
              "#0d0887"
             ],
             [
              0.1111111111111111,
              "#46039f"
             ],
             [
              0.2222222222222222,
              "#7201a8"
             ],
             [
              0.3333333333333333,
              "#9c179e"
             ],
             [
              0.4444444444444444,
              "#bd3786"
             ],
             [
              0.5555555555555556,
              "#d8576b"
             ],
             [
              0.6666666666666666,
              "#ed7953"
             ],
             [
              0.7777777777777778,
              "#fb9f3a"
             ],
             [
              0.8888888888888888,
              "#fdca26"
             ],
             [
              1,
              "#f0f921"
             ]
            ],
            "type": "surface"
           }
          ],
          "table": [
           {
            "cells": {
             "fill": {
              "color": "#EBF0F8"
             },
             "line": {
              "color": "white"
             }
            },
            "header": {
             "fill": {
              "color": "#C8D4E3"
             },
             "line": {
              "color": "white"
             }
            },
            "type": "table"
           }
          ]
         },
         "layout": {
          "annotationdefaults": {
           "arrowcolor": "#2a3f5f",
           "arrowhead": 0,
           "arrowwidth": 1
          },
          "coloraxis": {
           "colorbar": {
            "outlinewidth": 0,
            "ticks": ""
           }
          },
          "colorscale": {
           "diverging": [
            [
             0,
             "#8e0152"
            ],
            [
             0.1,
             "#c51b7d"
            ],
            [
             0.2,
             "#de77ae"
            ],
            [
             0.3,
             "#f1b6da"
            ],
            [
             0.4,
             "#fde0ef"
            ],
            [
             0.5,
             "#f7f7f7"
            ],
            [
             0.6,
             "#e6f5d0"
            ],
            [
             0.7,
             "#b8e186"
            ],
            [
             0.8,
             "#7fbc41"
            ],
            [
             0.9,
             "#4d9221"
            ],
            [
             1,
             "#276419"
            ]
           ],
           "sequential": [
            [
             0,
             "#0d0887"
            ],
            [
             0.1111111111111111,
             "#46039f"
            ],
            [
             0.2222222222222222,
             "#7201a8"
            ],
            [
             0.3333333333333333,
             "#9c179e"
            ],
            [
             0.4444444444444444,
             "#bd3786"
            ],
            [
             0.5555555555555556,
             "#d8576b"
            ],
            [
             0.6666666666666666,
             "#ed7953"
            ],
            [
             0.7777777777777778,
             "#fb9f3a"
            ],
            [
             0.8888888888888888,
             "#fdca26"
            ],
            [
             1,
             "#f0f921"
            ]
           ],
           "sequentialminus": [
            [
             0,
             "#0d0887"
            ],
            [
             0.1111111111111111,
             "#46039f"
            ],
            [
             0.2222222222222222,
             "#7201a8"
            ],
            [
             0.3333333333333333,
             "#9c179e"
            ],
            [
             0.4444444444444444,
             "#bd3786"
            ],
            [
             0.5555555555555556,
             "#d8576b"
            ],
            [
             0.6666666666666666,
             "#ed7953"
            ],
            [
             0.7777777777777778,
             "#fb9f3a"
            ],
            [
             0.8888888888888888,
             "#fdca26"
            ],
            [
             1,
             "#f0f921"
            ]
           ]
          },
          "colorway": [
           "#636efa",
           "#EF553B",
           "#00cc96",
           "#ab63fa",
           "#FFA15A",
           "#19d3f3",
           "#FF6692",
           "#B6E880",
           "#FF97FF",
           "#FECB52"
          ],
          "font": {
           "color": "#2a3f5f"
          },
          "geo": {
           "bgcolor": "white",
           "lakecolor": "white",
           "landcolor": "#E5ECF6",
           "showlakes": true,
           "showland": true,
           "subunitcolor": "white"
          },
          "hoverlabel": {
           "align": "left"
          },
          "hovermode": "closest",
          "mapbox": {
           "style": "light"
          },
          "paper_bgcolor": "white",
          "plot_bgcolor": "#E5ECF6",
          "polar": {
           "angularaxis": {
            "gridcolor": "white",
            "linecolor": "white",
            "ticks": ""
           },
           "bgcolor": "#E5ECF6",
           "radialaxis": {
            "gridcolor": "white",
            "linecolor": "white",
            "ticks": ""
           }
          },
          "scene": {
           "xaxis": {
            "backgroundcolor": "#E5ECF6",
            "gridcolor": "white",
            "gridwidth": 2,
            "linecolor": "white",
            "showbackground": true,
            "ticks": "",
            "zerolinecolor": "white"
           },
           "yaxis": {
            "backgroundcolor": "#E5ECF6",
            "gridcolor": "white",
            "gridwidth": 2,
            "linecolor": "white",
            "showbackground": true,
            "ticks": "",
            "zerolinecolor": "white"
           },
           "zaxis": {
            "backgroundcolor": "#E5ECF6",
            "gridcolor": "white",
            "gridwidth": 2,
            "linecolor": "white",
            "showbackground": true,
            "ticks": "",
            "zerolinecolor": "white"
           }
          },
          "shapedefaults": {
           "line": {
            "color": "#2a3f5f"
           }
          },
          "ternary": {
           "aaxis": {
            "gridcolor": "white",
            "linecolor": "white",
            "ticks": ""
           },
           "baxis": {
            "gridcolor": "white",
            "linecolor": "white",
            "ticks": ""
           },
           "bgcolor": "#E5ECF6",
           "caxis": {
            "gridcolor": "white",
            "linecolor": "white",
            "ticks": ""
           }
          },
          "title": {
           "x": 0.05
          },
          "xaxis": {
           "automargin": true,
           "gridcolor": "white",
           "linecolor": "white",
           "ticks": "",
           "title": {
            "standoff": 15
           },
           "zerolinecolor": "white",
           "zerolinewidth": 2
          },
          "yaxis": {
           "automargin": true,
           "gridcolor": "white",
           "linecolor": "white",
           "ticks": "",
           "title": {
            "standoff": 15
           },
           "zerolinecolor": "white",
           "zerolinewidth": 2
          }
         }
        },
        "title": {
         "text": "Serving Size vs. Protein Per 100 Grams(Interactive Plot)"
        },
        "xaxis": {
         "anchor": "y",
         "domain": [
          0,
          1
         ],
         "title": {
          "text": "Single Serving In Grams"
         }
        },
        "yaxis": {
         "anchor": "x",
         "domain": [
          0,
          1
         ],
         "title": {
          "text": "Total Protein Per 100 Grams"
         }
        }
       }
      },
      "text/html": [
       "<div>\n",
       "        \n",
       "        \n",
       "            <div id=\"21876862-c0cc-4f0c-b376-1259700b90dc\" class=\"plotly-graph-div\" style=\"height:525px; width:100%;\"></div>\n",
       "            <script type=\"text/javascript\">\n",
       "                require([\"plotly\"], function(Plotly) {\n",
       "                    window.PLOTLYENV=window.PLOTLYENV || {};\n",
       "                    \n",
       "                if (document.getElementById(\"21876862-c0cc-4f0c-b376-1259700b90dc\")) {\n",
       "                    Plotly.newPlot(\n",
       "                        '21876862-c0cc-4f0c-b376-1259700b90dc',\n",
       "                        [{\"customdata\": [[\"Oroweat Whole Wheat Bread\"], [\"Cap'n Crunch Crunch Berries\"], [\"Cap'n Crunch \"], [\"Kellogg's Froot Loops\"], [\"Post Honey Bunches of Oats\"], [\"Kellogg's Frosted Flakes\"], [\"General Mills Lucky Charms\"], [\"Ritz Crackers\"], [\"General Mills Fruit By The Foot\"], [\"Welch's Mixed Fruit\"], [\"Heinz Tomato Ketchup No Sugar Added\"], [\"Best Foods Mayonnaise\"], [\"Ball Park Hot Dog Buns\"], [\"Duncan Hines Blueberry Muffin Mug Cake\"], [\"Annie's Organic Macaroni & Cheese Classic Cheddar\"], [\"Kraft Macaroni & Cheese Single Serve\"], [\"Starkist Tuna Creations Ranch\"], [\"Starkist Tuna Creations Sweet & Spicy\"], [\"Starkist Chunk Light Tuna \"], [\"Skippy Creamy Peanut Butter\"], [\"Smuckers Goober Grape\"], [\"Smuckers Goober Strawberry\"], [\"Aunt Jemima Butter Lite Syrup\"], [\"Lactaid 2% Reduced Fat Milk\"], [\"Almond Breeze Almond Milk Unsweetened Vanilla\"], [\"Nestle Coffe Mate French Vanilla Creamer\"], [\"Nestle Coffe Mate French Vanilla Creamer Sugar Free\"], [\"Coca-Cola Diet Coke\"], [\"Danimals Smoothie Strawberry Flavor\"], [\"Danimals Smoothie Birthday Cake Flavor\"], [\"Krusteaz Buttermilk Pancake Mix\"], [\"Quaker Oats Old Fashioned Oats\"], [\"yummy Chicken Breast Nuggets\"], [\"Royal Asia Vegetable Spring Rolls\"], [\"Dole Banana \"], [\"Washington Apple\"], [\"Sun Pacific Navel Orange\"], [\"Cuties Clementine\"], [\"Hoffy Premium Beef Franks\"], [\"Guerrero 12\\\" Grande Flour Tortilla\"], [\"Guerrero Corn Tortillas\"], [\"Ling Ling Pork & Vegetable Dumplings\"], [\"Ling Ling Dumpling Sauce\"], [\"Foster Farms Ground Turkey 93% Lean\"], [\"Belvita Cinnamon Brown Sugar Breakfast Bars\"], [\"Mahatma Extra Long Enriched Rice\"], [\"Kikkoman Less Sodium Soy Sauce\"], [\"Organics Baby Spinach\"], [\"Kikkoman Ponzu Citrus Sauce\"], [\"Marie's Raspberry Vinaigrette \"], [\"Coca-Cola Caffeine Free\"], [\"Lucern Mexican Style 4 Cheese Blend\"], [\"Sabra Organic Simply Roasted Pine Nut Hummus\"], [\"Butterball Sliced Honey Roasted Turkey Breast\"], [\"La Preferida Pinto Beans\"], [\"Foster Farms Boneless Skinless Chicken Breast\"], [\"McDonald's Chicken McNuggets 6 Piece\"], [\"McDonald's Barbeque Sauce\"], [\"McDonald's Small French Fries\"], [\"McDonald's Cheeseburger\"], [\"Carl's Jr Kid's Cheeseburger\"], [\"Carl's Jr Hand Breaded Chicken Tenders 3 Piece\"], [\"Carl's Jr Natural Cut Fries Medium\"], [\"Rubio's Ancho Citrus Shrimp Burrito\"], [\"El Pollo Loco Fire-Grilled Chicken Leg\"], [\"El Pollo Loco Fire-Grilled Chicken Breast\"], [\"El Pollo Loco Macaroni and Cheese Side\"], [\"Large Egg\"], [\"Snickers Bar\"], [\"Pizza Hut Medium Hand Tossed Cheese\"], [\"Pizza Hut Medium Hand Tossed Pepperoni\"], [\"Baskin Robbins Rainbow Sherbet\"], [\"Medium Avocado\"], [\"Quaker Simply Granola Oats, Honey, Raisins, Almonds\"]], \"hoverlabel\": {\"namelength\": 0}, \"hovertemplate\": \"Single Serving In Grams=%{x}<br>Total Protein Per 100 Grams=%{y}<br>food_item=%{customdata[0]}\", \"legendgroup\": \"\", \"marker\": {\"color\": \"#636efa\", \"symbol\": \"circle\"}, \"mode\": \"markers\", \"name\": \"\", \"showlegend\": false, \"type\": \"scatter\", \"x\": [38.0, 37.0, 38.0, 39.0, 42.0, 40.0, 36.0, 16.0, 21.0, 22.7, 16.0, 13.0, 50.0, 65.0, 71.0, 58.0, 74.0, 74.0, 74.0, 32.0, 56.0, 56.0, 30.0, 240.0, 240.0, 15.0, 15.0, 500.0, 93.0, 93.0, 59.0, 40.0, 83.0, 113.0, 118.0, 242.0, 140.0, 88.0, 56.0, 96.0, 47.0, 146.0, 17.0, 112.0, 50.0, 45.0, 15.0, 100.0, 15.0, 32.0, 355.0, 28.0, 28.0, 28.0, 36.0, 112.0, 97.0, 28.0, 71.0, 114.0, 123.0, 128.0, 147.0, 449.0, 45.4, 121.9, 170.0, 50.0, 44.0, 84.0, 83.0, 71.0, 50.0, 68.0], \"xaxis\": \"x\", \"y\": [10.526315789473683, 5.405405405405405, 5.263157894736842, 5.128205128205128, 7.142857142857142, 5.0, 8.333333333333332, 6.1875, 0.0, 4.405286343612335, 0.0, 0.0, 8.0, 6.153846153846154, 12.676056338028168, 12.068965517241379, 20.27027027027027, 21.62162162162162, 22.972972972972975, 21.875, 8.928571428571429, 8.928571428571429, 0.0, 3.3333333333333335, 0.4166666666666667, 0.0, 0.0, 0.0, 2.1505376344086025, 2.1505376344086025, 6.779661016949152, 12.5, 12.048192771084338, 6.1946902654867255, 0.847457627118644, 0.4132231404958678, 0.7142857142857143, 1.1363636363636365, 12.5, 7.291666666666667, 4.25531914893617, 8.21917808219178, 0.0, 17.857142857142858, 8.0, 6.666666666666667, 6.666666666666667, 3.0, 6.6000000000000005, 0.0, 0.0, 21.428571428571427, 7.142857142857142, 17.857142857142858, 19.444444444444446, 22.321428571428573, 13.402061855670103, 0.0, 4.225352112676056, 13.157894736842104, 11.38211382113821, 19.53125, 3.4013605442176873, 5.79064587973274, 26.431718061674008, 29.532403609515995, 5.294117647058823, 12.0, 6.8181818181818175, 11.904761904761903, 12.048192771084338, 1.4084507042253522, 2.0, 10.294117647058822], \"yaxis\": \"y\"}],\n",
       "                        {\"legend\": {\"tracegroupgap\": 0}, \"template\": {\"data\": {\"bar\": [{\"error_x\": {\"color\": \"#2a3f5f\"}, \"error_y\": {\"color\": \"#2a3f5f\"}, \"marker\": {\"line\": {\"color\": \"#E5ECF6\", \"width\": 0.5}}, \"type\": \"bar\"}], \"barpolar\": [{\"marker\": {\"line\": {\"color\": \"#E5ECF6\", \"width\": 0.5}}, \"type\": \"barpolar\"}], \"carpet\": [{\"aaxis\": {\"endlinecolor\": \"#2a3f5f\", \"gridcolor\": \"white\", \"linecolor\": \"white\", \"minorgridcolor\": \"white\", \"startlinecolor\": \"#2a3f5f\"}, \"baxis\": {\"endlinecolor\": \"#2a3f5f\", \"gridcolor\": \"white\", \"linecolor\": \"white\", \"minorgridcolor\": \"white\", \"startlinecolor\": \"#2a3f5f\"}, \"type\": \"carpet\"}], \"choropleth\": [{\"colorbar\": {\"outlinewidth\": 0, \"ticks\": \"\"}, \"type\": \"choropleth\"}], \"contour\": [{\"colorbar\": {\"outlinewidth\": 0, \"ticks\": \"\"}, \"colorscale\": [[0.0, \"#0d0887\"], [0.1111111111111111, \"#46039f\"], [0.2222222222222222, \"#7201a8\"], [0.3333333333333333, \"#9c179e\"], [0.4444444444444444, \"#bd3786\"], [0.5555555555555556, \"#d8576b\"], [0.6666666666666666, \"#ed7953\"], [0.7777777777777778, \"#fb9f3a\"], [0.8888888888888888, \"#fdca26\"], [1.0, \"#f0f921\"]], \"type\": \"contour\"}], \"contourcarpet\": [{\"colorbar\": {\"outlinewidth\": 0, \"ticks\": \"\"}, \"type\": \"contourcarpet\"}], \"heatmap\": [{\"colorbar\": {\"outlinewidth\": 0, \"ticks\": \"\"}, \"colorscale\": [[0.0, \"#0d0887\"], [0.1111111111111111, \"#46039f\"], [0.2222222222222222, \"#7201a8\"], [0.3333333333333333, \"#9c179e\"], [0.4444444444444444, \"#bd3786\"], [0.5555555555555556, \"#d8576b\"], [0.6666666666666666, \"#ed7953\"], [0.7777777777777778, \"#fb9f3a\"], [0.8888888888888888, \"#fdca26\"], [1.0, \"#f0f921\"]], \"type\": \"heatmap\"}], \"heatmapgl\": [{\"colorbar\": {\"outlinewidth\": 0, \"ticks\": \"\"}, \"colorscale\": [[0.0, \"#0d0887\"], [0.1111111111111111, \"#46039f\"], [0.2222222222222222, \"#7201a8\"], [0.3333333333333333, \"#9c179e\"], [0.4444444444444444, \"#bd3786\"], [0.5555555555555556, \"#d8576b\"], [0.6666666666666666, \"#ed7953\"], [0.7777777777777778, \"#fb9f3a\"], [0.8888888888888888, \"#fdca26\"], [1.0, \"#f0f921\"]], \"type\": \"heatmapgl\"}], \"histogram\": [{\"marker\": {\"colorbar\": {\"outlinewidth\": 0, \"ticks\": \"\"}}, \"type\": \"histogram\"}], \"histogram2d\": [{\"colorbar\": {\"outlinewidth\": 0, \"ticks\": \"\"}, \"colorscale\": [[0.0, \"#0d0887\"], [0.1111111111111111, \"#46039f\"], [0.2222222222222222, \"#7201a8\"], [0.3333333333333333, \"#9c179e\"], [0.4444444444444444, \"#bd3786\"], [0.5555555555555556, \"#d8576b\"], [0.6666666666666666, \"#ed7953\"], [0.7777777777777778, \"#fb9f3a\"], [0.8888888888888888, \"#fdca26\"], [1.0, \"#f0f921\"]], \"type\": \"histogram2d\"}], \"histogram2dcontour\": [{\"colorbar\": {\"outlinewidth\": 0, \"ticks\": \"\"}, \"colorscale\": [[0.0, \"#0d0887\"], [0.1111111111111111, \"#46039f\"], [0.2222222222222222, \"#7201a8\"], [0.3333333333333333, \"#9c179e\"], [0.4444444444444444, \"#bd3786\"], [0.5555555555555556, \"#d8576b\"], [0.6666666666666666, \"#ed7953\"], [0.7777777777777778, \"#fb9f3a\"], [0.8888888888888888, \"#fdca26\"], [1.0, \"#f0f921\"]], \"type\": \"histogram2dcontour\"}], \"mesh3d\": [{\"colorbar\": {\"outlinewidth\": 0, \"ticks\": \"\"}, \"type\": \"mesh3d\"}], \"parcoords\": [{\"line\": {\"colorbar\": {\"outlinewidth\": 0, \"ticks\": \"\"}}, \"type\": \"parcoords\"}], \"pie\": [{\"automargin\": true, \"type\": \"pie\"}], \"scatter\": [{\"marker\": {\"colorbar\": {\"outlinewidth\": 0, \"ticks\": \"\"}}, \"type\": \"scatter\"}], \"scatter3d\": [{\"line\": {\"colorbar\": {\"outlinewidth\": 0, \"ticks\": \"\"}}, \"marker\": {\"colorbar\": {\"outlinewidth\": 0, \"ticks\": \"\"}}, \"type\": \"scatter3d\"}], \"scattercarpet\": [{\"marker\": {\"colorbar\": {\"outlinewidth\": 0, \"ticks\": \"\"}}, \"type\": \"scattercarpet\"}], \"scattergeo\": [{\"marker\": {\"colorbar\": {\"outlinewidth\": 0, \"ticks\": \"\"}}, \"type\": \"scattergeo\"}], \"scattergl\": [{\"marker\": {\"colorbar\": {\"outlinewidth\": 0, \"ticks\": \"\"}}, \"type\": \"scattergl\"}], \"scattermapbox\": [{\"marker\": {\"colorbar\": {\"outlinewidth\": 0, \"ticks\": \"\"}}, \"type\": \"scattermapbox\"}], \"scatterpolar\": [{\"marker\": {\"colorbar\": {\"outlinewidth\": 0, \"ticks\": \"\"}}, \"type\": \"scatterpolar\"}], \"scatterpolargl\": [{\"marker\": {\"colorbar\": {\"outlinewidth\": 0, \"ticks\": \"\"}}, \"type\": \"scatterpolargl\"}], \"scatterternary\": [{\"marker\": {\"colorbar\": {\"outlinewidth\": 0, \"ticks\": \"\"}}, \"type\": \"scatterternary\"}], \"surface\": [{\"colorbar\": {\"outlinewidth\": 0, \"ticks\": \"\"}, \"colorscale\": [[0.0, \"#0d0887\"], [0.1111111111111111, \"#46039f\"], [0.2222222222222222, \"#7201a8\"], [0.3333333333333333, \"#9c179e\"], [0.4444444444444444, \"#bd3786\"], [0.5555555555555556, \"#d8576b\"], [0.6666666666666666, \"#ed7953\"], [0.7777777777777778, \"#fb9f3a\"], [0.8888888888888888, \"#fdca26\"], [1.0, \"#f0f921\"]], \"type\": \"surface\"}], \"table\": [{\"cells\": {\"fill\": {\"color\": \"#EBF0F8\"}, \"line\": {\"color\": \"white\"}}, \"header\": {\"fill\": {\"color\": \"#C8D4E3\"}, \"line\": {\"color\": \"white\"}}, \"type\": \"table\"}]}, \"layout\": {\"annotationdefaults\": {\"arrowcolor\": \"#2a3f5f\", \"arrowhead\": 0, \"arrowwidth\": 1}, \"coloraxis\": {\"colorbar\": {\"outlinewidth\": 0, \"ticks\": \"\"}}, \"colorscale\": {\"diverging\": [[0, \"#8e0152\"], [0.1, \"#c51b7d\"], [0.2, \"#de77ae\"], [0.3, \"#f1b6da\"], [0.4, \"#fde0ef\"], [0.5, \"#f7f7f7\"], [0.6, \"#e6f5d0\"], [0.7, \"#b8e186\"], [0.8, \"#7fbc41\"], [0.9, \"#4d9221\"], [1, \"#276419\"]], \"sequential\": [[0.0, \"#0d0887\"], [0.1111111111111111, \"#46039f\"], [0.2222222222222222, \"#7201a8\"], [0.3333333333333333, \"#9c179e\"], [0.4444444444444444, \"#bd3786\"], [0.5555555555555556, \"#d8576b\"], [0.6666666666666666, \"#ed7953\"], [0.7777777777777778, \"#fb9f3a\"], [0.8888888888888888, \"#fdca26\"], [1.0, \"#f0f921\"]], \"sequentialminus\": [[0.0, \"#0d0887\"], [0.1111111111111111, \"#46039f\"], [0.2222222222222222, \"#7201a8\"], [0.3333333333333333, \"#9c179e\"], [0.4444444444444444, \"#bd3786\"], [0.5555555555555556, \"#d8576b\"], [0.6666666666666666, \"#ed7953\"], [0.7777777777777778, \"#fb9f3a\"], [0.8888888888888888, \"#fdca26\"], [1.0, \"#f0f921\"]]}, \"colorway\": [\"#636efa\", \"#EF553B\", \"#00cc96\", \"#ab63fa\", \"#FFA15A\", \"#19d3f3\", \"#FF6692\", \"#B6E880\", \"#FF97FF\", \"#FECB52\"], \"font\": {\"color\": \"#2a3f5f\"}, \"geo\": {\"bgcolor\": \"white\", \"lakecolor\": \"white\", \"landcolor\": \"#E5ECF6\", \"showlakes\": true, \"showland\": true, \"subunitcolor\": \"white\"}, \"hoverlabel\": {\"align\": \"left\"}, \"hovermode\": \"closest\", \"mapbox\": {\"style\": \"light\"}, \"paper_bgcolor\": \"white\", \"plot_bgcolor\": \"#E5ECF6\", \"polar\": {\"angularaxis\": {\"gridcolor\": \"white\", \"linecolor\": \"white\", \"ticks\": \"\"}, \"bgcolor\": \"#E5ECF6\", \"radialaxis\": {\"gridcolor\": \"white\", \"linecolor\": \"white\", \"ticks\": \"\"}}, \"scene\": {\"xaxis\": {\"backgroundcolor\": \"#E5ECF6\", \"gridcolor\": \"white\", \"gridwidth\": 2, \"linecolor\": \"white\", \"showbackground\": true, \"ticks\": \"\", \"zerolinecolor\": \"white\"}, \"yaxis\": {\"backgroundcolor\": \"#E5ECF6\", \"gridcolor\": \"white\", \"gridwidth\": 2, \"linecolor\": \"white\", \"showbackground\": true, \"ticks\": \"\", \"zerolinecolor\": \"white\"}, \"zaxis\": {\"backgroundcolor\": \"#E5ECF6\", \"gridcolor\": \"white\", \"gridwidth\": 2, \"linecolor\": \"white\", \"showbackground\": true, \"ticks\": \"\", \"zerolinecolor\": \"white\"}}, \"shapedefaults\": {\"line\": {\"color\": \"#2a3f5f\"}}, \"ternary\": {\"aaxis\": {\"gridcolor\": \"white\", \"linecolor\": \"white\", \"ticks\": \"\"}, \"baxis\": {\"gridcolor\": \"white\", \"linecolor\": \"white\", \"ticks\": \"\"}, \"bgcolor\": \"#E5ECF6\", \"caxis\": {\"gridcolor\": \"white\", \"linecolor\": \"white\", \"ticks\": \"\"}}, \"title\": {\"x\": 0.05}, \"xaxis\": {\"automargin\": true, \"gridcolor\": \"white\", \"linecolor\": \"white\", \"ticks\": \"\", \"title\": {\"standoff\": 15}, \"zerolinecolor\": \"white\", \"zerolinewidth\": 2}, \"yaxis\": {\"automargin\": true, \"gridcolor\": \"white\", \"linecolor\": \"white\", \"ticks\": \"\", \"title\": {\"standoff\": 15}, \"zerolinecolor\": \"white\", \"zerolinewidth\": 2}}}, \"title\": {\"text\": \"Serving Size vs. Protein Per 100 Grams(Interactive Plot)\"}, \"xaxis\": {\"anchor\": \"y\", \"domain\": [0.0, 1.0], \"title\": {\"text\": \"Single Serving In Grams\"}}, \"yaxis\": {\"anchor\": \"x\", \"domain\": [0.0, 1.0], \"title\": {\"text\": \"Total Protein Per 100 Grams\"}}},\n",
       "                        {\"responsive\": true}\n",
       "                    ).then(function(){\n",
       "                            \n",
       "var gd = document.getElementById('21876862-c0cc-4f0c-b376-1259700b90dc');\n",
       "var x = new MutationObserver(function (mutations, observer) {{\n",
       "        var display = window.getComputedStyle(gd).display;\n",
       "        if (!display || display === 'none') {{\n",
       "            console.log([gd, 'removed!']);\n",
       "            Plotly.purge(gd);\n",
       "            observer.disconnect();\n",
       "        }}\n",
       "}});\n",
       "\n",
       "// Listen for the removal of the full notebook cells\n",
       "var notebookContainer = gd.closest('#notebook-container');\n",
       "if (notebookContainer) {{\n",
       "    x.observe(notebookContainer, {childList: true});\n",
       "}}\n",
       "\n",
       "// Listen for the clearing of the current output cell\n",
       "var outputEl = gd.closest('.output');\n",
       "if (outputEl) {{\n",
       "    x.observe(outputEl, {childList: true});\n",
       "}}\n",
       "\n",
       "                        })\n",
       "                };\n",
       "                });\n",
       "            </script>\n",
       "        </div>"
      ]
     },
     "metadata": {},
     "output_type": "display_data"
    }
   ],
   "source": [
    "\"hide_input\"\n",
    "protein_fig = px.scatter(protein,x='serving_measurement_g',y='protein_per_100g',hover_data=['food_item'],\n",
    "                         labels = {'serving_measurement_g':'Single Serving In Grams','protein_per_100g':'Total Protein Per 100 Grams'},\n",
    "                         title='Serving Size vs. Protein Per 100 Grams(Interactive Plot)')\n",
    "protein_fig.show()"
   ]
  },
  {
   "cell_type": "markdown",
   "metadata": {},
   "source": [
    "There isn't a whole lot of surprise from the protein results but I was surprised to see the El Pollo Loco Chicken Breast to have the highest protein content. I expected either the Foster Farms Chicken Breast or Foster Farms Ground Turkey to contain the most protein.\n",
    "\n",
    "One other surprise to me is how little protein the Ancho Citrus Burrito has, especially in comparison to the amount of fat and carbohydrates it contains. \n",
    "\n",
    "The rest of the high protein items are what I expected being lean meat, fish, or legumes."
   ]
  },
  {
   "cell_type": "markdown",
   "metadata": {},
   "source": [
    "## Conclusion\n",
    "\n",
    "The first thing I conclude from this analysis is that I should definitely reconsider ordering the Ancho Citrus Shrimp Burrito since it does not seem nutritionally worth it to me. Additionally I want to avoid cereal as much as possible due to the high content of added sugar in a single serving alone. \n",
    "\n",
    "Overall, anything in excess can be detrimental and moderation is important in sustaining nutrition. No one of the cautious items will destroy nutrition the same as no single non-cautious item will fix nutrition, the critical part is to maintain balance."
   ]
  },
  {
   "cell_type": "markdown",
   "metadata": {},
   "source": [
    "### Resources\n",
    "\n",
    "[1]  A link to an overview provided by USDA for more resources related to macronutrients: \n",
    "\n",
    "https://www.nal.usda.gov/fnic/macronutrients \n",
    "\n",
    "[2]  A link to to the Dietary Reference Intake for macronutrients(A consensus study publication):\n",
    "\n",
    "https://www.nap.edu/catalog/10490/dietary-reference-intakes-for-energy-carbohydrate-fiber-fat-fatty-acids-cholesterol-protein-and-amino-acids \n",
    "\n",
    "[3]  A link to current USDA dietary guidelines which focus more on substance of foods(vegetables, fruits, etc.) consumed as opposed to simply the macronutrients:\n",
    "\n",
    "https://health.gov/our-work/food-nutrition/2015-2020-dietary-guidelines\n",
    "\n",
    "[4]  A link for a macronutrient calculator:\n",
    "\n",
    "https://www.calculator.net/macro-calculator.html\n",
    "\n",
    "[5]  A link to an article on sugar intake:\n",
    "\n",
    "https://www.heart.org/en/healthy-living/healthy-eating/eat-smart/sugar/added-sugars#:~:text=The%20American%20Heart%20Association%20\n",
    "\n",
    "[6]  A link to an article on protein intake:\n",
    "\n",
    "https://www.healthline.com/health/too-much-protein"
   ]
  }
 ],
 "metadata": {
  "kernelspec": {
   "display_name": "Python 3",
   "language": "python",
   "name": "python3"
  },
  "language_info": {
   "codemirror_mode": {
    "name": "ipython",
    "version": 3
   },
   "file_extension": ".py",
   "mimetype": "text/x-python",
   "name": "python",
   "nbconvert_exporter": "python",
   "pygments_lexer": "ipython3",
   "version": "3.7.3"
  }
 },
 "nbformat": 4,
 "nbformat_minor": 4
}
